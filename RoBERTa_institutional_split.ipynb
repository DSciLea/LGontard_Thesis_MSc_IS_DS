{
  "cells": [
    {
      "cell_type": "markdown",
      "metadata": {
        "id": "qOcce0v7Jwyj"
      },
      "source": [
        "# Imports and preparation"
      ]
    },
    {
      "cell_type": "code",
      "execution_count": null,
      "metadata": {
        "id": "BV23U_HhJ0x-"
      },
      "outputs": [],
      "source": [
        "import pandas as pd\n",
        "import numpy as np\n",
        "import re\n",
        "import torch\n",
        "import nltk\n",
        "import logging\n",
        "import time\n",
        "import matplotlib.pyplot as plt\n",
        "import seaborn as sns\n",
        "import math\n",
        "\n",
        "# Transformer model\n",
        "from transformers import RobertaModel, RobertaTokenizer\n",
        "\n",
        "# Preprocessing\n",
        "from typing import List\n",
        "from nltk.corpus import stopwords\n",
        "from nltk.tokenize import sent_tokenize\n",
        "from ast import literal_eval\n",
        "from collections import OrderedDict\n",
        "\n",
        "# Stat. tests\n",
        "from scipy.stats import shapiro, levene, ttest_ind\n",
        "from torch.nn.functional import cosine_similarity\n",
        "from scipy import stats\n",
        "from scipy.stats import spearmanr\n",
        "from scipy.stats import mannwhitneyu\n",
        "from scipy.stats import ranksums\n"
      ]
    },
    {
      "cell_type": "code",
      "execution_count": null,
      "metadata": {
        "colab": {
          "base_uri": "https://localhost:8080/"
        },
        "id": "Rha_mRAxPW7U",
        "outputId": "efd46d85-d9f6-4184-a902-ce0a642abddb"
      },
      "outputs": [
        {
          "output_type": "stream",
          "name": "stderr",
          "text": [
            "[nltk_data] Downloading package punkt to /root/nltk_data...\n",
            "[nltk_data]   Unzipping tokenizers/punkt.zip.\n",
            "[nltk_data] Downloading package stopwords to /root/nltk_data...\n",
            "[nltk_data]   Unzipping corpora/stopwords.zip.\n"
          ]
        },
        {
          "output_type": "execute_result",
          "data": {
            "text/plain": [
              "True"
            ]
          },
          "metadata": {},
          "execution_count": 3
        }
      ],
      "source": [
        "nltk.download('punkt')\n",
        "nltk.download('stopwords')"
      ]
    },
    {
      "cell_type": "code",
      "execution_count": null,
      "metadata": {
        "id": "hS5iAwx9fD12"
      },
      "outputs": [],
      "source": [
        "# Variable:\n",
        "# The variable we use to determine under which government an intervention\n",
        "# took place\n",
        "government = 'Institutional_Split'"
      ]
    },
    {
      "cell_type": "code",
      "execution_count": null,
      "metadata": {
        "colab": {
          "referenced_widgets": [
            "a104746c4f6543b9a111333508c11364",
            "6569a87159ec4347bcd96e5602a4527d",
            "69c3882098f4419c8ab689cc9947d6a5",
            "2052c0b955de40e08ca83579807348dc",
            "c2388df61f2e43beb54dbb9bbd1aa850",
            "52b8f63404cb4da9918a1b7d3a0da99c",
            "d2deffe859b0430eb95d2b65caf73264",
            "82ac42c355c645ec825cc1e3f727925a",
            "1b172e478ef54346aeeefc5c08413116",
            "10ac9993e6684a318984262c1a6fe4e3",
            "7efbf864960149e58460298188d3687e",
            "1175eee55d09488aa4358539a3dd37ec",
            "eac4d5e90050432bb9c1a0ef2b34dc1a",
            "8fb5bc83b4924143be377350920939dd",
            "9ad5e91b84ec4d7fb7b8aa0bde325aa2",
            "0c686dc2fd334dc296f5509b7291519b",
            "cf7509552dd9408084a624b4ec43ced9",
            "1cf64cf57d5641bb9abcaf8aafce148e",
            "40bc8d0cb3e644238b70431739d5252b",
            "002ddc74adc14bc8a56ebdf43bef5ebd",
            "9c978004f41d4fe99e2efa930f1c3c52",
            "668edee5f52c406282aa0252804d48a3",
            "7935bfd59dd348f5b71e0511dcf179ec",
            "10af0dbd7e164965aeb7cb261bc3989a",
            "55130941beb4436ba53f00ca2c248596",
            "5e84c452fec1405792a6247e188435b8",
            "d72522833d544c2e8790532a4fd51c84",
            "82cb23aac05144e596e88f27b85b326d",
            "9afa062eee564267a76a281ddbcfc80f",
            "a71ce3992df142f89a6c88f88d685a09",
            "40fedce09f944c1bb48d01449bdf4d2b",
            "1828875f6e6f40dda8c43f815ca4e268",
            "c746b8fb16e14599a2a128c14e73fdf7",
            "64153121b4f0403f80c12b5282fc59d4",
            "b5ba2d6b38f845cd90668f754e7d6c9c",
            "ef0bdd6afbad425b93d602a145c8c956",
            "08a725eb9d1842c4b6c510c9f78489d2",
            "ae5e11ce9a8a4d738a6b4b0e8c75b589",
            "942e33066d184c568fed770289f78bb3",
            "e329b76b4e334bb093bd50ba69df684f",
            "fbbc96b024a347b7bde618b425a478fd",
            "609481668e74486a9fc81989b71784ed",
            "c7a5a0fb0caf4d5ca643108218897d10",
            "5c749331e65f4d568434df64c132d355",
            "ce1277af2dce46568588e7937a2be8df",
            "3a89a7aa62a74498b2db19ad27d280e0",
            "bb0b8001fbe84ca7bebcd99ab715e499",
            "f3a6908abea6494e836b363a0ec7323a",
            "0e5771d4020741318d1c833f469ac3d3",
            "d77d9ebd7d9241c2b3dddcfde16833a0",
            "13a0cb09a6ca44a9bddfcf05967c1b27",
            "d2f1a78c34db48478a0dfc3d940b4661",
            "170e49a652c44913bad23e41f165c77f",
            "b5b9651eb66644e8985c695285158021",
            "70bf49f8174740cd9814963ffa51d038",
            "69163c7f3c6a422982e4f7ecbcc4e489",
            "d9c08537fccd475fb7e04f099707ef60",
            "4458b7b4d0b24aadb3bf657fa4e6f2d2",
            "85e88bc3cc3346e2943b4a6cec16140e",
            "c78a3810017b4b07a73a068d20f8a14d",
            "620d3037e0894be7ae3bc625c10745b7",
            "6ceefe7174f54676a1504b1154620008",
            "4f834fb47097411e9fece1805dd2e492",
            "b384d44144d245dba40edf045d3b30b7",
            "ec57e3b3695a4bd9888713ab6bf872b4",
            "8eb000c814c74dea83a1b7047055def3"
          ],
          "base_uri": "https://localhost:8080/",
          "height": 365
        },
        "id": "_sk-wD5I6VTp",
        "outputId": "13515cda-b1d9-45d0-a692-b1f501148675"
      },
      "outputs": [
        {
          "output_type": "stream",
          "name": "stderr",
          "text": [
            "/usr/local/lib/python3.10/dist-packages/huggingface_hub/utils/_token.py:89: UserWarning: \n",
            "The secret `HF_TOKEN` does not exist in your Colab secrets.\n",
            "To authenticate with the Hugging Face Hub, create a token in your settings tab (https://huggingface.co/settings/tokens), set it as secret in your Google Colab and restart your session.\n",
            "You will be able to reuse this secret in all of your notebooks.\n",
            "Please note that authentication is recommended but still optional to access public models or datasets.\n",
            "  warnings.warn(\n"
          ]
        },
        {
          "output_type": "display_data",
          "data": {
            "text/plain": [
              "config.json:   0%|          | 0.00/481 [00:00<?, ?B/s]"
            ],
            "application/vnd.jupyter.widget-view+json": {
              "version_major": 2,
              "version_minor": 0,
              "model_id": "a104746c4f6543b9a111333508c11364"
            }
          },
          "metadata": {}
        },
        {
          "output_type": "display_data",
          "data": {
            "text/plain": [
              "model.safetensors:   0%|          | 0.00/499M [00:00<?, ?B/s]"
            ],
            "application/vnd.jupyter.widget-view+json": {
              "version_major": 2,
              "version_minor": 0,
              "model_id": "1175eee55d09488aa4358539a3dd37ec"
            }
          },
          "metadata": {}
        },
        {
          "output_type": "stream",
          "name": "stderr",
          "text": [
            "Some weights of RobertaModel were not initialized from the model checkpoint at roberta-base and are newly initialized: ['roberta.pooler.dense.bias', 'roberta.pooler.dense.weight']\n",
            "You should probably TRAIN this model on a down-stream task to be able to use it for predictions and inference.\n"
          ]
        },
        {
          "output_type": "display_data",
          "data": {
            "text/plain": [
              "tokenizer_config.json:   0%|          | 0.00/25.0 [00:00<?, ?B/s]"
            ],
            "application/vnd.jupyter.widget-view+json": {
              "version_major": 2,
              "version_minor": 0,
              "model_id": "7935bfd59dd348f5b71e0511dcf179ec"
            }
          },
          "metadata": {}
        },
        {
          "output_type": "display_data",
          "data": {
            "text/plain": [
              "vocab.json:   0%|          | 0.00/899k [00:00<?, ?B/s]"
            ],
            "application/vnd.jupyter.widget-view+json": {
              "version_major": 2,
              "version_minor": 0,
              "model_id": "64153121b4f0403f80c12b5282fc59d4"
            }
          },
          "metadata": {}
        },
        {
          "output_type": "display_data",
          "data": {
            "text/plain": [
              "merges.txt:   0%|          | 0.00/456k [00:00<?, ?B/s]"
            ],
            "application/vnd.jupyter.widget-view+json": {
              "version_major": 2,
              "version_minor": 0,
              "model_id": "ce1277af2dce46568588e7937a2be8df"
            }
          },
          "metadata": {}
        },
        {
          "output_type": "display_data",
          "data": {
            "text/plain": [
              "tokenizer.json:   0%|          | 0.00/1.36M [00:00<?, ?B/s]"
            ],
            "application/vnd.jupyter.widget-view+json": {
              "version_major": 2,
              "version_minor": 0,
              "model_id": "69163c7f3c6a422982e4f7ecbcc4e489"
            }
          },
          "metadata": {}
        }
      ],
      "source": [
        "# Model\n",
        "model = RobertaModel.from_pretrained('roberta-base', output_hidden_states=True)\n",
        "tokenizer = RobertaTokenizer.from_pretrained('roberta-base')"
      ]
    },
    {
      "cell_type": "code",
      "execution_count": null,
      "metadata": {
        "colab": {
          "base_uri": "https://localhost:8080/"
        },
        "id": "GjWz9iZC6z3h",
        "outputId": "1e5bcc85-3a5a-4699-cf92-aed698306832"
      },
      "outputs": [
        {
          "output_type": "stream",
          "name": "stdout",
          "text": [
            "Requirement already satisfied: scipy in /usr/local/lib/python3.10/dist-packages (1.11.4)\n",
            "Requirement already satisfied: numpy<1.28.0,>=1.21.6 in /usr/local/lib/python3.10/dist-packages (from scipy) (1.25.2)\n"
          ]
        }
      ],
      "source": [
        "pip install scipy"
      ]
    },
    {
      "cell_type": "markdown",
      "metadata": {
        "id": "qj6i0QPEbh5P"
      },
      "source": [
        "# Connect to drive"
      ]
    },
    {
      "cell_type": "markdown",
      "source": [
        "We used google drive and google colab to access and process the data."
      ],
      "metadata": {
        "id": "jgMGmI-DIb2e"
      }
    },
    {
      "cell_type": "code",
      "execution_count": null,
      "metadata": {
        "colab": {
          "base_uri": "https://localhost:8080/"
        },
        "id": "a3Wd3sGRbkHs",
        "outputId": "bdd37039-cf81-4fcd-f4cc-a9157a1a2f60"
      },
      "outputs": [
        {
          "output_type": "stream",
          "name": "stdout",
          "text": [
            "Mounted at /content/drive\n"
          ]
        }
      ],
      "source": [
        "# Mount drive\n",
        "from google.colab import drive\n",
        "drive.mount('/content/drive')"
      ]
    },
    {
      "cell_type": "markdown",
      "source": [
        "# Introduction"
      ],
      "metadata": {
        "id": "vJVamgleno-5"
      }
    },
    {
      "cell_type": "markdown",
      "source": [
        "This narrative aims to explore the use of **RoBERTa** to generate word contextualized embeddings to compute politicization score of keywords, and then generalize them to the reports' level.\n",
        "\n",
        "We are dividing the reports relative to the political administrations they were mainly conducted under (Republican or Democrat) using the *Institutional Split*. This split is based on the three main political bodies of a government: the President, the Senate, and the House of Congress.\n",
        "\n",
        "The scores of keywords will be evaluated using the Wilcoxon rank-sum test, and the scores of reports will be evaluated using the Spearman test.\n",
        "\n",
        "This is one out of 4 narratives:\n",
        "* BERT and *Institutional Split* (1/4)\n",
        "* BERT and *Presidential Split* (2/4)\n",
        "* RoBERTa and *Institutional Split* (3/4) <--\n",
        "* RoBERTa and *Presidential Split* (4/4)"
      ],
      "metadata": {
        "id": "3W3nPztunq4a"
      }
    },
    {
      "cell_type": "markdown",
      "metadata": {
        "id": "fhr9ZGI7b03I"
      },
      "source": [
        "# Data loading"
      ]
    },
    {
      "cell_type": "markdown",
      "metadata": {
        "id": "epqZHg5Y-tYC"
      },
      "source": [
        "## Politicization dataframe"
      ]
    },
    {
      "cell_type": "markdown",
      "source": [
        "We load the data and inspect the shape and columns."
      ],
      "metadata": {
        "id": "RZ9esUk2AEVg"
      }
    },
    {
      "cell_type": "code",
      "execution_count": null,
      "metadata": {
        "id": "QK9_-5kNb2q1",
        "colab": {
          "base_uri": "https://localhost:8080/"
        },
        "outputId": "8b90fc42-e3e0-4029-a2fa-1c7f30278f18"
      },
      "outputs": [
        {
          "output_type": "stream",
          "name": "stdout",
          "text": [
            "Shape of df_politicization: (99, 52)\n"
          ]
        }
      ],
      "source": [
        "PATH_DF = \"/content/drive/MyDrive/MyThesis/df_politicization_2_gov_splits.xlsx\"\n",
        "\n",
        "# we read and convert the 'Projects' sheet into a DataFrame\n",
        "df_politicization = pd.read_excel(PATH_DF)\n",
        "\n",
        "# Inspecting the shape\n",
        "print(f\"Shape of df_politicization: {df_politicization.shape}\")"
      ]
    },
    {
      "cell_type": "markdown",
      "source": [
        "There are 99 reports and 52 features."
      ],
      "metadata": {
        "id": "-XJdb4TLoCNr"
      }
    },
    {
      "cell_type": "code",
      "execution_count": null,
      "metadata": {
        "colab": {
          "base_uri": "https://localhost:8080/"
        },
        "id": "tfjmombGcRRZ",
        "outputId": "d929c7ec-61d1-4462-d3d7-11ca56da4f8d"
      },
      "outputs": [
        {
          "output_type": "execute_result",
          "data": {
            "text/plain": [
              "Index(['Document ID', 'Text', 'Document Type', 'Authoring Organization(s)',\n",
              "       'Sponsoring Organization(s)', 'Pagination', 'Contract/Grant Number(s)',\n",
              "       'Country/Region Name', 'Publication Date', 'Year Start', 'Year End',\n",
              "       'President_Start', 'Senate_Start', 'House_Start', 'PSH_Start',\n",
              "       'DivGov_Start', 'President_End', 'Senate_End', 'House_End', 'PSH_End',\n",
              "       'DivGov_End', 'Project_Duration', 'DivGov_ProjectYears',\n",
              "       'DivGov_FractionProject', 'DemPres_ProjectYears',\n",
              "       'DemPres_FractionProject', 'DemSen_ProjectYears',\n",
              "       'DemSen_FractionProject', 'DemHouse_ProjectYears',\n",
              "       'DemHouse_ProjectFraction', 'DivGov_MajorityProject',\n",
              "       'DemPres_MajorityProject', 'Month Start', 'Month End',\n",
              "       'Results Section', 'Results Section Title', 'Results Section Location',\n",
              "       'Primary Subject', 'USAID Thesaurus Term(s)', 'Tags', 'Notes', 'Length',\n",
              "       'Word_count', 'Mean_word_length', 'Mean_sent_length', 'lang', 'proba',\n",
              "       'Text_clean', 'Text_words', 'Date Difference', 'Institutional_Split',\n",
              "       'Presidential_Split'],\n",
              "      dtype='object')"
            ]
          },
          "metadata": {},
          "execution_count": 9
        }
      ],
      "source": [
        "df_politicization.columns"
      ]
    },
    {
      "cell_type": "markdown",
      "source": [
        "We select the columns of interest and create a df contianing only these."
      ],
      "metadata": {
        "id": "PBSkbbj_AUnP"
      }
    },
    {
      "cell_type": "code",
      "execution_count": null,
      "metadata": {
        "colab": {
          "base_uri": "https://localhost:8080/"
        },
        "id": "C_iZS75VdnYp",
        "outputId": "8c6550b0-e2db-4831-eebe-0f243440fd40"
      },
      "outputs": [
        {
          "output_type": "stream",
          "name": "stdout",
          "text": [
            "Shape of df_politicization once filtered: (99, 6)\n"
          ]
        }
      ],
      "source": [
        "list_columns = ['Document ID', 'Text', 'Text_clean', 'President_Start', \\\n",
        "                'Institutional_Split','USAID Thesaurus Term(s)' ]\n",
        "\n",
        "df = df_politicization[list_columns]\n",
        "\n",
        "# Inspecting the shape\n",
        "print(f\"Shape of df_politicization once filtered: {df.shape}\")"
      ]
    },
    {
      "cell_type": "markdown",
      "source": [
        "Again it has 99 reports, but we selected only 6 features of interest."
      ],
      "metadata": {
        "id": "q-wspdOjoYpV"
      }
    },
    {
      "cell_type": "markdown",
      "metadata": {
        "id": "CGeeKbAufktE"
      },
      "source": [
        "We perform a simple check to know what are the values used in the `government` variable. There are only 2 strings: 'D' corresponds to Democrat, and 'R' to Republican."
      ]
    },
    {
      "cell_type": "code",
      "execution_count": null,
      "metadata": {
        "id": "V2XUKNCifcbj",
        "colab": {
          "base_uri": "https://localhost:8080/"
        },
        "outputId": "61d1ad9c-a178-4e17-d1f7-d0f9ee8346b7"
      },
      "outputs": [
        {
          "output_type": "execute_result",
          "data": {
            "text/plain": [
              "array(['D', 'R'], dtype=object)"
            ]
          },
          "metadata": {},
          "execution_count": 11
        }
      ],
      "source": [
        "df[government].unique()"
      ]
    },
    {
      "cell_type": "markdown",
      "metadata": {
        "id": "QdLODOxzxnId"
      },
      "source": [
        "We preprocess the text for RoBERTa to correctly process the sentences."
      ]
    },
    {
      "cell_type": "code",
      "execution_count": null,
      "metadata": {
        "id": "wqo9vd8GlrEL"
      },
      "outputs": [],
      "source": [
        "def clean_text(text:str):\n",
        "    '''\n",
        "    Returns a string where we lowercased the text, and removed special\n",
        "    characters and stopwords.\n",
        "\n",
        "    Parameters:\n",
        "        text: A string to clean.\n",
        "\n",
        "    Returns:\n",
        "        A lowercased text with special characters and stopwords removed.\n",
        "    '''\n",
        "    return \" \".join(\n",
        "        word for word in re.sub('[^a-zA-Z0-9-.,;:!?]+', ' ', text.lower()).split()\n",
        "        if word not in stopwords.words('english')\n",
        "    )"
      ]
    },
    {
      "cell_type": "markdown",
      "source": [
        "We apply the `clean_text` function to the text of the reports to standardize the strings."
      ],
      "metadata": {
        "id": "kEIIpCJoouqH"
      }
    },
    {
      "cell_type": "code",
      "execution_count": null,
      "metadata": {
        "id": "fA-hHI_ynYhH",
        "colab": {
          "base_uri": "https://localhost:8080/"
        },
        "outputId": "2129ae32-acd5-4263-9369-3592a794e6d4"
      },
      "outputs": [
        {
          "output_type": "stream",
          "name": "stderr",
          "text": [
            "<ipython-input-14-0b600e1787d6>:1: SettingWithCopyWarning: \n",
            "A value is trying to be set on a copy of a slice from a DataFrame.\n",
            "Try using .loc[row_indexer,col_indexer] = value instead\n",
            "\n",
            "See the caveats in the documentation: https://pandas.pydata.org/pandas-docs/stable/user_guide/indexing.html#returning-a-view-versus-a-copy\n",
            "  df['Text_processed'] = df['Text'].apply(clean_text)\n"
          ]
        }
      ],
      "source": [
        "df['Text_processed'] = df['Text'].apply(clean_text)"
      ]
    },
    {
      "cell_type": "code",
      "execution_count": null,
      "metadata": {
        "id": "4J_Jw2C_oIfs",
        "colab": {
          "base_uri": "https://localhost:8080/",
          "height": 204
        },
        "outputId": "6a0ea523-a0f8-4ad9-e0dc-cd2e2e9bb655"
      },
      "outputs": [
        {
          "output_type": "execute_result",
          "data": {
            "text/plain": [
              "                                                Text  \\\n",
              "0   jhnp2014ohanesian final progress report june ...   \n",
              "1  f i n a l r e p o r t 20092015 the usaid tb pr...   \n",
              "2  1 usaidea flexible family planning, reproducti...   \n",
              "3   1 table of contents letter from the director ...   \n",
              "4  zimbabwe final country report march 2007 this ...   \n",
              "\n",
              "                                      Text_processed  \n",
              "0  jhnp2014ohanesian final progress report june 2...  \n",
              "1  f n l r e p r 20092015 usaid tb program south ...  \n",
              "2  1 usaidea flexible family planning, reproducti...  \n",
              "3  1 table contents letter director national aids...  \n",
              "4  zimbabwe final country report march 2007 publi...  "
            ],
            "text/html": [
              "\n",
              "  <div id=\"df-243f13fd-dbc4-4b10-a54e-4cc77a7a6bf5\" class=\"colab-df-container\">\n",
              "    <div>\n",
              "<style scoped>\n",
              "    .dataframe tbody tr th:only-of-type {\n",
              "        vertical-align: middle;\n",
              "    }\n",
              "\n",
              "    .dataframe tbody tr th {\n",
              "        vertical-align: top;\n",
              "    }\n",
              "\n",
              "    .dataframe thead th {\n",
              "        text-align: right;\n",
              "    }\n",
              "</style>\n",
              "<table border=\"1\" class=\"dataframe\">\n",
              "  <thead>\n",
              "    <tr style=\"text-align: right;\">\n",
              "      <th></th>\n",
              "      <th>Text</th>\n",
              "      <th>Text_processed</th>\n",
              "    </tr>\n",
              "  </thead>\n",
              "  <tbody>\n",
              "    <tr>\n",
              "      <th>0</th>\n",
              "      <td>jhnp2014ohanesian final progress report june ...</td>\n",
              "      <td>jhnp2014ohanesian final progress report june 2...</td>\n",
              "    </tr>\n",
              "    <tr>\n",
              "      <th>1</th>\n",
              "      <td>f i n a l r e p o r t 20092015 the usaid tb pr...</td>\n",
              "      <td>f n l r e p r 20092015 usaid tb program south ...</td>\n",
              "    </tr>\n",
              "    <tr>\n",
              "      <th>2</th>\n",
              "      <td>1 usaidea flexible family planning, reproducti...</td>\n",
              "      <td>1 usaidea flexible family planning, reproducti...</td>\n",
              "    </tr>\n",
              "    <tr>\n",
              "      <th>3</th>\n",
              "      <td>1 table of contents letter from the director ...</td>\n",
              "      <td>1 table contents letter director national aids...</td>\n",
              "    </tr>\n",
              "    <tr>\n",
              "      <th>4</th>\n",
              "      <td>zimbabwe final country report march 2007 this ...</td>\n",
              "      <td>zimbabwe final country report march 2007 publi...</td>\n",
              "    </tr>\n",
              "  </tbody>\n",
              "</table>\n",
              "</div>\n",
              "    <div class=\"colab-df-buttons\">\n",
              "\n",
              "  <div class=\"colab-df-container\">\n",
              "    <button class=\"colab-df-convert\" onclick=\"convertToInteractive('df-243f13fd-dbc4-4b10-a54e-4cc77a7a6bf5')\"\n",
              "            title=\"Convert this dataframe to an interactive table.\"\n",
              "            style=\"display:none;\">\n",
              "\n",
              "  <svg xmlns=\"http://www.w3.org/2000/svg\" height=\"24px\" viewBox=\"0 -960 960 960\">\n",
              "    <path d=\"M120-120v-720h720v720H120Zm60-500h600v-160H180v160Zm220 220h160v-160H400v160Zm0 220h160v-160H400v160ZM180-400h160v-160H180v160Zm440 0h160v-160H620v160ZM180-180h160v-160H180v160Zm440 0h160v-160H620v160Z\"/>\n",
              "  </svg>\n",
              "    </button>\n",
              "\n",
              "  <style>\n",
              "    .colab-df-container {\n",
              "      display:flex;\n",
              "      gap: 12px;\n",
              "    }\n",
              "\n",
              "    .colab-df-convert {\n",
              "      background-color: #E8F0FE;\n",
              "      border: none;\n",
              "      border-radius: 50%;\n",
              "      cursor: pointer;\n",
              "      display: none;\n",
              "      fill: #1967D2;\n",
              "      height: 32px;\n",
              "      padding: 0 0 0 0;\n",
              "      width: 32px;\n",
              "    }\n",
              "\n",
              "    .colab-df-convert:hover {\n",
              "      background-color: #E2EBFA;\n",
              "      box-shadow: 0px 1px 2px rgba(60, 64, 67, 0.3), 0px 1px 3px 1px rgba(60, 64, 67, 0.15);\n",
              "      fill: #174EA6;\n",
              "    }\n",
              "\n",
              "    .colab-df-buttons div {\n",
              "      margin-bottom: 4px;\n",
              "    }\n",
              "\n",
              "    [theme=dark] .colab-df-convert {\n",
              "      background-color: #3B4455;\n",
              "      fill: #D2E3FC;\n",
              "    }\n",
              "\n",
              "    [theme=dark] .colab-df-convert:hover {\n",
              "      background-color: #434B5C;\n",
              "      box-shadow: 0px 1px 3px 1px rgba(0, 0, 0, 0.15);\n",
              "      filter: drop-shadow(0px 1px 2px rgba(0, 0, 0, 0.3));\n",
              "      fill: #FFFFFF;\n",
              "    }\n",
              "  </style>\n",
              "\n",
              "    <script>\n",
              "      const buttonEl =\n",
              "        document.querySelector('#df-243f13fd-dbc4-4b10-a54e-4cc77a7a6bf5 button.colab-df-convert');\n",
              "      buttonEl.style.display =\n",
              "        google.colab.kernel.accessAllowed ? 'block' : 'none';\n",
              "\n",
              "      async function convertToInteractive(key) {\n",
              "        const element = document.querySelector('#df-243f13fd-dbc4-4b10-a54e-4cc77a7a6bf5');\n",
              "        const dataTable =\n",
              "          await google.colab.kernel.invokeFunction('convertToInteractive',\n",
              "                                                    [key], {});\n",
              "        if (!dataTable) return;\n",
              "\n",
              "        const docLinkHtml = 'Like what you see? Visit the ' +\n",
              "          '<a target=\"_blank\" href=https://colab.research.google.com/notebooks/data_table.ipynb>data table notebook</a>'\n",
              "          + ' to learn more about interactive tables.';\n",
              "        element.innerHTML = '';\n",
              "        dataTable['output_type'] = 'display_data';\n",
              "        await google.colab.output.renderOutput(dataTable, element);\n",
              "        const docLink = document.createElement('div');\n",
              "        docLink.innerHTML = docLinkHtml;\n",
              "        element.appendChild(docLink);\n",
              "      }\n",
              "    </script>\n",
              "  </div>\n",
              "\n",
              "\n",
              "<div id=\"df-4c8c92af-c040-4281-9a5a-6d2a2559f217\">\n",
              "  <button class=\"colab-df-quickchart\" onclick=\"quickchart('df-4c8c92af-c040-4281-9a5a-6d2a2559f217')\"\n",
              "            title=\"Suggest charts\"\n",
              "            style=\"display:none;\">\n",
              "\n",
              "<svg xmlns=\"http://www.w3.org/2000/svg\" height=\"24px\"viewBox=\"0 0 24 24\"\n",
              "     width=\"24px\">\n",
              "    <g>\n",
              "        <path d=\"M19 3H5c-1.1 0-2 .9-2 2v14c0 1.1.9 2 2 2h14c1.1 0 2-.9 2-2V5c0-1.1-.9-2-2-2zM9 17H7v-7h2v7zm4 0h-2V7h2v10zm4 0h-2v-4h2v4z\"/>\n",
              "    </g>\n",
              "</svg>\n",
              "  </button>\n",
              "\n",
              "<style>\n",
              "  .colab-df-quickchart {\n",
              "      --bg-color: #E8F0FE;\n",
              "      --fill-color: #1967D2;\n",
              "      --hover-bg-color: #E2EBFA;\n",
              "      --hover-fill-color: #174EA6;\n",
              "      --disabled-fill-color: #AAA;\n",
              "      --disabled-bg-color: #DDD;\n",
              "  }\n",
              "\n",
              "  [theme=dark] .colab-df-quickchart {\n",
              "      --bg-color: #3B4455;\n",
              "      --fill-color: #D2E3FC;\n",
              "      --hover-bg-color: #434B5C;\n",
              "      --hover-fill-color: #FFFFFF;\n",
              "      --disabled-bg-color: #3B4455;\n",
              "      --disabled-fill-color: #666;\n",
              "  }\n",
              "\n",
              "  .colab-df-quickchart {\n",
              "    background-color: var(--bg-color);\n",
              "    border: none;\n",
              "    border-radius: 50%;\n",
              "    cursor: pointer;\n",
              "    display: none;\n",
              "    fill: var(--fill-color);\n",
              "    height: 32px;\n",
              "    padding: 0;\n",
              "    width: 32px;\n",
              "  }\n",
              "\n",
              "  .colab-df-quickchart:hover {\n",
              "    background-color: var(--hover-bg-color);\n",
              "    box-shadow: 0 1px 2px rgba(60, 64, 67, 0.3), 0 1px 3px 1px rgba(60, 64, 67, 0.15);\n",
              "    fill: var(--button-hover-fill-color);\n",
              "  }\n",
              "\n",
              "  .colab-df-quickchart-complete:disabled,\n",
              "  .colab-df-quickchart-complete:disabled:hover {\n",
              "    background-color: var(--disabled-bg-color);\n",
              "    fill: var(--disabled-fill-color);\n",
              "    box-shadow: none;\n",
              "  }\n",
              "\n",
              "  .colab-df-spinner {\n",
              "    border: 2px solid var(--fill-color);\n",
              "    border-color: transparent;\n",
              "    border-bottom-color: var(--fill-color);\n",
              "    animation:\n",
              "      spin 1s steps(1) infinite;\n",
              "  }\n",
              "\n",
              "  @keyframes spin {\n",
              "    0% {\n",
              "      border-color: transparent;\n",
              "      border-bottom-color: var(--fill-color);\n",
              "      border-left-color: var(--fill-color);\n",
              "    }\n",
              "    20% {\n",
              "      border-color: transparent;\n",
              "      border-left-color: var(--fill-color);\n",
              "      border-top-color: var(--fill-color);\n",
              "    }\n",
              "    30% {\n",
              "      border-color: transparent;\n",
              "      border-left-color: var(--fill-color);\n",
              "      border-top-color: var(--fill-color);\n",
              "      border-right-color: var(--fill-color);\n",
              "    }\n",
              "    40% {\n",
              "      border-color: transparent;\n",
              "      border-right-color: var(--fill-color);\n",
              "      border-top-color: var(--fill-color);\n",
              "    }\n",
              "    60% {\n",
              "      border-color: transparent;\n",
              "      border-right-color: var(--fill-color);\n",
              "    }\n",
              "    80% {\n",
              "      border-color: transparent;\n",
              "      border-right-color: var(--fill-color);\n",
              "      border-bottom-color: var(--fill-color);\n",
              "    }\n",
              "    90% {\n",
              "      border-color: transparent;\n",
              "      border-bottom-color: var(--fill-color);\n",
              "    }\n",
              "  }\n",
              "</style>\n",
              "\n",
              "  <script>\n",
              "    async function quickchart(key) {\n",
              "      const quickchartButtonEl =\n",
              "        document.querySelector('#' + key + ' button');\n",
              "      quickchartButtonEl.disabled = true;  // To prevent multiple clicks.\n",
              "      quickchartButtonEl.classList.add('colab-df-spinner');\n",
              "      try {\n",
              "        const charts = await google.colab.kernel.invokeFunction(\n",
              "            'suggestCharts', [key], {});\n",
              "      } catch (error) {\n",
              "        console.error('Error during call to suggestCharts:', error);\n",
              "      }\n",
              "      quickchartButtonEl.classList.remove('colab-df-spinner');\n",
              "      quickchartButtonEl.classList.add('colab-df-quickchart-complete');\n",
              "    }\n",
              "    (() => {\n",
              "      let quickchartButtonEl =\n",
              "        document.querySelector('#df-4c8c92af-c040-4281-9a5a-6d2a2559f217 button');\n",
              "      quickchartButtonEl.style.display =\n",
              "        google.colab.kernel.accessAllowed ? 'block' : 'none';\n",
              "    })();\n",
              "  </script>\n",
              "</div>\n",
              "\n",
              "    </div>\n",
              "  </div>\n"
            ],
            "application/vnd.google.colaboratory.intrinsic+json": {
              "type": "dataframe",
              "summary": "{\n  \"name\": \"df[['Text','Text_processed']]\",\n  \"rows\": 5,\n  \"fields\": [\n    {\n      \"column\": \"Text\",\n      \"properties\": {\n        \"dtype\": \"string\",\n        \"num_unique_values\": 5,\n        \"samples\": [\n          \"f i n a l r e p o r t 20092015 the usaid tb program south africa 20092015 worked closely with the south african national department of health doh and other stakeholders to support the governments health sector reform through the expansion of quality and accessible tb services. in addition, the project worked with provincial and district health departments in the development, implementation, and evaluation of needsbased strategies to combat tb, tbhiv, and drugresistant tb drtb, and to promote best infection control practices. this support also helped communities create appropriate advocacy, social mobilization, and health systems strengthening and innovate service delivery models for the rapid expansion of directly observed treatment short course dots for the control of tb. the usaid tb program south africa was implemented by prime contractor university research co., llc urc, with partners the international union against tb and lung disease, health systems trust, the johns hopkins health and education south africa jhhesa, bea enterprises, and karensoft consulting group. photos in this report taken by tebogo kekana and the usaid tb program staff. f i n a l r e p o r t contract no 674c00090012100 prepared for usaid southern africa sent to nellie gqwaru, cor submitted by siphiwe mndaweni, chief of party university research co., llc pretoria, south africa 28 april 2015 disclaimer the authors views expressed in this publication do not necessarily reflect the views of the united states agency for international development usaid or the united states government. executive summary .1 introduction to the usaid tb program south africa .4 context and program rationale .4 program goals and objectives .4 geographic scope .4 technical approach and key implementation strategies. .6 program focus areas . 7 project activities and key results .9 ir 1 increase quality of tb services .9 ir 2 increase availability of tb services .12 ir 3 increase demand for tb services .14 ir 4 improve management of tb services .17 ir 5 tested new approaches for expanding dots coverage .19 program impact .21 program success stories .26 accelerating art uptake among tbhiv coinfected patients in south africa .26 addressing drtb in south africa through decentralized care .29 reaching vulnerable populations through the small grants program .31 addressing tb in children .32 summary and future directions for tb programs in south africa .34 key ongoing challenges experienced by the projecttb control in south africa in general.34 priority actions for future tb programs .35 table of contents figures figure 1. usaid tb program south africa intermediate results framework . 5 figure 2. usaid tb program allocated districts by province . 5 figure 3. improvement strategies for expanding quality tb services .6 figure 4. gxp identified cases from 20112014 . 10 figure 5. mdrtb south africa world tb report 2014 .12 figure 6. art uptake among tbhiv coinfected patients 20122014 .13 figure 7. tb program south africa grantees organizational capacity improvement .16 figure 8. ppm approach in addressing tb .19 figure 9. sputum smear conversion rates, tb program south africa data 20092014 .21 figure 10. smear conversion rates for retreatment cases, tb program south africa data 20092014 .21 figure 11. treatment success rate, new tb cases, tb program south africa data 20082013 .22 figure 12. unfavourable treatment outcomes, new tb cases, tb program south africa data 20082013 .22 figure 13. unfavourable treatment outcomes, retreatment cases, tb program south africa data 20082013 .23 figure 14. hiv testing among tb cases, tb program south africa data 20122014 .23 figure 15. number of hivpositive people screened for tb, tb program south africa data 20122014 .23 figure 16. bacteriological coverage 20092014 . 24 figure 17. improved capacity building by trainings provided by the tb program south africa . 24 figure 18. amathole district tbhiv integration results . 27 tables table 1. summary of usaid tb program south africa training .25 table 2. total number of hcws trained on tb, tbhiv and mdrtb 20092014 .25 table 3. number of doctors trained on tb, tbhiv and mdrtb 20092014 .25 table 4. facility risk assessments and infection prevention and control plans 20092014 .25 table 5. total tb cases reported, nondoh sector .25 table 6. mahikeng tbhiv integration indicators 20112014 .26 5is intensified case finding, isoniazid preventive therapy, infection control, and integration and initiation of antiretroviral therapy acsm advocacy, communication and social mobilization aids acquired immunodeficiency syndrome art antiretroviral therapy arv antiretroviral treatment bc bacteriological coverage cat community action team cbo communitybased organization cbs community based services ccmt comprehensive care management and treatment ccw community health care workers cdc center for disease control chc community health centre copc community oriented primary care cpmdt community programmatic management of drugresistant tb cpt cotrimoxazole preventative therapy csir council for scientific and industrial research cwd cape winelands district dhis district health information system doh department of health dol department of labour dot directly observed treatment dots directly observed treatment short course drat district rapid assessment tool drs drug resistant survey drtb drug resistant tuberculosis dstb drug susceptible tb dst drug susceptibility testing dttc desmond tutu tb centre dve data verification exercise ec eastern cape province edr electronic drug resistance register etr electronic tb register f4l footballers for life fbo faith based organization fdic facility diagnostic information collection fs free state province gp gauteng province gxp genexpert hast hiv, aids, and sexually transmitted infections and tb hct hiv counselling and testing hcw health care w worker hiv human immunodeficiency virus hospersa health  other services personnel trade union of south africa hss health systems strengthening hst health systems trust ic infection control icf intensified case findings iec information, education, and communication ipt isoniazid preventive therapy ir intermediate results jhhesa john hopkins health and education south africa kzn kwazulu natal province ldic laboratory diagnostic information collection lop life of project lp limpopo province me monitoring and evaluation mdrtb multidrug resistant tuberculosis mis management information system mou memorandum of understanding mpu mpumalanga province nc northern cape province ndoh national department of health nec national expansion coordinator ngo nongovernmental organization nhls national health laboratory service nmbhd nelson mandela bay health district nsda negotiated service delivery agreement ntcp ntp national tuberculosis control program nw north west province or operational research pepfar presidents emergency plan for aids relief phc primary health care pmdt programmatic management of drtb pmtct preventing mother to child transmission ppm publicprivate mix psa public service announcement ptb pulmonary tuberculosis qa quality assurance qi quality improvement sabcoha south africa business coalition sadc southern african development community sag south african government scr smear conversion rate snd smear not done so strategic objectives ss smear positive sti sexually transmitted infections tat turn around time tb tuberculosis the union international union against tuberculosis and lung disease thp traditional health practitioners thp traditional health practitioners tot training of trainers tsr treatment success rate urc university research co., llc usaid united states agency for international development vct voluntary counselling and testing wad world aids day wc western cape province who world health organization xdrtb extensively drugresistant tb acronyms final report 1 final report 1 s outh africa has the third highest number of new tuberculosis tb cases in the world, with 860 incident cases per 100,000 population. in 2013, there were approximately 330,000 tb cases notified in 2013. the tb epidemic in south africa is mainly driven by hiv 6065 of incident tb cases are coinfected with hiv. tb still remains the leading cause of death among people living with hivaids plhiv. the country is also among the high multidrug resistant tb mdrtb burden countries, with 1.8 among new and 6.7 among retreatment cases. the usaid tb program supported the government of south africa since 20092014 in all spheres of the national department of health ndoh national, provincial, district and sub district. the geographic scope of the project included support to all nine provinces, with direct support to 24 of 52 46 priority districts across the country, particularly those with the highest burden of tb and vulnerable populations with limited access to services. the overall goals of the usaid tb program was to assist the ndoh to increase availability of tb services, improve the quality of tb services, increase demand for tb services and design innovative models to improve service delivery at facility level and community levels through 75 funded nongovernment organizations ngos and public private partnerships. the usaid tb program implementation principles were guided by the ndoh strategies such as the national strategic plan on hiv, stis, and tb 2007 2011, later 20122016 and the ndoh negotiated service delivery agreement nsda output 3 which is combating hiv and aids, decreasing the burden of disease from tuberculosis to realize the sa governments vision in the nsda of a long and a healthy life for all south africans as well as the stop tb strategy. drug resistant tuberculosis drtb is a global public health crisis that threatens to undermine tb control efforts in many countries. south africa currently has the fifth highest burden of mdrtb in the world, with 15,400 diagnosed cases in 2012. approximately 10 of these mdrtb cases were reported to have extensively drug resistant tb xdrtb. the usaid tb program south africa has been supporting the ndoh in combating drtb in the country through expanding access to diagnostics, improving programmatic management of mdrtb at community level, and increasing provider capacity at all levels to implement drtb programs. to improve tb diagnostics, the usaid tb program south africa partnered closely with the ndoh to facilitate the genexpert roll out in march 2011. through substantial political support and government investment, south africa now has 289 genexpert machines placed throughout the country. the usaid tb program south africa trained 916 technical and 3968 clinical staff on the use of the genexpert machines. the decentralization of the drtb program supported by the usaid tb program has resulted in an increased number of patients on treatment. to provide support for those patients who fail treatment, the usaid tb program, in consultation with the ndoh, developed a strategy to promote palliative care for incurable mdrxdrtb patients. executive summary the usaid tb program has been successful in steadily scaling up art uptake across its 24 supported districts and subdistricts. art uptake among coinfected tbhiv patients in project supported districts rose from 43.0 in januarymarch 2012 to a high of 72.6 in apriljune 2014. to promote case detection and treatment of tb among children, the project launched a campaign to raise awareness of the issue of childhood tb, as well as provided tools to health care workers to help them screen, identify, and treatment pediatric tb cases. the usaid tb program south africa managed a robust portfolio of advocacy, communication, and social mobilization acsm activities to raise awareness on tbrelated issues and increase demand for tb services supported by communitybased organizations funded throughout the country. the project supported mass media campaigns through tv public service announcements psas tb messaging through popular tv shows and radio dramas radio psas radio talk shows and interviews dissemination of periodical usaid tb program south africa 20092015 2 usaid tb program south africa 20092015 2 press releases to newspapers, journals, magazines, and other publications and information, education, and communication iec materials such as pamphlets, fact sheets, and posters, widely distributed to health facilities, ngos, faith based organizations fbos, sports clubs, health facilities, schools, taxi ranks, bus stops and libraries. the project used mass media to raise awareness on the symptoms of tb and hiv to the general public, encourage them to test early, and ultimately reduce transmission of tb through proper infection control. tb psas aired on tv and radio to reach wide general audiences with tb messages. over the life of the project, 72 of black south african adults ages 1664 and 62 of children ages 514 have been reached by tv psas, while 64 of adults and 49 of children have been reached by radio spots. in partnership with the ndoh, the usaid tb program south africa developed a national tb awareness campaign called we beat tb. the campaign targeted adult south africans ages 1664 and school aged children. promotion materials featuring the we beat tb campaign brand are distributed at community mobilization activities, health education sessions, and national events such as world tb day and world aids day. to improve tb prevention and expand dots in communities, the usaid tb program south africa awarded 91 grants to 75 communitybased organizations throughout south africas nine provinces. grants were given to local communitybased organizations cbos and fbos with the purpose of building their capacity in tb prevention and support. park homes were procured and installed to be used as an addition to existing health facilities in eastern cape, kwazulunatal, and mpumalanga to improve the infrastructure capacity to deliver quality tb services. the park homes addressed implementation challenges such as high case load and improve infection control and improve integration of tb hiv services. the usaid tb program south africa adopted a publicprivate mix ppm approach to addressing tb and expanding dots in the private sector through engaging traditional health practitioners thps. thps were capitated in supporting active case finding, identifying tb symptoms early and refer timeously to health facilities in limpopo, kwazulunatal and free state. south africas more than 500,000 mine workers currently have the highest rates of tb in the world, and most of these miners are migrant workers from neighbouring countries, lesotho, mozambique, and swaziland, resulting in a huge threat of crossborder spread. the usaid tb programs support for improving tb services within the mining sector focused on developing lasting multisectoral partnerships geared to promote advocacy and consensus building among mine operators, mine health services, mine laborers representatives, and district department of health on practical steps to implement the objectives within the declaration on tb in the mining sector, a legal instrument, signed by 15 heads of state at the summit meeting of the southern african development community sadc in august 2012. final report 3 summary of key achievements contributed to better tb outcomes, in terms of improved treatment success rates, loss to follow up rates, and tb screening among hiv patients in projectsupported districts. on basic tb management, mdrtb, and tbhiv trained 19,167 hcws including 917 doctors expanded access to tb services among vulnerable and hardtoreach populations, including people living with hiv, mine workers, and children. awarded 91 grants to 75 community based organizations throughout south africas nine provinces and worked with these organizations to build their capacity to sustain the ongoing fight against tb. 91 grants supported decentralization of the drtb treatment programs throughout the country, resulting in an increased number of drtb patients on treatment. increased art uptake among coinfected tbhiv patients in projectsupported districts involved privatesector partners in tb control efforts, which led to more than 11,033 cases cases of tb being diagnosed by the nondoh sector 43 72.6 usaid tb program south africa 20092015 4 usaid tb program south africa 20092015 4 context and program rationale globally, more than nine million people become ill with tuberculosis tb each year, and more than 1.5 million die of the disease. south africa is classified by the world health organization who as a high burden tb, hiv and multidrug resistant tb mdrtb country. the country has the worlds third highest tb burden, with nearly half a million incident cases each year or approximately one out of every 100 south africans. twothirds 6065 of tested tb patients are found to be hivpositive and south africa has some of the highest incidence of mdrtb and extremelydrug resistant tb xdrtb in the world. the usaid tb program south africa was a 5year project 20092014 implemented by university research co., llc urc. this project built on the successes of the previous usaid tasc ii tb project 20042009, also implemented by urc. program goals and objectives the usaid tb program south africa supported the national department of health ndoh in improving early case detection, increasing access to diagnostics, ensuring treatment support for patients on tb treatment and ensuring that there was provision of appropriate and timely hiv care for tb patients and art treatment for all tbhiv coinfected patients. the usaid tb program developed multi level support, working closely with the national tb control program ntp to build national support by mobilizing resources and creating a conducive environment for expansion of tb services, as well as, with provincial and district health departments to support the collaborative development of needbased strategies to combat tb, tbhiv and drug resistant dr tb, and with communities to create appropriate social mobilization and service delivery models for rapid expansion of directly observed treatment shortcourse dots in the country. expected results from this program included u a national tb treatment success rate of 80. u improved capacity to plan and implement tb dots at community, facility, district, municipality, provincial and national levels. u improved surveillance system resulting in early detection of tb cases, mdrtb cases, coinfected patients for art as well as to prevent treatment defaulters and reduce mortality. u improved understanding and support among the general population regarding tb and tbhiv signs, symptoms, referral, and treatment. the project results framework is outlined in figure 1. geographic scope the project worked nationwide, providing support to all nine provinces, with direct support to 24 of 52 46 priority districts across the country, particularly those with the highest burden of tb, as illustrated on the map in figure 2. introduction final report 5 figure 1. usaid tb program south africa intermediate results framework illustrative activities  policy advocacy  review and updating clinical guidelines for tb, mdr, tbhiv  laboratory system review  strengthen all components of dots ir1 increased quality of tb services ir2 increased availability of tb services illustrative activities  training of trainers  training lab, facility, community workers  tbhiv integration  ppm for case detection  ngocbos in high tb areas ir5 tested new approaches for expanding dots coverage illustrative activities  capacity building for ngoscbos  linkages between ngos and public sector  use of cellphone technology ir4 improved management of tb support systems illustrative activities  train managers and implement support systems in districts  laboratory, drug, and logistics management ir3 increased demand of tb services figure 2. usaid tb program south africa allocated districts by province south africa supported districts northern cape western cape north west free state eastern cape gauteng limpopo npumelanga kwazulunatal lesotho mozambique swaziland botswana namibia illustrative activities  disburse small grants to ngoscbosfbos  build capacity of ngoscbosfbos illustrative activities  information, education, and communication  behavior change communication subir3.1 small grants program subir3.2 acsm usaid tb program south africa 20092015 6 technical approach and key implementation strategies support for the stop tb strategy the usaid tb program south africa assisted the ndoh to implement and actualize the six components of the stop tb strategy, which included 1 pursuing highquality dots expansion and enhancement 2 addressing tbhiv, mdrtb, and the needs of poor and vulnerable populations 3 contributing to health systems strengthening hss based on primary health care phc 4 engaging all care providers 5 empowering people with tb, and communities through partnerships and 6 enabling and promoting research. since it was adopted in may 2014, the tb program has also supported the ndoh to work toward the post2015 stop tb strategy to reduce tb deaths by 95 and cut new cases by 90 by 2035. patientcentered care the usaid tb program south africa worked to improve the content of care, through development of and training on evidencedbased national guidelines and treatment protocols the process of care, through quality improvement qi strategies designed to increase the efficiency and effectiveness of systems and the context of care, through support for communitybased social support and counseling services. working as a handinglove technical assistance partner to the doh the usaid tb program south africa sought to build the longterm capacity of the doh to effectively and sustainably implement its national tb control programme. the project received unprecedented acclaim, praise, and recognition for its strong relationship building and close collaboration with the doh at all levels. notably, in the 2014 figure 3. improvement strategies for expanding quality tb services context of care enabling patient environment patientcommunity circumstance urbanrural context of accessibilityavailability educationawareness social support process of care quality methodology systems complianceadherence variation attitudesmotivation content of care evidencebased standards protocols guidelines patient centered care improved outputs improve outcomes, efficiency reduced vulnerabilities final report 7 urc was widely applauded for their high level of technical expertise in tb, bottomup approach, responsiveness, and support to the doh, both in capacity building and skills transfer as well as in systems building.  usaid evaluation report 2014 usaid program evaluation, 100 of doh respondents praised the project for its close and collaborative relations with the doh, as well as its bottomup approach. in many emerging areas of tb, the usaid tb program worked to expand the national dialogue among key stakeholders. this included support for the national tb think tank, hosting a national diagnostics summit, and many others. decentralized treatment tb program south africa promoted the ndoh policy directive, a shift away from clinicallyfocused, hospital based mdrtb treatment toward programmatic management and communitybased care for mdrtb patients. this model reduces hospital caseloads and delays in treatment initiation, reduced inpatient costs, and allows patients to receive sustained family and community support during their treatment. vulnerable populations the usaid tb program worked with dohs to expand services to specific vulnerable and hardtoreach groups. this included expanding services in large townships, developing strategies to reach workers in the mining sector, addressing the issue of tb among women and children, and funding one of the programs small grantees to address tb in prisons. innovations the usaid tb program introduced a number of innovative evidencebased tools for improved patient as well as program management. the usaid tb program piloted mhealth applications for identifying clustering of tbmdrtb patients and also developed a module for mdrtb patient management that will be rolled out as part of the proof of concept. since march 2011, the usaid tb program has supported the ndoh in its nationwide rollout of xpert mtbrif testing as the firstline test for all suspected tb cases. operations research the usaid tb program supported the design of targeted research to help answer key operational questions to improve tb management systems. for example, the project funded the desmond tutu tb centre to evaluate how to improve tb case reporting among children. program focus areas improving the quality of tb services u working with the ndoh, provinces, districts, and other stakeholders to develop and implement strategic interventions that address the threats of tb, tbhiv, and drtb. u jointly reviewing and update clinical and programmatic guidelines for tb, tbhiv, and drugresistant tb. u reviewing laboratory systems at all levels of intervention, by conducting needs assessments, mapping tb microscopy diagnostic centers countrywide, and addressing laboratory challenges. u continuing efforts to strengthen the six components of the expanded stop tb strategy. u conducting operational research or on programmatic aspects of the project jointly with institutional partners. increasing the availability of tb services u providing needbased training and mentoring for managers and health care staff at all levels of the system on basic tb management tbhiv, including the national 5 is intensified case finding, isoniazid preventive therapy, infection control, and integration and initiation of antiretroviral therapy, or art programmatic and clinical management of drtb laboratory diagnosis of tb and drtb and advocacy, communication, and social mobilization acsm. u introducing quality improvement qi methods to facilitate implementation of tbhiv health care services from provincial to facility levels as per who recommendations and through innovative models. usaid tb program south africa 20092015 8 u assisting provinces, districts, and community partners in implementing the national strategy for decentralization of drtb management. u expanding the available dots system in high burdened rural, urban and periurban communities through communitybased active case finding strategies. increasing demand for tb treatment u promoting and participating in the implementation of the national acsm policy through national events i.e., world aids and tb days, youth day, tv and radio public service announcements, local activities e.g., community dialogues, community activations, kick tb campaign, we beat tb campaign, and distribution of materials e.g., pamphlets, posters, lap desks with tb messages for school children. u disbursing grants to and building the capacity of nongovernmental and communityfaithbased organizations to expand community based tb, tbhiv, and mdrtb and xdrtb tb management. improving management of tb support systems u strengthening tb information systems through conducting regular data verification exercises and developing improvement plans. u jointly analyzing reports and linking them to facility case management. u improving supportive supervision and surveillance through trainings and facility mentoring and couching. u strengthening linkages between health facilities and laboratory networks. testing and scaling up new approaches for expanding dots coverage u supporting the expansion of tb diagnostics, particularly rapid molecular testing methods, genexpert mtbrifgenexpert. u identifying and supporting tb and tbhiv ppm strategies and interventions. u disseminating the use of geographic information system gis technologies to map laboratories, health facilities, treatment supporters and households for better tb control including drtb. final report 9 ir 1 increase quality of tb services policy and guidelines usaid tb program south africa has assisted the ndoh in making a number of improvements to national tb policies and guidelines to improve access to and use of health services and improve management of tb in health facilities. as technical assistance partner to the doh, the usaid tb program south africa designed a number of tools and toolkits to assist facility managers, health care workers, and community health workers to deliver high quality tb prevention, diagnosis, and treatment services. many of the tools have been formally adopted and disseminated by the doh, and are being used by partner organizations throughout the country. these tools include the genexpert training manual, clinical dr training manual, tb and drtb patient registers, traditional health practitioners screening and referral tool, tb screening tool for adults and children, tbhiv facility data collection tool, drtb treatment care, ipt patient treatment card, and daily tb diary. diagnostics lack of diagnostic capacity has been a significant barrier in preventing an effective response to tb epidemic worldwide. according to the who global tuberculosis report 2012, a highquality laboratory system that uses modern diagnostics is a prerequisite for early, rapid and accurate detection of tb. inadequacies in laboratory capacity in many low and middle income countries have been cited as part of the reason why only 66 of the estimated 8.7 million tb cases in 2011 were diagnosed and notified by national tb control programs. the usaid tb program supported the ndoh to expand access to rapid, highquality diagnostics so that tb patients are initiated on treatment sooner, raising their chance of being cured and reducing the risk of spreading tb to others. mapping and identifying gaps in laboratory systems the usaid tb program south africa undertook a desk survey in 2010 to identify preliminary challenges with the countrys project activities and key results in 2011, the tb program south africa used the fdic and ldic tools to conduct a rapid appraisal of 22 facilities in mafikeng district and 10 facilities in ventersdorp district of northwest province in response to the poor performance of the provinces tb program. the assessment revealed a lack of tb registers in some facilities and poor recording and updating of results in others. these results informed the development of tailored interventions to help the facilities address their diagnostic challenges. laboratory system. some of the challenges identified included prolonged sputum turnaround time tat, problems in cold chain maintenance during the transportation of specimens and insufficient access to laboratories by the clinics and screening sites. the next year, 2011 in partnership with the national health laboratory service nhls, the program mapped all the tb microscopy diagnostic centers in the country to determine the coverage of tb laboratory services. the program also developed a facility diagnostic information collection fdic tool and a laboratory diagnostic information collection tool ldic to collect information on bacteriological diagnosis of tb and document usaid tb program south africa 20092015 10 whether appropriate procedures were in place. using these tools, the program can investigate laboratory challenges, share the findings with facility and district staff, develop interventions, and monitor progress through followup site visits. roll out of genexpert rapid tb testing early diagnosis is essential to achieving significant reductions in death and disability as a result of tb and hiv. one of the key objectives of the usaid tb program south africa is to foster early diagnosis through expanded access to new and effective diagnostic technologies. in december 2010, the who endorsed xpert mtb rif genexpert, a rapid testing machine that can simultaneously diagnose tb and detect resistance to rifampicin, one of the most important antitb drugs, in less than 24 hours, and has the potential to greatly reduce the delay between sputum sample collection and treatment initiation for patients with suspected mdrtb this test can also diagnose up to 72 of smear negative pulmonary tb. in an effort to improve the diagnostic capacity for drug susceptible and drug resistant tb, south africa was among the first countries to adopt and implement genexpert as a replacement of smear microscopy for all people presenting with tb symptoms. the usaid tb program south africa partnered closely with the ndoh to facilitate genexpert roll out beginning in march 2011. great acknowledgement to the political support and government investment, south africa now has 289 genexpert machines placed throughout the country the project itself initiated the purchase and placement of 11 genexpert machines in projectsupported districts. since 2011, 3.2 million tb tests have been conduc\",\n          \"zimbabwe final country report march 2007 this publication was produced for review by the united states agency for international development. it was prepared by the deliver project. zimbabwe final country report the authors views expressed in this publication do not necessarily reflect the views of the united states agency for international development or the united states government. deliver deliver, a sixyear worldwide technical assistance support contract, is funded by the u.s. agency for international development usaid. implemented by john snow, inc., jsi contract no. hrnc00000001000 and subcontractors manoff group, program for appropriate technology in health path, and crown agents consultancy, inc., deliver strengthens the supply chains of health and family planning programs in developing countries to ensure the availability of critical health products for customers. deliver also provides technical management of usaids central contraceptive management information system. recommended citation deliver. 2007. zimbabwe final country report. arlington, va. deliver, for the u.s. agency for international development. abstract this report summarizes delivers key role as the distributor of usaids donated condoms and manager of the logistics system for publicsector condoms and antiretroviral arv distribution for zimbabwes ministry of health and child welfare mohcw. deliver worked closely with the mohcw and the u.s. government to improve the availability of hivaids condoms in rural health centers and other public sector sites. deliver was tasked with improving logistics system performance, human capacity in logistics management, and resource mobilization for commodity security. delivers role was expanded to support the development, rollout, and expansion of the national antiretroviral therapy art program beginning in 2003, specifically in the areas of site readiness assessments, quality assurance, logistics management, and condom distribution. delivers objectives for the five phase 1 sites focused on hiv care and antiretroviral arv therapy support activities for clinical readiness, overall planning and management, and managing, procuring, and distributing arv medicines. program results, lessons learned, and future directions are offered in light of the many economic and social challenges currently facing zimbabwe. cover photo by worldviewimages.com. deliver john snow, inc. 1616 north fort myer drive, 11th floor arlington, va 22209 usa phone 7035287474 fax 7035287480 email deliverprojectjsi.com internet www.deliver.jsi.com contents acronyms.v acknowledgments.vii executive summary .ix lessons learned .xi future directions .xi program background.1 country context.1 key players and roles .1 key challenges.3 goals and objectives.7 deliver objectives .7 description of strategies.8 summary of deliver funding and staffing.9 program results.11 element i improved logistics system.11 element ii improved human capacity in logistics .14 element iii improved resource mobilization for commodity security .15 element iv improved adoption of advances in logistics .17 element v estimation of usaid contraceptive needs.17 lessons learned and future directions.19 lessons learned .19 future directions .20 references .21 appendices 1. cs brief .23 2. program results matrix.27 tables 1. partner organizations .2 2. arv formulations and usd cost.17 zimbabwe final country report iii zimbabwe final country report iv acronyms aids acquired immunodeficiency syndrome arv antiretroviral art antiretroviral therapy cc drv contraceptive and condom delivery and receipt voucher cdc centers for disease control and prevention cpr contraceptive prevalence rate cpt contraceptive procurement table dfid department for international development uk dho district health office dps department of pharmacy services dttu delivery team topping up fhi family health international goz government of zimbabwe hiv human immunodeficiency virus ir intermediate results usaid jsi john snow, inc. lmis logistics management information system mohcw ministry of health and child welfare mcaz medicines control authority of zimbabwe natpharm national pharmaceutical corporation oi opportunistic infection pepfar presidents emergency plan for aids relief pmd provincial medical directorates psi population services international rhfp reproductive health and family planning sdp service delivery point sdr summary delivery report tb tuberculosis unfpa united nations population fund unicef united nations childrens fund usaid u.s. agency for international development zimbabwe final country report v usg united states government who world health organization znfpc zimbabwe national family planning council zimbabwe final country report vi acknowledgments deliver wishes to thank the staff of the zimbabwe ministry of health and child welfare, particularly the aids  tb program and the department of pharmacy services dps the zimbabwe national family planning council znfpc the national pharmaceutical corporation natpharm the department for international development dfidzimbabwe john snow, inc.europe crown agents consultancy, inc., zimbabwe and, of course, our funding agency, the u.s. agency for international development, for their supportnot only financial, but also for their show of faith in our ability to provide worthwhile assistance. we believe that impressive strides were made over the course of the project, none of which could have been accomplished without all of your support and collaboration. the contributions of the abovementioned agencies and others contributed enormously to the successful completion of these activities. zimbabwe final country report vii viii zimbabwe final country report executive summary zimbabwe is in crisis on several fronts, and it is increasingly difficult to implement effective programming. political and economic policies have resulted in hyperinflation, high unemployment, shortages of food and fuel, and widespread hunger and disease. the countrys once excellent public health system is declining, and quality health services are sparse. many international donors have discontinued their development programs, leaving national health interventions underfunded. however, despite the severe economic, political, and health conditions, assistance still moves forward and serves to improve quality of life for those zimbabweans reached by services. zimbabwe has a generalized hivaids epidemic, which ranks as one of the three most severe in the world. in 2004, the aids  tuberculosis tb program of zimbabwes ministry of health and child welfare mohcw estimated the adult prevalence at approximately 24 percent. life expectancy has fallen to 37 years, while infant mortality has more than doubled to 130 per 1,000 live births. the increased morbidity related to aids is stretching scarce health resources at a time when the country is facing enormous economic hardships. since the last quarter of 2003, deliver in zimbabwe has played a key technical assistance role to support the expansion of zimbabwes national antiretroviral therapy art program in the areas of site readiness assessments, quality assurance, logistics management, and condom distribution. working in close collaboration with the mohcw and the united states government usg, delivers original goal in zimbabwe was to improve availability of hivaids condoms in rural health centres and other sites throughout the public sector by helping the znpfc to manage all the logistics functions required to deliver appropriate quantities of condoms on a regular basis. in 2003, the usg began to support the development and rollout of the mohcws national art program in zimbabwe. actual art delivery at four of the five initial sites began in august 2004. in the final year of the project, the u.s. agency for international development usaid mission in zimbabwe asked deliver to expand its portfolio to include technical assistance for art care and treatment at the phase i sites and to the aids  tb program of the mohcw to support expansion of the national art program. this request was unique, as it went beyond the deliver mandate and recognized the expertise of john snow, inc. jsi expertise in improving health service delivery systems and increasing quality of care. improved logistics system and quality of care in zimbabwe, deliver worked in and achieved significant results in three areas of supply chain management 1 supply chain management of hivaids condoms and contraceptives through the znfpc 2 supply chain management of usgfunded antiretrovirals arvs for selected phase i art sites and 3 supply chain management of arvs, opportunistic infection oi drugs, and hiv rapid test kits for the zimbabwe national hiv  aids program. in the final year of the project, the delivery team topping up dttu system achieved 99 percent coverage of 1,600 facilities in zimbabwe. the main indicator for effectiveness of the dttu project is the stockout level. out of the four commodities that were delivered on a full supply basis male condoms, depoprovera, lofemenal, and ovrette, the stockout rates for any one product were less than 3 percent. deliver conducted a study of logistics management in the national program in late 2005 and produced the report zimbabwe hiv  aids logistics system assessment. this report resulted in two additional logisticians being placed in the aids  tb program, and in orders being placed by deliver for three 7ton delivery trucks dedicated to the distribution of hiv and aids commodities. additionally, deliver assisted the national program in creating a procurement and logistics subcommittee of the zimbabwe final country report ix national hiv care and treatment partnership forum. deliver worked with this subcommittee to develop an interim hivaids commodities ordering and distribution subsystem for the national program. deliver staff conducted training in the use of the system at the 50 current art sites. technical assistance to the zimbabwe national antiretroviral therapy program deliver assisted the mohcw to assess more than 50 potential art sites and assisted in training provincial teams to conduct their own site readiness assessment and followup assessments. it has also assisted the first five sites in developing standard operating procedures, and continues to provide technical assistance and other support to these sites. deliver assisted the national program in developing its monthly progress report for site reporting. support for decentralization of hiv care and art for two phase i sites deliver supported the decentralization of hiv care and art in two phase 1 sites to facilitate easier access for patients to services and adherence to hiv care and art, but also to enhance quality of care by decongesting the art initiating sites, reducing patient waiting times for services at these sites, and alleviating travel and transport costs faced by many individuals. deliver is providing support to the district of mazowe with a mobile hiv care and art clinic to ensure uninterrupted art. hiv care and art support have also been provided for stable patients from hospitals in harare city and harare city clinics. in total, 170 providers have been trained in oi and art management. lessons learned from these two models will be used by the national art program for decentralization of hiv care and art services in other rural and urban settings. quality of care delivers contribution to a major art component of the usg has been to monitor the quality of hiv care given to patients by using the jsi quality management program adapted for use in zimbabwe. the tools are being pilottested in mashonaland central province, using a provincial quality monitoring team to be trained with support by deliver. human capacity in logistics through delivers support, human capacity in logistics management was provided in several areas. deliver trained over 76 staff from the znfpc, and projectwide in all of the countrys provinces, on executing dttu loading, delivery runs, and submission of written reports. additionally, there is capacity now within deliver and znfpc head office logistics staff, who are now experienced in organizing and running dttu training seminars. twentyfive individuals from the mohcw, natpharm, the mohcws dps, the centers for disease control and prevention cdc, and the dttu took jsis training course, supply chain management for commodity security, in a special session held in zimbabwe. the special session enabled deliver to facilitate the training of many critical cadres in the logistics system for hivaids commodities in preparation of the rollout of the national hivaids program. in collaboration with family health international, medicines control authority of zimbabwe laboratory technicians were trained to comply with international standards for condomtesting procedures. resource mobilization for commodity security zimbabwe continues to rely on donors for its contraceptive needs. with the application of the brooke alexander amendment, usaid discontinued the provision of contraceptives, except for hivaids condoms for the public sector and social marketing. therefore, the department for international development dfid, through crown agents consultancy, inc., will be providing future contraceptive commodities to the public sector. the very accurate database arising from the deliverdesigned dttu system and the regular completion of contraceptive procurement tables cpts by deliver and the znfpc have allowed these donors to plan for and provide a full supply of the commodities. zimbabwe final country report x forecasting deliver assists the znfpc to prepare cpts annually, and revises them semiannually for the public sector. the partners involved in the exercise are deliver, crown agents consultancy, inc., and the znfpc. information from delivers logistics management information system lmis, logistics data from the znfpc, and supplierrelated data are fed into the pipeline software to forecast future requirements and updated in the second half of the year with actual consumption data to adequately ensure that there are enough stocks in the pipeline. the accuracy of the data in the system has helped ensure that the stock levels stay within the desired minimum and maximum levels. lessons learned over the course of deliver in zimbabwe, change was constant, from the faltering economy to the turnover in personnel. in this environment, the single most significant lesson learned was the necessity of constant coordination between donors and the government of zimbabwe goz and of the ability to react nimbly as priorities shift. for dttu, an essential element has been placing immediate control of resources directly in the hands of donors contractors, rather than with government agencies. in arv procurement and distribution, it was necessary to revise initial assumptions about the projected use of second line regimens and make subsequent changes to the projects initial procurement plans. stakeholder and donor consensus was a critical step in establishing a sustainable, nationwide art care and treatment program. future directions as zimbabwes economic crisis worsens, the goz faces the very real possibility that it will not have the resources to maintain current art patients treatment. in a effort to strengthen the countrys hivaids commodities ordering and distributions system, usaid and dfid have committed to develop an interim management system to strengthen natpharms capacity. within the realm of art treatment support, the usg continues its commitment to the patients in its pilot program and is also supporting the gozs ongoing treatment decentralization program. this should result in a decongesting of the major initiating sites and increase patients access to continuing services. finally, the dttu system will continue in its present form for one to two additional years before being integrated into the essential drugs supply chain. zimbabwe final country report xi zimbabwe final country report xii program background country context zimbabwe has a population of approximately 12 million people united nations 2004 with some 25 percent of the population between the ages of 15 and 24 and an additional 40 percent of the population between the ages of 0 and 14. since 1990, the annual population growth has slowed from 3.5 percent to 0.5 percent. the country is currently experiencing fourdigit inflation and extreme levels of poverty. zimbabwe has a generalized hivaids epidemic that ranks as one of the three most severe in the world. in 2004, the aids  tuberculosis tb program of zimbabwes ministry of health and child welfare mohcw estimated the adult prevalence at approximately 24 percent estimates of the number of people infected with hiv range from 1.8 million to 2.3 million out of the countrys total population of 12 million. the number of those who are infected and are currently in need of antiretroviral therapy art is approximately 342,000, including infants and children. the zimbabwe national art program started providing art on a relatively large scale in 2004. as of august 31, 2006, there were 40,710 people on art nationally of these, 34,710 were receiving art through the public sector. of the 34,710 patients receiving art through the public sector, approximately 30,000 are receiving art exclusively through government of zimbabwe goz support. at least 70 percent of hospital beds in medical wards are occupied by patients with aidsrelated conditions. life expectancy has fallen to 37 years, while infant mortality has more than doubled to 130 per 1,000 live births. the increased morbidity related to aids is stretching scarce health resources at a time when the country is facing enormous economic hardships. due to the current harsh economic climate, zimbabwe has been hard hit by a huge exodus of trained staff to other countries. the mohcw health staff complement and vacancy update as of the end of september 2004 indicated 56 percent, 32 percent, and 92 percent, respectively, of the posts for doctors, nurses, and pharmacists respectively are vacant. the vacancy situation tends to be worse in rural areas than in the urban areas, thus increasing the challenges for the scaling up of art. there is no plan to address this situation government of zimbabwe 2005. in 2003, through centers for disease control and prevention cdc initiation, the united states government usg began a joint u.s. agency for international development usaidcdc effort of support for the development and rollout of the mohcws national art program in zimbabwe. actual art delivery at five initial sites began in august 2004. both the cdc and usaid have combined their comparative advantages in the support for this program. since the last quarter of 2003, deliver has played a key technical assistance role to support the expansion of zimbabwes national art program in the areas of site readiness assessments, quality assurance, logistics management, and condom distribution. key players and roles for deliver in zimbabwe to achieve its program objectives over the past three years, it has required the intervention and cooperation of several different organizations. among these are the aids  tb program of the mohcw, zimbabwe national family planning council znfpc, the department of international development dfid, jsiukcrown agents consultancy, inc., the national pharmaceutical corporation natpharm, and the national hiv care and treatment partnership forum. table 1 shows deliver in zimbabwes principal areas of intervention and the primary partner organizations with whom deliver collaborates most closely. zimbabwe final country report 1 table 1 partner organizations partner organization commodity security and cpts art care and treatment dttu usg arv quantification and procurement hivadis commodities interim ordering and distribution system aids and tb program x x x natpharm x znfpc x x mcaz x psi x jsiukcrown agents consultancy, inc. x x zimbabwe national family planning council as delivers primary local counterpart for the delivery team topping up dttu system, the znfpc works with deliver to implement activities developed for dttu, which distributes condoms and contraceptives nationwide. the znfpc is responsible for communicating and coordinating with its provincial staff, the mohcw, and other stakeholders, and has the important role of service delivery and information, education, and communication. these efforts promote use of the condoms for hivaids prevention and increase condom demand. specifically, the znfpc providesadequate warehousing space for storing the hivaids condoms in the harare and masvingo warehouses to allow for a maximum of 12months supply of condoms and contraceptives at the central level of the system  central and provincial znfpc technical personnel to staff the delivery teams  sufficient office space for deliver staff based at the znfpc in harare and masvingo. jsiuk and crown agents consultancy, inc. through december 2005, jsiuk, through crown agents consultancy, inc., assisted the znfpc with the development of a targeting strategy for the distribution of female condoms and provided financial support to include contraceptives in the hivaids condomdttu delivery system developed by deliver and the znfpc. more specifically crown agents consultancy, inc., was responsible for  providing staff to assist in implementing, monitoring, and evaluating the dttu system  providing per diems, information technology support, and other support for all crown agents consultancy, inc., dttu project staff, as well as a portion of subsistence and travel allowance for znfpc deliveryteam members while conducting deliveries  leasing delivery trucks as necessary, andor providing fuel, maintenance, repair, and general operating costs for delivery trucks and monitoring vehicles purchased by deliver  providing office furniture, equipment, and supplies and other inputs, as appropriate. zimbabwe final country report 2 aids  tb program the aids  tb program of the mohcw is charged with coordinating the implementation of the health sector hivaids response. the program covers several technical areas, including hivaids, tb, sexually transmitted infection, prevention of mothertochild transmission, surveillance, aids at the workplace, and monitoring and evaluation. each area has an assigned technical coordinator. the capacity of the program to ensure commodity security of antiretrovirals arvs and other hivaidsrelated products has been strengthened through the secondment of three logisticians two from deliver, and one from cdc. the aim has been to secure regular forecasting and quantification of hivaids commodities, as well as closely monitor stocks of arv drugs at art sites. however, due to the lack of skilled manpower, these individuals are forced to work on all programmatic areas, rather than concentrate strictly on the logistics requirements of the programs. natpharm natpharms mandate is to manage the supply chain management of all pharmaceuticals for the mohcw, including hivaids commodities. recognizing that the success of the zimbabwe national art program will depend in part on the development and implementation of a strong supply chain management system, deliver in may 2006 conducted an assessment of natpharm and mohcw capacity for supply chain management of hivaids commodities. the mohcw has approved the recommendations of that assessment, and usaid has agreed to fund the implementation of some of those recommendations. hiv national hiv care and treatment partnership forum the national hiv care and treatment partnership forum is a critical structure for communication and coordination vital to the zimbabwes national art rollout. deliver began providing technical and other assistance to the aids  tb program in organizing the art partnership forum in november 2005. deliver and the world health organization who provide financial support for the meetings, and deliver also provides secretariat services. members include usaid and the cdc usg, dfid, unicef, the european union, mdecins sans frontires msf, the elizabeth glaser pediatric aids foundation, zimbabwe association of church hospitals, the national aids control program, united nations agencies, mohcw personnel. and others. the mohcw sets the date, venue, and agenda with input from the group, and uses the email database to send invitations to forum members. the forum meets bimonthly. in addition to these groups, population services international psi implements various hivaids related programs, with funding from usaid and other donors. psi is the lead agency in the social marketing of protector plus condoms and other contraceptives, and also runs a highly successful voluntary counseling and testing program new start. the medicines control authority of zimbabwe mcaz tests and approves all condoms and arv drugs used in the national program. key challenges zimbabwe is in crisis on several fronts, and it is increasingly difficult to implement effective programming. political and economic policies have resulted in hyperinflation, high unemployment, shortages of food and fuel, and widespread hunger and disease. the countrys once excellent public health system is declining, and quality health services are sparse. many international donors have discontinued their development programs, leaving elements of the national health programs underfunded. usaid funding support for public sector family planning programs was discontinued when the brooke alexander amendment sanctions were imposed in january 2002, the brookealexander amendment limits economic assistance when a foreign government defaults on loan payments. usaid assistance to the goz was further restricted in response to the flawed presidential election in march 2002. the hyperinflationary environment deliver is operating in an economic environment that is characterized by fourdigit inflation and a statecontrolled exchange rate regimen. in this environment, zimbabwe final country report 3 project funds are exchanged at the official exchange rate, where they have sometimes fetched as little as 20 percent of the parallel market rate. this has exposed project funds to the hyperinflation that is obtaining in zimbabwe. while recent changes to the currency and easing of the exchange rate were designed to try and alleviate some of the hardship, it has created a new difficulties for zimbabweans, and the economic situation will not improve in the foreseeable future. fuel shortages zimbabwe is operating under a severe fuel shortage environment, mainly due to the shortage of foreign currency. international organizations can use their own foreign currency to import fuel through caltex for use in projects. the caltex facility has been reliable, but fuel is available only in major centers. it is a challenge to make distributions in rural areas, where there are no refuelling facilities. in addition to having an extra fuel tank installed on each delivery truck at the time of purchase, deliver has fitted each truck with a trunk that can carry 10 jerricans in order to increase the distances that the trucks can cover without returning for refueling on delivery runs that require more fuel than the two standard tanks can carry. poor road network although zimbabwe has one of the better road systems in africa outside south africa, during the rainy season some clinics, hospitals, and communitybased distribution workers become inaccessible due to the bad condition of roads. this leads to increased stockouts. antiretroviral therapy the broad challenges with regard to the general operating environment discussed above apply for implementation of art programs. the main challenges specific to the art initiative include  operating in an environment with a very high need for art services  the need to keep adapting to changing mohcw priorities that may not necessarily be in line with the deliver workplan  staff attrition at the five sites and in the other goz areas deliver is supporting  centralization of services in major hospitals, coupled with escalating transportation costs. high unmet need for art the deliver art activities are being implemented in an environment of high unmet need for arvs and art services. it is estimated that between 26,000 and 30,000 zimbabweans are currently on art. this represents less than 10 percent of the zimbabweans with aids who need art today. as an implementer for the usg, it is a challenge for deliver to manage the perception from our partners that the usg could do more to support hiv care and art scaleup and to let them know that the usg is doing as much as it can, given the current environment. need to keep adapting to mohcw priorities deliver provides technical and other support to the national art program. as part of this support, the mohcw has requested significant deliver staff time to assist with the site readiness and followup assessments of the national art sites. deliver has adapted to accommodate this expanding need, while ensuring priority areas in the deliver art workplan also received due attention. very high staff attrition in the health delivery system this is a major challenge for the national art program and also for deliver activities in zimbabwe. staff attrition is very high in zimbabwe because of the poor performance of the economy and aids mortality. this means that there is a continual drain of trained staff, and a continual loss of institutional memory that also affects the programs deliver is supporting. staff shortage and high staff attrition are an increasingly major threat for the sustainability of delivers programs and for future operations. need for decentralization of services. the national rollout plan of hiv care and art has focused largely on scaleup of hiv care and art services through the central, provincial, and district hospitals, zimbabwe final country report 4 depending on their readiness to implement services. there are currently 57 sites, nearly all of them hospitals, offering both art initiation and art followup services. having a national scaleup plan focused on hospitalbased hiv care and art services has meant that most of the patients in care have to travel long distances to access hiv care and art services at the nearest hospital certified to offer the services. however. as zimbabwes economy has continued to experience increasing challenges, many of which have had an impact at the individual level. escalating travel and transport costs, and sometimes unavailability of transport, are negatively affecting patient adherence to clinical care and art nationwide, with potential for adverse public health outcomes for the zimbabwe art program. high hospital consultation fees are also a major disincentive for accessing hospitalbased services, including hiv care and art services for patients, leading to high defaulter rates. additionally, as more and more patients are enrolled, the main art sites initiating patients on art are quickly reaching their saturation capacity. decentralization of hiv care and art services is therefore not only required in order to facilitate easier access to services and adherence to hiv care and art for patients, but also to enhance quality of care by decongesting the art initiating sites and reducing patient waiting times for services at these sites. delivery team topping up the primary challenge for the dttu programs has been dfid funding gaps. from the time that the jsieurope project closed its offices in zimbabwe on 31 december 2005, the flow of dfid funds into the project was erratic and resulted in significant disruptions to the dttu delivery schedule. dfid and crown agents consultancy, inc., are in the process of signing a contract that will continue dttu funding through february 2007. dfid plans to have a new procurement contract in place by that time and that the contractor will be able to purchase contraceptives for the project and channel operational funds into dttu. an additional challenge for dttu was the delays in condom distribution due to mcaz testing standards. some usaidprovided condoms failed mcaz testing, in part because the mcaz was using outdated who testing standards, and in part because of inconsistent testing procedures being used by the mcaz. family health international fhi, usaids contraceptive quality assurance contractor, assessed mcaz testing procedures and recommended training in the united states for two mcaz staff. deliver funded the training. no condoms have failed mcaz testing since that training and the adoption of the most recent who testing standard. zimbabwe final country report 5 zimbabwe final country report 6 goals and objectives the country strategy and evaluation plan writte\",\n          \"1 usaidea flexible family planning, reproductive health and genderbased violence services for transition situations burundi and drc pathfinder international with intrahealth international final report usaid east africa associate ca no. 623a00080005100 submitted june, 2013 contents acronyms and abbreviations. 1 i. background . 2 ii. activities and results. 3 a. plan early and continue planning through each phase . 3 b. train a core cadre. 4 c. establish mobile outreach teams . 5 d. communitybased distribution of family planning services . 9 e. set up of 24hour dropin centers and post rape care . 10 f. address gender issues . 13 g. implement community advocacyactivities including health promotion and community outreach . 15 h. develop partnership and coordination . 16 iii. challenges and lessons learned . 18 challenges . 18 lessons learned . 19 iv. conclusion . 20 1 acronyms and abbreviations abubef  association burundaise pour le bien etre familial aids  acquired immune deficiency syndrome anc  antenatal care bdom  bureau diocsain des uvres mdicales cbd  community based distribution cdf  centre de dveloppement familial chw  community health workers cimci  community integrated management of child illness drc  democratic republic of congo ec  emergency contraception erp  emergency response plan fp  family planning gbv  gender based violence gp  general practitioner him  healthy image of manhood hiv  human immunodeficiency virus htsp  health timing and spacing of pregnancies idp  internally displaced persons imt  integrated mobile team ippf  international planned parenthood federation iud  intrauterine device mch  maternal and child health misp  minimum initial package services moh  ministry of health mou  memorandum of understanding ngo  nongovernmental organizations pep  post exposure prophilaxis pnsr  programme national de la sant de la reproduction ramp  reflection and action within most at risk population rh  reproductive health sgbv  sexual gender based violence srh  sexual and reproductive health sti  sexual transmitted infection tot  training of trainers tps  technician de promotion de sant health technician promotion un  united nations unfpa  united nations population fund usaid  us agency for the international development. 2 i. background the regional flexible family planning, reproductive health and genderbased violence services for transition situations project was funded by the united states agency for international development usaid and implemented by pathfinder international, in collaboration with intrahealth international. the flexible fpgbv services for transition situations was piloted in burundi and walungu eastern drc. in burundi, as in drc, political crisis generated internally displaced populations idps, refugees camps and returned populations who were at high risk of death and disease from reproductive health disorders and interpersonal violence. the affected populations experienced forced displacement from homes, exposure to violence, poverty and separation from families and communities, all of which significantly disrupted their access to health services, including family planning and reproductive health services. the flexible fpgbv services for transition situations project aimed to produce flexible approaches that can be matched and packaged as models to deliver rhfpgbv services at different phases of crisis as well as pre and post crisis. the project targeted the idps, refugees and populations living in transition situation mainly in muyinga province and walungu the eastern drc. pathfinders proposed models to deliver comprehensive rhfpgbv services for populations affected by crisis included the following menu of options  early planning precrisis and planning at various phases of crises  training a core cadre  establishing mobile outreach teams  providing communitybased distribution of depo provera  setting up 24hour dropin centers  offering post exposure prophylaxis and emergency contraception ec  addressing sexual and genderbased violence including the healthy images of manhood approach him  implementing community advocacyactivities including health promotion and community outreach and  government developing partnerships and coordination with other organizations, including the un and other humanitarian organizations, and local ngos. this report covers the activities and results produced during 4 years of the projects life. 3 participants to the national contingency plan validation workshop in burundi the burundian national contingency plan. ii. activities and results a. plan early and continue planning through each phase one of the approaches piloted was about preparing the response to a crisis before it happens. planning that occurs in advance of a crisis can take place at a slower pace than planning at the onset of an emergency. comprehensive rhfpgbv services need to be established as soon as possible in the stabilizedcomprehensive prevention and response phase after the emergency phase. to do this requires early planning, starting from the emergency preparedness phase, continuing into the midst of emergency, which includes the implementation of the minimum initial service package misp for reproductive health. activities below were implemented by the project in burundi during its fouryear life, the fp project supported updates to the national contingency plan in collaboration with unfpa. for the first time, the misp for the rh component was integrated into the national emergency preparedness plan. at the provincial level, workshops were organized in kayanza and muyinga to update the two provincial contingency plans and incorporate the misp for rh concept. in drc in 2011, the project supported trained srh sexual and reproductive health coordinators on the misp for rh to develop and finalize the misp for rh provincial work plan before its integration into the south kivu province contingency plan. the document was updated in october 2012 and validated at the provincial level. the south kivus misp for rh work plan 4 participants from 15 organizations becoming misp for rh coordinators the work plan developed was presented by the pnsr and validated at the provincial level for future integration into the south kivus provincial contingency plan. b. train a core cadre another program approach is to train a core cadre of program planners and implementers. different types of crises and phases of a crisis require different skill sets and appropriate training. pathfinder identified and trained a core cadre of personnel composed of health and nonhealth providers comprising select key staff and health workers. in burundi during the project, trainings of a core cadre of trainers were conducted in various topics misp, sgbv, and him. trainings were conducted both at the national and provincial levels. a total of 101 trainers were trained in burundi 5 trainers trained on sgbv case management, 50 trainers trained on misp and 46 trainers trained on him. training participants were from both the health sector and nonhealth sector. in drc during the 4 years of implementation, in close collaboration with pnsr department of the provincial moh in the south kivu province, trainings of a core cadre of trainers were conducted on various topics misp, sgbv, him. a total of 54 trainers were trained in south kivu province 5 trainers trained on sgbv case management, 24 trainers trained on misp and 15 trainers trained on him. training participants were from both the health sector and nonhealth sector. srh task force in bukavu, south kivu. october 2012. 5 clients seeking for long acting and permanent fp methods in gasorwe. onsite testimony by an implant beneficiary to public. returnees and idps benefiting from integrated mobile outreach activities c. establish mobile outreach teams this approach, which was piloted in burundi and drc, aimed to complement and supplement services provided by existing clinicsfacilities. planning for an integrated mobile team imt approach can be initiated precrisis or teams can be established at various phases of a crisis, including the postcrisis recovery phase. the accomplishments are described below in burundi the imt approach started in 2011, with the implementation of the strategy requiring close collaboration with official authorities health and administration and with various implementing partners. the project signed 2 mous one with abubef and another with kayanza health district, defining roles, responsibilities and mechanisms of effective and strategic co implementation of the integrated activities. the range of services offered in the imt outreach activities were  family planning services services offered during imt include long acting fp methods implants and iud, contraceptive side effect management, oral contraceptives, condoms male and female, and pills. o o  genderbased violence prevention and case management during imt activities, gbv services were offered. survivors of genderbased violence received clinical and psycho social services ec, pep, hivaids testing, etc.. also sensitization and community mobilizationorientation events were organized for all the attendants. 6 children captivated by a longer singer screening process in gasorwe  hiv testing and sti case management clients for hiv testing benefit oneonone counseling and testing. clients receiving sti treatment also benefit from counseling during and after medical consultation.  anc and post natal care imt sessions were the opportunity for pregnant women to benefit from antenatal care and post natal care for those who recently delivered. these services were offered either by nurses, midwives or other trained health workers. it should be noted that, pregnant women presenting danger signs were referred to the nearest health centerhospital andor specific appointments set up for delivery with skilled birth attendants and in a secure place health centers or hospitals, depending on the identified signs.  nutrition another new element into the imt services is nutrition at the community level. this was done in collaboration with the mch projecttrained mamans lumires illuminating mothers and chws trained on imci. this approach has proven to be the most effective entry point for fp services. indeed, through these nutrition activities, mothers, while taking care of their children, not only received key messages on family planning but they also had the chance to discuss with health providers and chw about fp methods and ultimately adopted their preferred method. women waiting for ancpnc. 7 trained chw offering malaria testing  malaria the homebased management of malaria aiming to reduce malaria related deaths by timely screening and treating children is a strategy piloted by the pathfinder internationalmch project in the same provinces. during imt sessions, trained chws provided malaria testing and treatment to children. mothers were also provided with adequate counseling on malaria prevention and appropriate use of bed nets but also connecting those mothers to other services including reproductive health family planning, gender based violence, hivaidssti and nutrition. as a result, 3 imt were established and 22 sessions were conducted in kayanza and muyinga. during these imt sessions, achievements include indicator total achieved people reached 11003 implants inserted 54 dmpa offered 90 condoms distributed 795 hiv tests 1325 nutrition screening for under five 1588 sti treatment 173 malaria testing 195 in drc the project started piloting imt in drc from 2011 up to the end of the project and activities were conducted in walungu and miti health zones. details of the integrated package offered in south kivu region are listed below  family planning fp service offered by the integrated mobile team in the south kivu region includes 1 fp counseling and 2 service provision that includes pregnancy testing, contraceptive administration and side effect management. as mentioned above, the imt also integrate the long acting fp in addition to those already provided at the community level.  genderbased violence prevention and case management gbv prevention and case management are part of the integrated service package offered during the imt activities. if cases of sgbv existed, survivors received clinical and psychosocial services including emergency contraception ec, post exposure prophylaxis pep, hivaids testing, as 8 awareness session during an imt activity in miti health zone south kivu, drc appropriate. often, community mobilization and sensitization were organized targeting gbv survivors.  hiv testing and sti case management clients requesting hiv testing received personalized counseling before any testing and those who tested positive were referred accordingly for case management. those receiving sti treatment also benefited from counseling during medical consultation.  antenatal care and post natal care during the imt activities, women received antenatal and postnatal care from the teams technicians who were medical doctors, nurses, midwives. counseling was given to client or couple on fp methods and educational materials were made available on site to help with htsp.  nutrition this service was offered in walungu and mitimurhesa health zones by the hospital staff leader in collaboration with volunteer mothers from the community. using local resources and crops, there were a cooking demonstration showing different ways to mix ingredients to improve and maintain good nutritional status the session was also accompanied by nutritional screening targeting mainly children under five.  medical consultation a gp from the referral general hospital was made available during the imt outreach for outpatients in consultations as well as referred cases from the nearby health centers, especially for those clients living at significant distance from hospitals. the gp also received clients in need of help beyond the capacity of health center technicians. with 2 imt established, a total of 26 sessions of imt were conducted in drc. during these imt sessions, achievements were as below indicator total achieved people reached 7000 dmpa offered 35 condoms distributed 632 hiv tests 225 nutrition screening for under five 1652 sti treatment 159 onsite medical consultation 444 9 cbd agents equipped by usaid donated bicycles under walungu health zone authorities supervision view of cbd agents during a training session in burundi d. communitybased distribution of family planning services trained community health workers can safely provide fp methods including injectable contraceptives and insure access to the full range of fp methods to populations in transitional situations. community distribution of fp methods takes the service to populations cut off from facilitybased services. in this axis, the project realized the below activities in burundi during the 4 years, sessions of trainings for cbd agents and supervisors were organized in the two provinces of projects intervention zone. a total of 104 cbd agents and 40 supervisors were trained to cover 10 project sites. trainers were from the pnsr and provincial level and the training manual used was the national guide for chws. formative supervisions were also conducted by the fp project with health districts supervisors and monthly workshops were organized. one of the monthly workshops objectives was to develop provincial ownership. the achievements from the burundi cbd activities are shown in the table below raising awareness activities conducted by cbd agents in burundi households visited 20408  people reached 110811 reached with fpgbv messages fp commodities distributed during raising awareness activities condoms 84550 pills 1701 cycle beads 1080 in drc during the 4 years of the projects life, training sessions for cbd agents and supervisors were organized. 10 joint formative supervision of cbd activities in drc a total of 189 cbd agents in drc 97 from walungu and 92 from miti were trained, including 55 offering dmpa. trained cbd agents were equipped with a cbd kit, accessories for hand washing, raincoats, boots and management tools register, client cards, and calendar. the walungu cdb agents received bicycles to facilitate their transportation within their communities. in total 91 bicycles were distributed to 91 chws in the walungu health zone by the fp project. the distribution was directly managed by the walungu health zone authorities for future followup. joint formative supervisions of cbd activities were conducted in walungu and miti health zones with the rh provincial department and monthly workshops were organized with the objectives to 1 refresh cbds on communication and technical skills as well as enhance experience exchange, 2 resupply cbds and 3 compile the data collected by these cbds. achievements from the drc cbd activities are shown in the table below raising awareness activities conducted by cbd agents in drc households visited 30546  people reached 60313 reached with fpgbv messages fp commodities distributed during raising awareness activities dmpa 5716 condoms 121078 pills 7390 cycle beads 4119 e. set up of 24hour dropin centers and post rape care setting up 24hour dropin services, preferably within existing clinics, is important respond to emergency rhfp needs of all women, including survivors of sexual and genderbased violence. considering the high hiv prevalence and incidence of rape in communities living in transitional situations, pep and ec are critical services. the gaps in equipment and need to renovate health facilities made establishing these 24hour dropin services even more challenging. 11 the fpgbv project accomplished a varied range of activities in burundi while piloting approaches for 4 years, health facilities benefited medical and nonmedical equipment and supplies including but not limited to solar panels, delivery kits, and height measuring scales, stethoscopes, iud kits, hospital beds and plain foam mattresses, infant incubators to insure that 24 hour services are functional. the project also supported people from mugano for the rehabilitation of mugano health center which was transformed in a district hospital. the fp project supported with fuel, kayanza and muyinga in twoway referral system, a critical aspect in managing emergencies, to ensure a fluid and working reference mechanism between communities and health center through chws, the health centers and the referral hospitals. referred clients include emergency obstetrical cases and clients from remote communities in need of special care. the fp project organized training workshops for health providers on gbv case management in order to offer emergency services 24 hours a day. a total of 35 health providers from kayanza and muyinga were trained on sgbv clinical care, in collaboration with seruka. a total of 35 sgbv providers trained by the fp project continue to assist survivors in muyinga and kayanza. formative supervisions were carried out by the fp project. the project organized a training of trainers on sgbv case management for 5 selected providers who were previously trained on sgbv case management. the project proposed to update the sgbv manual and an addendum was produced and submitted to the pnsr for use and appropriation. the project supported the pnsr to organize a workshop to integrate the addendum in sgbv training manual. currently the sgbv training manual is updated thanks to the projects support. from trainings, renovation and equipment benefited, the 12 health centers and hospital reported having received more than 300 sgbv survivors where they received care including emergency contraception ec and psychosocial care from nurses trained on sgbv case management by the project. twentyfour hour dropin services are also functional in the 12 health facilities. 12 izirangabo health center before rehabilitation izirangabo health center after rehabilitation burhale health center after rehabilitation one bloc burhale health center before rehabilitation in drc five health facilities were renovated by the project to enable them to offer 24hour dropin services. these facilities are walungu hospital, kidodobo, burhale, bideka. also, the project equipped 26 health facilities in medical and nonmedical equipment and supplies including but not limited to solar panels, delivery kits, and height measuring scales, stethoscopes, iud kits, hospital beds and plain foam mattresses, all to insure availability of services 24hours a day. 13 follow up sessions were conducted by the fp project to evaluate quality of services in the health facilities that were renovated. burhale and izirangabo health facilities were visited in the drc and it was noticed that  equipment distributed is being used to meet the needs of population  service provision and fpgbv service uptake are improving  the number of clients seeking care has increased. the fp project supported kayanza and muyinga with fuel for the twoway referral system, a critical aspect in managing emergencies, and ensuring a fluid and working referral mechanism between communities and health center through chws, the health centers and the referral hospitals. referred clients include emergency obstetrical cases and clients from remote communities in need of special care. the fp project also organized training on sgbv case management for health providers to offer 24 hours services. a total of 30 providers attended the training. the project also organized a training of trainers on sgbv case management for 5 selected providers who were previously trained on sgbv case management. the trainings, renovation and equipment donations, enabled health centers and hospitals to report having received around 80 sgbv survivors who received care including ec and psychosocial care from nurses trained on sgbv case management by the project. twentyfour hour dropin service is also operational in partner health facilities. f. address gender issues in transitional situations, women dont have the same access to power structures and material resources. also, the breakdown of social networks and institutions, the loss of means of livelihood, and the weakness of social and sexual norms increase the vulnerability of girls and women to sexual and genderbased violence. in order to preventaddress those issues, the fp project implemented the successful him approach. in burundi during the 4 years, him activities were mainly conducted in gasorwe. a training of trainers session on him was conducted in gasorwe commune. a total of 13 participants were present during the 5day training. these participants included staffs from the administration department of muyinga province, administration of gasorwe commune and the moh. 14 view of participants religious leaders in muyinga after the him training the fp project conducted also 5day him trainings for each of the 11 selected collines for him activities in gasorwe, burundi. a total of 331 participants attended the him trainings. the fp project organized a him training for religious leaders in muyinga and kayanza provinces. in total, 50 religious leaders from various religious groups were trained over a 5day period. by the end of this training, religious leaders were equipped with visual tools including fp posters to support them when communicating fp messages with their peers and community members. among the 50 religious leaders trained, 8 from the kayanza province were female. after implementation, followup meetings were conducted for him champions who were trained at gasorwe refugee camp. the purpose of the meetings was to assess the progress of the outreach educational activities. at the end of the project, a qualitative assessment was conducted about the him approach. feedbacks from the community of gasorwe commune were collected. health providers and beneficiaries were enthusiast describing the great positive behavior changes in their communities. interviewed him champions showed interest in continuing raising awareness beyond the projects life. provincial and communal authorities are now champions in promoting the him approach as a solution for their living together. in drc while piloting approaches, the fp project conducted a sgbv prevalence assessment in walungu health zone. the purpose of the assessment was to determine 1 estimated number of survivorsvictims of sgbv, 2 types of sgbv and perpetrators, 3 institutionsorganizations providing care and treatment and services offered. in all, 99,6 of reported survivors were women victims of sexual violence cases, 58,1 of victimssurvivors sought services and 90,1 of perpetrators were militaryrebels. participants in him training in gasorwe 15 the fp project conducted trainings for trainers for 20 participants. the first step of training aimed to establish him trainers core team. him champion trainings were also organized for 87 him champions. the participants were representatives of public services, churches including choir members, local associations including womens associations, small business owners such hairdressers and retail sellers of gasoline, nurses, and teachers. a workshop was organized by the pnsr to review the him approach module and adapt it to bukavu context. during the workshop the participants agreed to change the title of the him to implication des hommes dans la sant de la reproduction involvement of men in reproductive health and to include an advocacy plan that involves authorities, community leaders and health care providers from south kivu province. g. implement community advocacyactivities including health promotion and community outreach the goal of the community advocacy and mobilization activities is that populations in transition situations would recognize, analyze, and prioritize resources and needs and take collective actions to maintain and improve their health. in burundi during the 4 years, awareness raising events were conducted by the fp project to reach community with fpgbv messages. the fp project partnered with local theater groups and developed several theater sessions widely disseminating fp and sgbv messages and scenarios. among theater groups were umuco and tubiyage theater groups. him adaptation workshop, bukavu theater group member acting as fp counselor in kayanza. participants and facilitators at the him tot. family picture, bukavu 16 in collaboration with the local health and administrative authorities and abubef, the fp project conducted advocacy sessions, community mobilization and awareness raising events in muyinga and kayanza province, preceding all imt outreach activities. this preimt session activity is key for the imt success. it was an opportunity to inform the community of the event and educate them on the variety of services to be offered. more than 150,000 people reached by sensitization messages on fpgbv through different channels used by fp project theatre performance, imt and cbd. the project also organized a threeday training of trainers whose objective was reflection and action within most at risk population ramp. it is all about identifying a list that prioritizes barriers to behavior change by listing as many community life issues as possible. a way of creating a prioritized list of behavior issues that the community is facing. thirtyfour health promotion technicians tps in kayanza and muyinga provinces attended the training of trainers. in drc during the 4 years, the fp project, in collaboration with walungu health zone authorities, organized several community awareness raising activities engaging community leaders and local officials to maximize the sensitization impact on family planning, reproductive health, and gender based violence. findings show that in the absence of their husbands, wives express interest in choosing a family planning method or seeking other rh services. the fp project initiated and maintained its awareness campaigns, conducted every tuesday and friday, targeting mothers seeking health services in the walungu general hospital maternity yard. information about modern contraceptive methods were shared using visual tools and materials showing samples of all available methods including long acting and permanent methods. more than 70,000 people reached by sensitization messages on fpgbv through different channels used by fp project theatre performance, imt and cbd. h. develop partnership and coordination in order to improve service access and quality, the fp project solicited the collaboration of the moh at all levels national, provincial, districts, ngos, and different associations involved in ensuring health services to populations in transitional situations. in burundi during the 4 years, coordination meetings involving fp project, the civil protection department, unicef, unfpa and red cross burundi were organized to prepare the update of the national 17 contingency plan and integration of the misp for rh into the national emergency preparedness plan workshop. in addition, the fp project supported burundi to participate to regional fp gatherings. team members included the moh and partners. the fp project staffs were invited to participate in meetings organized by other partners to review activities and explore synergies. moreover, as most of the activities offered in imt were not included in the fp project scope of work, coordination mechanisms were established with the pathfinder internationalburundi mch project. also 2 formal mous were concluded one with abubef and another with kayanza health district defining roles and responsibilities and mechanisms of effective and strategic coimplementation of the integrated activities. joint supervisions initiated by the fp project and health districts supervisors were conducted with the objective to assess the level of collaboration between cbds and health centers, to reinforce cbd agents capacity and to support health districts to develop ownership of the activity by monitoring cbd activities by themselves during other health centers activities. a successful collaboration and negotiation with unfpa resulted on the provision of more than 1000 fp charts to distribute in different health facilities. in drc during the projects life in drc, the fp project supported the walungu general hospital by making available tools and medical equipment for improving the quality of care offered to victims of sgbv. the delivery maternity ward benefited from partograms, clean water and electricity source via generator. the fp project continued strengthening the walungu referral system and the ambulance functioning by providing support on fuel. also 2 formal mous were concluded one with walungu health zone, one with miti health zone and another with bdd defining roles and responsibilities and mechanisms of effective and strategic partnership. nairobi fp meeting, burundi gallery walks, july 2011 mou with abubef mou with walungu health zone 18 joint formative supervisions of cbd activities were conducted in walungu and miti health zones with the rh provincial department and health zones supervisors to strengthened partnership and health authorities ownership of the cbd approach. a successful collaboration and negotiation with unfpa resulted on the provision of a certain amount of fp commodities to support the cbd activities. commodities provided by unfpa in drc fp commodities quantity expiration period emergency contraception noristerat 27.100 doses sept 2016 levonorgestrel 1.000 doses april 2016 implanon jadelle 1.100 pieces sept 2016 pills oral contraceptives coc 11.760 boxes x 3 tablets aug 2015 condoms male condoms 187.200 pieces feb 2016 accessories syringes  2 ml 26.400 pieces na iii. challenges and lessons learned during the implementation of the fp project, pathfinder international faced the following challenges but also learned some lessons challenges  insufficient skilled personnel to update contingency plans. this was a big issue to update contingency plans in a timely way  mobility of the personnel the fp project trained people who were transferred to other places out of our intervention area  national decision makers who were far from intervention area in drc was a big issue for documents update which took longer than planned  the success of the imt required the use of mobile clinic car, which was not available within the fp project. this was solved by using district ambulances in kayanza and drc and a mobile clinic car provided by abubef in muyinga  health policies did not allow chws to offer injectable contraceptives. in burundi, this was solved by referring clients in need of injectable methods to the nearest health facility. in drc, unemployed nurses were trained as cbds to offer dmpa within their community  all chws trained\"\n        ],\n        \"semantic_type\": \"\",\n        \"description\": \"\"\n      }\n    },\n    {\n      \"column\": \"Text_processed\",\n      \"properties\": {\n        \"dtype\": \"string\",\n        \"num_unique_values\": 5,\n        \"samples\": [\n          \"f n l r e p r 20092015 usaid tb program south africa 20092015 worked closely south african national department health doh stakeholders support governments health sector reform expansion quality accessible tb services. addition, project worked provincial district health departments development, implementation, evaluation needsbased strategies combat tb, tbhiv, drugresistant tb drtb, promote best infection control practices. support also helped communities create appropriate advocacy, social mobilization, health systems strengthening innovate service delivery models rapid expansion directly observed treatment short course dots control tb. usaid tb program south africa implemented prime contractor university research co., llc urc, partners international union tb lung disease, health systems trust, johns hopkins health education south africa jhhesa, bea enterprises, karensoft consulting group. photos report taken tebogo kekana usaid tb program staff. f n l r e p r contract 674c00090012100 prepared usaid southern africa sent nellie gqwaru, cor submitted siphiwe mndaweni, chief party university research co., llc pretoria, south africa 28 april 2015 disclaimer authors views expressed publication necessarily reflect views united states agency international development usaid united states government. executive summary .1 introduction usaid tb program south africa .4 context program rationale .4 program goals objectives .4 geographic scope .4 technical approach key implementation strategies. .6 program focus areas . 7 project activities key results .9 ir 1 increase quality tb services .9 ir 2 increase availability tb services .12 ir 3 increase demand tb services .14 ir 4 improve management tb services .17 ir 5 tested new approaches expanding dots coverage .19 program impact .21 program success stories .26 accelerating art uptake among tbhiv coinfected patients south africa .26 addressing drtb south africa decentralized care .29 reaching vulnerable populations small grants program .31 addressing tb children .32 summary future directions tb programs south africa .34 key ongoing challenges experienced projecttb control south africa general.34 priority actions future tb programs .35 table contents figures figure 1. usaid tb program south africa intermediate results framework . 5 figure 2. usaid tb program allocated districts province . 5 figure 3. improvement strategies expanding quality tb services .6 figure 4. gxp identified cases 20112014 . 10 figure 5. mdrtb south africa world tb report 2014 .12 figure 6. art uptake among tbhiv coinfected patients 20122014 .13 figure 7. tb program south africa grantees organizational capacity improvement .16 figure 8. ppm approach addressing tb .19 figure 9. sputum smear conversion rates, tb program south africa data 20092014 .21 figure 10. smear conversion rates retreatment cases, tb program south africa data 20092014 .21 figure 11. treatment success rate, new tb cases, tb program south africa data 20082013 .22 figure 12. unfavourable treatment outcomes, new tb cases, tb program south africa data 20082013 .22 figure 13. unfavourable treatment outcomes, retreatment cases, tb program south africa data 20082013 .23 figure 14. hiv testing among tb cases, tb program south africa data 20122014 .23 figure 15. number hivpositive people screened tb, tb program south africa data 20122014 .23 figure 16. bacteriological coverage 20092014 . 24 figure 17. improved capacity building trainings provided tb program south africa . 24 figure 18. amathole district tbhiv integration results . 27 tables table 1. summary usaid tb program south africa training .25 table 2. total number hcws trained tb, tbhiv mdrtb 20092014 .25 table 3. number doctors trained tb, tbhiv mdrtb 20092014 .25 table 4. facility risk assessments infection prevention control plans 20092014 .25 table 5. total tb cases reported, nondoh sector .25 table 6. mahikeng tbhiv integration indicators 20112014 .26 5is intensified case finding, isoniazid preventive therapy, infection control, integration initiation antiretroviral therapy acsm advocacy, communication social mobilization aids acquired immunodeficiency syndrome art antiretroviral therapy arv antiretroviral treatment bc bacteriological coverage cat community action team cbo communitybased organization cbs community based services ccmt comprehensive care management treatment ccw community health care workers cdc center disease control chc community health centre copc community oriented primary care cpmdt community programmatic management drugresistant tb cpt cotrimoxazole preventative therapy csir council scientific industrial research cwd cape winelands district dhis district health information system doh department health dol department labour dot directly observed treatment dots directly observed treatment short course drat district rapid assessment tool drs drug resistant survey drtb drug resistant tuberculosis dstb drug susceptible tb dst drug susceptibility testing dttc desmond tutu tb centre dve data verification exercise ec eastern cape province edr electronic drug resistance register etr electronic tb register f4l footballers life fbo faith based organization fdic facility diagnostic information collection fs free state province gp gauteng province gxp genexpert hast hiv, aids, sexually transmitted infections tb hct hiv counselling testing hcw health care w worker hiv human immunodeficiency virus hospersa health services personnel trade union south africa hss health systems strengthening hst health systems trust ic infection control icf intensified case findings iec information, education, communication ipt isoniazid preventive therapy ir intermediate results jhhesa john hopkins health education south africa kzn kwazulu natal province ldic laboratory diagnostic information collection lop life project lp limpopo province monitoring evaluation mdrtb multidrug resistant tuberculosis mis management information system mou memorandum understanding mpu mpumalanga province nc northern cape province ndoh national department health nec national expansion coordinator ngo nongovernmental organization nhls national health laboratory service nmbhd nelson mandela bay health district nsda negotiated service delivery agreement ntcp ntp national tuberculosis control program nw north west province operational research pepfar presidents emergency plan aids relief phc primary health care pmdt programmatic management drtb pmtct preventing mother child transmission ppm publicprivate mix psa public service announcement ptb pulmonary tuberculosis qa quality assurance qi quality improvement sabcoha south africa business coalition sadc southern african development community sag south african government scr smear conversion rate snd smear done strategic objectives ss smear positive sti sexually transmitted infections tat turn around time tb tuberculosis union international union tuberculosis lung disease thp traditional health practitioners thp traditional health practitioners tot training trainers tsr treatment success rate urc university research co., llc usaid united states agency international development vct voluntary counselling testing wad world aids day wc western cape province world health organization xdrtb extensively drugresistant tb acronyms final report 1 final report 1 outh africa third highest number new tuberculosis tb cases world, 860 incident cases per 100,000 population. 2013, approximately 330,000 tb cases notified 2013. tb epidemic south africa mainly driven hiv 6065 incident tb cases coinfected hiv. tb still remains leading cause death among people living hivaids plhiv. country also among high multidrug resistant tb mdrtb burden countries, 1.8 among new 6.7 among retreatment cases. usaid tb program supported government south africa since 20092014 spheres national department health ndoh national, provincial, district sub district. geographic scope project included support nine provinces, direct support 24 52 46 priority districts across country, particularly highest burden tb vulnerable populations limited access services. overall goals usaid tb program assist ndoh increase availability tb services, improve quality tb services, increase demand tb services design innovative models improve service delivery facility level community levels 75 funded nongovernment organizations ngos public private partnerships. usaid tb program implementation principles guided ndoh strategies national strategic plan hiv, stis, tb 2007 2011, later 20122016 ndoh negotiated service delivery agreement nsda output 3 combating hiv aids, decreasing burden disease tuberculosis realize sa governments vision nsda long healthy life south africans well stop tb strategy. drug resistant tuberculosis drtb global public health crisis threatens undermine tb control efforts many countries. south africa currently fifth highest burden mdrtb world, 15,400 diagnosed cases 2012. approximately 10 mdrtb cases reported extensively drug resistant tb xdrtb. usaid tb program south africa supporting ndoh combating drtb country expanding access diagnostics, improving programmatic management mdrtb community level, increasing provider capacity levels implement drtb programs. improve tb diagnostics, usaid tb program south africa partnered closely ndoh facilitate genexpert roll march 2011. substantial political support government investment, south africa 289 genexpert machines placed throughout country. usaid tb program south africa trained 916 technical 3968 clinical staff use genexpert machines. decentralization drtb program supported usaid tb program resulted increased number patients treatment. provide support patients fail treatment, usaid tb program, consultation ndoh, developed strategy promote palliative care incurable mdrxdrtb patients. executive summary usaid tb program successful steadily scaling art uptake across 24 supported districts subdistricts. art uptake among coinfected tbhiv patients project supported districts rose 43.0 januarymarch 2012 high 72.6 apriljune 2014. promote case detection treatment tb among children, project launched campaign raise awareness issue childhood tb, well provided tools health care workers help screen, identify, treatment pediatric tb cases. usaid tb program south africa managed robust portfolio advocacy, communication, social mobilization acsm activities raise awareness tbrelated issues increase demand tb services supported communitybased organizations funded throughout country. project supported mass media campaigns tv public service announcements psas tb messaging popular tv shows radio dramas radio psas radio talk shows interviews dissemination periodical usaid tb program south africa 20092015 2 usaid tb program south africa 20092015 2 press releases newspapers, journals, magazines, publications information, education, communication iec materials pamphlets, fact sheets, posters, widely distributed health facilities, ngos, faith based organizations fbos, sports clubs, health facilities, schools, taxi ranks, bus stops libraries. project used mass media raise awareness symptoms tb hiv general public, encourage test early, ultimately reduce transmission tb proper infection control. tb psas aired tv radio reach wide general audiences tb messages. life project, 72 black south african adults ages 1664 62 children ages 514 reached tv psas, 64 adults 49 children reached radio spots. partnership ndoh, usaid tb program south africa developed national tb awareness campaign called beat tb. campaign targeted adult south africans ages 1664 school aged children. promotion materials featuring beat tb campaign brand distributed community mobilization activities, health education sessions, national events world tb day world aids day. improve tb prevention expand dots communities, usaid tb program south africa awarded 91 grants 75 communitybased organizations throughout south africas nine provinces. grants given local communitybased organizations cbos fbos purpose building capacity tb prevention support. park homes procured installed used addition existing health facilities eastern cape, kwazulunatal, mpumalanga improve infrastructure capacity deliver quality tb services. park homes addressed implementation challenges high case load improve infection control improve integration tb hiv services. usaid tb program south africa adopted publicprivate mix ppm approach addressing tb expanding dots private sector engaging traditional health practitioners thps. thps capitated supporting active case finding, identifying tb symptoms early refer timeously health facilities limpopo, kwazulunatal free state. south africas 500,000 mine workers currently highest rates tb world, miners migrant workers neighbouring countries, lesotho, mozambique, swaziland, resulting huge threat crossborder spread. usaid tb programs support improving tb services within mining sector focused developing lasting multisectoral partnerships geared promote advocacy consensus building among mine operators, mine health services, mine laborers representatives, district department health practical steps implement objectives within declaration tb mining sector, legal instrument, signed 15 heads state summit meeting southern african development community sadc august 2012. final report 3 summary key achievements contributed better tb outcomes, terms improved treatment success rates, loss follow rates, tb screening among hiv patients projectsupported districts. basic tb management, mdrtb, tbhiv trained 19,167 hcws including 917 doctors expanded access tb services among vulnerable hardtoreach populations, including people living hiv, mine workers, children. awarded 91 grants 75 community based organizations throughout south africas nine provinces worked organizations build capacity sustain ongoing fight tb. 91 grants supported decentralization drtb treatment programs throughout country, resulting increased number drtb patients treatment. increased art uptake among coinfected tbhiv patients projectsupported districts involved privatesector partners tb control efforts, led 11,033 cases cases tb diagnosed nondoh sector 43 72.6 usaid tb program south africa 20092015 4 usaid tb program south africa 20092015 4 context program rationale globally, nine million people become ill tuberculosis tb year, 1.5 million die disease. south africa classified world health organization high burden tb, hiv multidrug resistant tb mdrtb country. country worlds third highest tb burden, nearly half million incident cases year approximately one every 100 south africans. twothirds 6065 tested tb patients found hivpositive south africa highest incidence mdrtb extremelydrug resistant tb xdrtb world. usaid tb program south africa 5year project 20092014 implemented university research co., llc urc. project built successes previous usaid tasc ii tb project 20042009, also implemented urc. program goals objectives usaid tb program south africa supported national department health ndoh improving early case detection, increasing access diagnostics, ensuring treatment support patients tb treatment ensuring provision appropriate timely hiv care tb patients art treatment tbhiv coinfected patients. usaid tb program developed multi level support, working closely national tb control program ntp build national support mobilizing resources creating conducive environment expansion tb services, well as, provincial district health departments support collaborative development needbased strategies combat tb, tbhiv drug resistant dr tb, communities create appropriate social mobilization service delivery models rapid expansion directly observed treatment shortcourse dots country. expected results program included u national tb treatment success rate 80. u improved capacity plan implement tb dots community, facility, district, municipality, provincial national levels. u improved surveillance system resulting early detection tb cases, mdrtb cases, coinfected patients art well prevent treatment defaulters reduce mortality. u improved understanding support among general population regarding tb tbhiv signs, symptoms, referral, treatment. project results framework outlined figure 1. geographic scope project worked nationwide, providing support nine provinces, direct support 24 52 46 priority districts across country, particularly highest burden tb, illustrated map figure 2. introduction final report 5 figure 1. usaid tb program south africa intermediate results framework illustrative activities policy advocacy review updating clinical guidelines tb, mdr, tbhiv laboratory system review strengthen components dots ir1 increased quality tb services ir2 increased availability tb services illustrative activities training trainers training lab, facility, community workers tbhiv integration ppm case detection ngocbos high tb areas ir5 tested new approaches expanding dots coverage illustrative activities capacity building ngoscbos linkages ngos public sector use cellphone technology ir4 improved management tb support systems illustrative activities train managers implement support systems districts laboratory, drug, logistics management ir3 increased demand tb services figure 2. usaid tb program south africa allocated districts province south africa supported districts northern cape western cape north west free state eastern cape gauteng limpopo npumelanga kwazulunatal lesotho mozambique swaziland botswana namibia illustrative activities disburse small grants ngoscbosfbos build capacity ngoscbosfbos illustrative activities information, education, communication behavior change communication subir3.1 small grants program subir3.2 acsm usaid tb program south africa 20092015 6 technical approach key implementation strategies support stop tb strategy usaid tb program south africa assisted ndoh implement actualize six components stop tb strategy, included 1 pursuing highquality dots expansion enhancement 2 addressing tbhiv, mdrtb, needs poor vulnerable populations 3 contributing health systems strengthening hss based primary health care phc 4 engaging care providers 5 empowering people tb, communities partnerships 6 enabling promoting research. since adopted may 2014, tb program also supported ndoh work toward post2015 stop tb strategy reduce tb deaths 95 cut new cases 90 2035. patientcentered care usaid tb program south africa worked improve content care, development training evidencedbased national guidelines treatment protocols process care, quality improvement qi strategies designed increase efficiency effectiveness systems context care, support communitybased social support counseling services. working handinglove technical assistance partner doh usaid tb program south africa sought build longterm capacity doh effectively sustainably implement national tb control programme. project received unprecedented acclaim, praise, recognition strong relationship building close collaboration doh levels. notably, 2014 figure 3. improvement strategies expanding quality tb services context care enabling patient environment patientcommunity circumstance urbanrural context accessibilityavailability educationawareness social support process care quality methodology systems complianceadherence variation attitudesmotivation content care evidencebased standards protocols guidelines patient centered care improved outputs improve outcomes, efficiency reduced vulnerabilities final report 7 urc widely applauded high level technical expertise tb, bottomup approach, responsiveness, support doh, capacity building skills transfer well systems building. usaid evaluation report 2014 usaid program evaluation, 100 doh respondents praised project close collaborative relations doh, well bottomup approach. many emerging areas tb, usaid tb program worked expand national dialogue among key stakeholders. included support national tb think tank, hosting national diagnostics summit, many others. decentralized treatment tb program south africa promoted ndoh policy directive, shift away clinicallyfocused, hospital based mdrtb treatment toward programmatic management communitybased care mdrtb patients. model reduces hospital caseloads delays treatment initiation, reduced inpatient costs, allows patients receive sustained family community support treatment. vulnerable populations usaid tb program worked dohs expand services specific vulnerable hardtoreach groups. included expanding services large townships, developing strategies reach workers mining sector, addressing issue tb among women children, funding one programs small grantees address tb prisons. innovations usaid tb program introduced number innovative evidencebased tools improved patient well program management. usaid tb program piloted mhealth applications identifying clustering tbmdrtb patients also developed module mdrtb patient management rolled part proof concept. since march 2011, usaid tb program supported ndoh nationwide rollout xpert mtbrif testing firstline test suspected tb cases. operations research usaid tb program supported design targeted research help answer key operational questions improve tb management systems. example, project funded desmond tutu tb centre evaluate improve tb case reporting among children. program focus areas improving quality tb services u working ndoh, provinces, districts, stakeholders develop implement strategic interventions address threats tb, tbhiv, drtb. u jointly reviewing update clinical programmatic guidelines tb, tbhiv, drugresistant tb. u reviewing laboratory systems levels intervention, conducting needs assessments, mapping tb microscopy diagnostic centers countrywide, addressing laboratory challenges. u continuing efforts strengthen six components expanded stop tb strategy. u conducting operational research programmatic aspects project jointly institutional partners. increasing availability tb services u providing needbased training mentoring managers health care staff levels system basic tb management tbhiv, including national 5 intensified case finding, isoniazid preventive therapy, infection control, integration initiation antiretroviral therapy, art programmatic clinical management drtb laboratory diagnosis tb drtb advocacy, communication, social mobilization acsm. u introducing quality improvement qi methods facilitate implementation tbhiv health care services provincial facility levels per recommendations innovative models. usaid tb program south africa 20092015 8 u assisting provinces, districts, community partners implementing national strategy decentralization drtb management. u expanding available dots system high burdened rural, urban periurban communities communitybased active case finding strategies. increasing demand tb treatment u promoting participating implementation national acsm policy national events i.e., world aids tb days, youth day, tv radio public service announcements, local activities e.g., community dialogues, community activations, kick tb campaign, beat tb campaign, distribution materials e.g., pamphlets, posters, lap desks tb messages school children. u disbursing grants building capacity nongovernmental communityfaithbased organizations expand community based tb, tbhiv, mdrtb xdrtb tb management. improving management tb support systems u strengthening tb information systems conducting regular data verification exercises developing improvement plans. u jointly analyzing reports linking facility case management. u improving supportive supervision surveillance trainings facility mentoring couching. u strengthening linkages health facilities laboratory networks. testing scaling new approaches expanding dots coverage u supporting expansion tb diagnostics, particularly rapid molecular testing methods, genexpert mtbrifgenexpert. u identifying supporting tb tbhiv ppm strategies interventions. u disseminating use geographic information system gis technologies map laboratories, health facilities, treatment supporters households better tb control including drtb. final report 9 ir 1 increase quality tb services policy guidelines usaid tb program south africa assisted ndoh making number improvements national tb policies guidelines improve access use health services improve management tb health facilities. technical assistance partner doh, usaid tb program south africa designed number tools toolkits assist facility managers, health care workers, community health workers deliver high quality tb prevention, diagnosis, treatment services. many tools formally adopted disseminated doh, used partner organizations throughout country. tools include genexpert training manual, clinical dr training manual, tb drtb patient registers, traditional health practitioners screening referral tool, tb screening tool adults children, tbhiv facility data collection tool, drtb treatment care, ipt patient treatment card, daily tb diary. diagnostics lack diagnostic capacity significant barrier preventing effective response tb epidemic worldwide. according global tuberculosis report 2012, highquality laboratory system uses modern diagnostics prerequisite early, rapid accurate detection tb. inadequacies laboratory capacity many low middle income countries cited part reason 66 estimated 8.7 million tb cases 2011 diagnosed notified national tb control programs. usaid tb program supported ndoh expand access rapid, highquality diagnostics tb patients initiated treatment sooner, raising chance cured reducing risk spreading tb others. mapping identifying gaps laboratory systems usaid tb program south africa undertook desk survey 2010 identify preliminary challenges countrys project activities key results 2011, tb program south africa used fdic ldic tools conduct rapid appraisal 22 facilities mafikeng district 10 facilities ventersdorp district northwest province response poor performance provinces tb program. assessment revealed lack tb registers facilities poor recording updating results others. results informed development tailored interventions help facilities address diagnostic challenges. laboratory system. challenges identified included prolonged sputum turnaround time tat, problems cold chain maintenance transportation specimens insufficient access laboratories clinics screening sites. next year, 2011 partnership national health laboratory service nhls, program mapped tb microscopy diagnostic centers country determine coverage tb laboratory services. program also developed facility diagnostic information collection fdic tool laboratory diagnostic information collection tool ldic collect information bacteriological diagnosis tb document usaid tb program south africa 20092015 10 whether appropriate procedures place. using tools, program investigate laboratory challenges, share findings facility district staff, develop interventions, monitor progress followup site visits. roll genexpert rapid tb testing early diagnosis essential achieving significant reductions death disability result tb hiv. one key objectives usaid tb program south africa foster early diagnosis expanded access new effective diagnostic technologies. december 2010, endorsed xpert mtb rif genexpert, rapid testing machine simultaneously diagnose tb detect resistance rifampicin, one important antitb drugs, less 24 hours, potential greatly reduce delay sputum sample collection treatment initiation patients suspected mdrtb test also diagnose 72 smear negative pulmonary tb. effort improve diagnostic capacity drug susceptible drug resistant tb, south africa among first countries adopt implement genexpert replacement smear microscopy people presenting tb symptoms. usaid tb program south africa partnered closely ndoh facilitate genexpert roll beginning march 2011. great acknowledgement political support government investment, south africa 289 genexpert machines placed throughout country project initiated purchase placement 11 genexpert machines projectsupported districts. since 2011, 3.2 million tb tests conduc\",\n          \"zimbabwe final country report march 2007 publication produced review united states agency international development. prepared deliver project. zimbabwe final country report authors views expressed publication necessarily reflect views united states agency international development united states government. deliver deliver, sixyear worldwide technical assistance support contract, funded u.s. agency international development usaid. implemented john snow, inc., jsi contract no. hrnc00000001000 subcontractors manoff group, program appropriate technology health path, crown agents consultancy, inc., deliver strengthens supply chains health family planning programs developing countries ensure availability critical health products customers. deliver also provides technical management usaids central contraceptive management information system. recommended citation deliver. 2007. zimbabwe final country report. arlington, va. deliver, u.s. agency international development. abstract report summarizes delivers key role distributor usaids donated condoms manager logistics system publicsector condoms antiretroviral arv distribution zimbabwes ministry health child welfare mohcw. deliver worked closely mohcw u.s. government improve availability hivaids condoms rural health centers public sector sites. deliver tasked improving logistics system performance, human capacity logistics management, resource mobilization commodity security. delivers role expanded support development, rollout, expansion national antiretroviral therapy art program beginning 2003, specifically areas site readiness assessments, quality assurance, logistics management, condom distribution. delivers objectives five phase 1 sites focused hiv care antiretroviral arv therapy support activities clinical readiness, overall planning management, managing, procuring, distributing arv medicines. program results, lessons learned, future directions offered light many economic social challenges currently facing zimbabwe. cover photo worldviewimages.com. deliver john snow, inc. 1616 north fort myer drive, 11th floor arlington, va 22209 usa phone 7035287474 fax 7035287480 email deliverprojectjsi.com internet www.deliver.jsi.com contents acronyms.v acknowledgments.vii executive summary .ix lessons learned .xi future directions .xi program background.1 country context.1 key players roles .1 key challenges.3 goals objectives.7 deliver objectives .7 description strategies.8 summary deliver funding staffing.9 program results.11 element improved logistics system.11 element ii improved human capacity logistics .14 element iii improved resource mobilization commodity security .15 element iv improved adoption advances logistics .17 element v estimation usaid contraceptive needs.17 lessons learned future directions.19 lessons learned .19 future directions .20 references .21 appendices 1. cs brief .23 2. program results matrix.27 tables 1. partner organizations .2 2. arv formulations usd cost.17 zimbabwe final country report iii zimbabwe final country report iv acronyms aids acquired immunodeficiency syndrome arv antiretroviral art antiretroviral therapy cc drv contraceptive condom delivery receipt voucher cdc centers disease control prevention cpr contraceptive prevalence rate cpt contraceptive procurement table dfid department international development uk dho district health office dps department pharmacy services dttu delivery team topping fhi family health international goz government zimbabwe hiv human immunodeficiency virus ir intermediate results usaid jsi john snow, inc. lmis logistics management information system mohcw ministry health child welfare mcaz medicines control authority zimbabwe natpharm national pharmaceutical corporation oi opportunistic infection pepfar presidents emergency plan aids relief pmd provincial medical directorates psi population services international rhfp reproductive health family planning sdp service delivery point sdr summary delivery report tb tuberculosis unfpa united nations population fund unicef united nations childrens fund usaid u.s. agency international development zimbabwe final country report v usg united states government world health organization znfpc zimbabwe national family planning council zimbabwe final country report vi acknowledgments deliver wishes thank staff zimbabwe ministry health child welfare, particularly aids tb program department pharmacy services dps zimbabwe national family planning council znfpc national pharmaceutical corporation natpharm department international development dfidzimbabwe john snow, inc.europe crown agents consultancy, inc., zimbabwe and, course, funding agency, u.s. agency international development, supportnot financial, also show faith ability provide worthwhile assistance. believe impressive strides made course project, none could accomplished without support collaboration. contributions abovementioned agencies others contributed enormously successful completion activities. zimbabwe final country report vii viii zimbabwe final country report executive summary zimbabwe crisis several fronts, increasingly difficult implement effective programming. political economic policies resulted hyperinflation, high unemployment, shortages food fuel, widespread hunger disease. countrys excellent public health system declining, quality health services sparse. many international donors discontinued development programs, leaving national health interventions underfunded. however, despite severe economic, political, health conditions, assistance still moves forward serves improve quality life zimbabweans reached services. zimbabwe generalized hivaids epidemic, ranks one three severe world. 2004, aids tuberculosis tb program zimbabwes ministry health child welfare mohcw estimated adult prevalence approximately 24 percent. life expectancy fallen 37 years, infant mortality doubled 130 per 1,000 live births. increased morbidity related aids stretching scarce health resources time country facing enormous economic hardships. since last quarter 2003, deliver zimbabwe played key technical assistance role support expansion zimbabwes national antiretroviral therapy art program areas site readiness assessments, quality assurance, logistics management, condom distribution. working close collaboration mohcw united states government usg, delivers original goal zimbabwe improve availability hivaids condoms rural health centres sites throughout public sector helping znpfc manage logistics functions required deliver appropriate quantities condoms regular basis. 2003, usg began support development rollout mohcws national art program zimbabwe. actual art delivery four five initial sites began august 2004. final year project, u.s. agency international development usaid mission zimbabwe asked deliver expand portfolio include technical assistance art care treatment phase sites aids tb program mohcw support expansion national art program. request unique, went beyond deliver mandate recognized expertise john snow, inc. jsi expertise improving health service delivery systems increasing quality care. improved logistics system quality care zimbabwe, deliver worked achieved significant results three areas supply chain management 1 supply chain management hivaids condoms contraceptives znfpc 2 supply chain management usgfunded antiretrovirals arvs selected phase art sites 3 supply chain management arvs, opportunistic infection oi drugs, hiv rapid test kits zimbabwe national hiv aids program. final year project, delivery team topping dttu system achieved 99 percent coverage 1,600 facilities zimbabwe. main indicator effectiveness dttu project stockout level. four commodities delivered full supply basis male condoms, depoprovera, lofemenal, ovrette, stockout rates one product less 3 percent. deliver conducted study logistics management national program late 2005 produced report zimbabwe hiv aids logistics system assessment. report resulted two additional logisticians placed aids tb program, orders placed deliver three 7ton delivery trucks dedicated distribution hiv aids commodities. additionally, deliver assisted national program creating procurement logistics subcommittee zimbabwe final country report ix national hiv care treatment partnership forum. deliver worked subcommittee develop interim hivaids commodities ordering distribution subsystem national program. deliver staff conducted training use system 50 current art sites. technical assistance zimbabwe national antiretroviral therapy program deliver assisted mohcw assess 50 potential art sites assisted training provincial teams conduct site readiness assessment followup assessments. also assisted first five sites developing standard operating procedures, continues provide technical assistance support sites. deliver assisted national program developing monthly progress report site reporting. support decentralization hiv care art two phase sites deliver supported decentralization hiv care art two phase 1 sites facilitate easier access patients services adherence hiv care art, also enhance quality care decongesting art initiating sites, reducing patient waiting times services sites, alleviating travel transport costs faced many individuals. deliver providing support district mazowe mobile hiv care art clinic ensure uninterrupted art. hiv care art support also provided stable patients hospitals harare city harare city clinics. total, 170 providers trained oi art management. lessons learned two models used national art program decentralization hiv care art services rural urban settings. quality care delivers contribution major art component usg monitor quality hiv care given patients using jsi quality management program adapted use zimbabwe. tools pilottested mashonaland central province, using provincial quality monitoring team trained support deliver. human capacity logistics delivers support, human capacity logistics management provided several areas. deliver trained 76 staff znfpc, projectwide countrys provinces, executing dttu loading, delivery runs, submission written reports. additionally, capacity within deliver znfpc head office logistics staff, experienced organizing running dttu training seminars. twentyfive individuals mohcw, natpharm, mohcws dps, centers disease control prevention cdc, dttu took jsis training course, supply chain management commodity security, special session held zimbabwe. special session enabled deliver facilitate training many critical cadres logistics system hivaids commodities preparation rollout national hivaids program. collaboration family health international, medicines control authority zimbabwe laboratory technicians trained comply international standards condomtesting procedures. resource mobilization commodity security zimbabwe continues rely donors contraceptive needs. application brooke alexander amendment, usaid discontinued provision contraceptives, except hivaids condoms public sector social marketing. therefore, department international development dfid, crown agents consultancy, inc., providing future contraceptive commodities public sector. accurate database arising deliverdesigned dttu system regular completion contraceptive procurement tables cpts deliver znfpc allowed donors plan provide full supply commodities. zimbabwe final country report x forecasting deliver assists znfpc prepare cpts annually, revises semiannually public sector. partners involved exercise deliver, crown agents consultancy, inc., znfpc. information delivers logistics management information system lmis, logistics data znfpc, supplierrelated data fed pipeline software forecast future requirements updated second half year actual consumption data adequately ensure enough stocks pipeline. accuracy data system helped ensure stock levels stay within desired minimum maximum levels. lessons learned course deliver zimbabwe, change constant, faltering economy turnover personnel. environment, single significant lesson learned necessity constant coordination donors government zimbabwe goz ability react nimbly priorities shift. dttu, essential element placing immediate control resources directly hands donors contractors, rather government agencies. arv procurement distribution, necessary revise initial assumptions projected use second line regimens make subsequent changes projects initial procurement plans. stakeholder donor consensus critical step establishing sustainable, nationwide art care treatment program. future directions zimbabwes economic crisis worsens, goz faces real possibility resources maintain current art patients treatment. effort strengthen countrys hivaids commodities ordering distributions system, usaid dfid committed develop interim management system strengthen natpharms capacity. within realm art treatment support, usg continues commitment patients pilot program also supporting gozs ongoing treatment decentralization program. result decongesting major initiating sites increase patients access continuing services. finally, dttu system continue present form one two additional years integrated essential drugs supply chain. zimbabwe final country report xi zimbabwe final country report xii program background country context zimbabwe population approximately 12 million people united nations 2004 25 percent population ages 15 24 additional 40 percent population ages 0 14. since 1990, annual population growth slowed 3.5 percent 0.5 percent. country currently experiencing fourdigit inflation extreme levels poverty. zimbabwe generalized hivaids epidemic ranks one three severe world. 2004, aids tuberculosis tb program zimbabwes ministry health child welfare mohcw estimated adult prevalence approximately 24 percent estimates number people infected hiv range 1.8 million 2.3 million countrys total population 12 million. number infected currently need antiretroviral therapy art approximately 342,000, including infants children. zimbabwe national art program started providing art relatively large scale 2004. august 31, 2006, 40,710 people art nationally these, 34,710 receiving art public sector. 34,710 patients receiving art public sector, approximately 30,000 receiving art exclusively government zimbabwe goz support. least 70 percent hospital beds medical wards occupied patients aidsrelated conditions. life expectancy fallen 37 years, infant mortality doubled 130 per 1,000 live births. increased morbidity related aids stretching scarce health resources time country facing enormous economic hardships. due current harsh economic climate, zimbabwe hard hit huge exodus trained staff countries. mohcw health staff complement vacancy update end september 2004 indicated 56 percent, 32 percent, 92 percent, respectively, posts doctors, nurses, pharmacists respectively vacant. vacancy situation tends worse rural areas urban areas, thus increasing challenges scaling art. plan address situation government zimbabwe 2005. 2003, centers disease control prevention cdc initiation, united states government usg began joint u.s. agency international development usaidcdc effort support development rollout mohcws national art program zimbabwe. actual art delivery five initial sites began august 2004. cdc usaid combined comparative advantages support program. since last quarter 2003, deliver played key technical assistance role support expansion zimbabwes national art program areas site readiness assessments, quality assurance, logistics management, condom distribution. key players roles deliver zimbabwe achieve program objectives past three years, required intervention cooperation several different organizations. among aids tb program mohcw, zimbabwe national family planning council znfpc, department international development dfid, jsiukcrown agents consultancy, inc., national pharmaceutical corporation natpharm, national hiv care treatment partnership forum. table 1 shows deliver zimbabwes principal areas intervention primary partner organizations deliver collaborates closely. zimbabwe final country report 1 table 1 partner organizations partner organization commodity security cpts art care treatment dttu usg arv quantification procurement hivadis commodities interim ordering distribution system aids tb program x x x natpharm x znfpc x x mcaz x psi x jsiukcrown agents consultancy, inc. x x zimbabwe national family planning council delivers primary local counterpart delivery team topping dttu system, znfpc works deliver implement activities developed dttu, distributes condoms contraceptives nationwide. znfpc responsible communicating coordinating provincial staff, mohcw, stakeholders, important role service delivery information, education, communication. efforts promote use condoms hivaids prevention increase condom demand. specifically, znfpc providesadequate warehousing space storing hivaids condoms harare masvingo warehouses allow maximum 12months supply condoms contraceptives central level system central provincial znfpc technical personnel staff delivery teams sufficient office space deliver staff based znfpc harare masvingo. jsiuk crown agents consultancy, inc. december 2005, jsiuk, crown agents consultancy, inc., assisted znfpc development targeting strategy distribution female condoms provided financial support include contraceptives hivaids condomdttu delivery system developed deliver znfpc. specifically crown agents consultancy, inc., responsible providing staff assist implementing, monitoring, evaluating dttu system providing per diems, information technology support, support crown agents consultancy, inc., dttu project staff, well portion subsistence travel allowance znfpc deliveryteam members conducting deliveries leasing delivery trucks necessary, andor providing fuel, maintenance, repair, general operating costs delivery trucks monitoring vehicles purchased deliver providing office furniture, equipment, supplies inputs, appropriate. zimbabwe final country report 2 aids tb program aids tb program mohcw charged coordinating implementation health sector hivaids response. program covers several technical areas, including hivaids, tb, sexually transmitted infection, prevention mothertochild transmission, surveillance, aids workplace, monitoring evaluation. area assigned technical coordinator. capacity program ensure commodity security antiretrovirals arvs hivaidsrelated products strengthened secondment three logisticians two deliver, one cdc. aim secure regular forecasting quantification hivaids commodities, well closely monitor stocks arv drugs art sites. however, due lack skilled manpower, individuals forced work programmatic areas, rather concentrate strictly logistics requirements programs. natpharm natpharms mandate manage supply chain management pharmaceuticals mohcw, including hivaids commodities. recognizing success zimbabwe national art program depend part development implementation strong supply chain management system, deliver may 2006 conducted assessment natpharm mohcw capacity supply chain management hivaids commodities. mohcw approved recommendations assessment, usaid agreed fund implementation recommendations. hiv national hiv care treatment partnership forum national hiv care treatment partnership forum critical structure communication coordination vital zimbabwes national art rollout. deliver began providing technical assistance aids tb program organizing art partnership forum november 2005. deliver world health organization provide financial support meetings, deliver also provides secretariat services. members include usaid cdc usg, dfid, unicef, european union, mdecins sans frontires msf, elizabeth glaser pediatric aids foundation, zimbabwe association church hospitals, national aids control program, united nations agencies, mohcw personnel. others. mohcw sets date, venue, agenda input group, uses email database send invitations forum members. forum meets bimonthly. addition groups, population services international psi implements various hivaids related programs, funding usaid donors. psi lead agency social marketing protector plus condoms contraceptives, also runs highly successful voluntary counseling testing program new start. medicines control authority zimbabwe mcaz tests approves condoms arv drugs used national program. key challenges zimbabwe crisis several fronts, increasingly difficult implement effective programming. political economic policies resulted hyperinflation, high unemployment, shortages food fuel, widespread hunger disease. countrys excellent public health system declining, quality health services sparse. many international donors discontinued development programs, leaving elements national health programs underfunded. usaid funding support public sector family planning programs discontinued brooke alexander amendment sanctions imposed january 2002, brookealexander amendment limits economic assistance foreign government defaults loan payments. usaid assistance goz restricted response flawed presidential election march 2002. hyperinflationary environment deliver operating economic environment characterized fourdigit inflation statecontrolled exchange rate regimen. environment, zimbabwe final country report 3 project funds exchanged official exchange rate, sometimes fetched little 20 percent parallel market rate. exposed project funds hyperinflation obtaining zimbabwe. recent changes currency easing exchange rate designed try alleviate hardship, created new difficulties zimbabweans, economic situation improve foreseeable future. fuel shortages zimbabwe operating severe fuel shortage environment, mainly due shortage foreign currency. international organizations use foreign currency import fuel caltex use projects. caltex facility reliable, fuel available major centers. challenge make distributions rural areas, refuelling facilities. addition extra fuel tank installed delivery truck time purchase, deliver fitted truck trunk carry 10 jerricans order increase distances trucks cover without returning refueling delivery runs require fuel two standard tanks carry. poor road network although zimbabwe one better road systems africa outside south africa, rainy season clinics, hospitals, communitybased distribution workers become inaccessible due bad condition roads. leads increased stockouts. antiretroviral therapy broad challenges regard general operating environment discussed apply implementation art programs. main challenges specific art initiative include operating environment high need art services need keep adapting changing mohcw priorities may necessarily line deliver workplan staff attrition five sites goz areas deliver supporting centralization services major hospitals, coupled escalating transportation costs. high unmet need art deliver art activities implemented environment high unmet need arvs art services. estimated 26,000 30,000 zimbabweans currently art. represents less 10 percent zimbabweans aids need art today. implementer usg, challenge deliver manage perception partners usg could support hiv care art scaleup let know usg much can, given current environment. need keep adapting mohcw priorities deliver provides technical support national art program. part support, mohcw requested significant deliver staff time assist site readiness followup assessments national art sites. deliver adapted accommodate expanding need, ensuring priority areas deliver art workplan also received due attention. high staff attrition health delivery system major challenge national art program also deliver activities zimbabwe. staff attrition high zimbabwe poor performance economy aids mortality. means continual drain trained staff, continual loss institutional memory also affects programs deliver supporting. staff shortage high staff attrition increasingly major threat sustainability delivers programs future operations. need decentralization services. national rollout plan hiv care art focused largely scaleup hiv care art services central, provincial, district hospitals, zimbabwe final country report 4 depending readiness implement services. currently 57 sites, nearly hospitals, offering art initiation art followup services. national scaleup plan focused hospitalbased hiv care art services meant patients care travel long distances access hiv care art services nearest hospital certified offer services. however. zimbabwes economy continued experience increasing challenges, many impact individual level. escalating travel transport costs, sometimes unavailability transport, negatively affecting patient adherence clinical care art nationwide, potential adverse public health outcomes zimbabwe art program. high hospital consultation fees also major disincentive accessing hospitalbased services, including hiv care art services patients, leading high defaulter rates. additionally, patients enrolled, main art sites initiating patients art quickly reaching saturation capacity. decentralization hiv care art services therefore required order facilitate easier access services adherence hiv care art patients, also enhance quality care decongesting art initiating sites reducing patient waiting times services sites. delivery team topping primary challenge dttu programs dfid funding gaps. time jsieurope project closed offices zimbabwe 31 december 2005, flow dfid funds project erratic resulted significant disruptions dttu delivery schedule. dfid crown agents consultancy, inc., process signing contract continue dttu funding february 2007. dfid plans new procurement contract place time contractor able purchase contraceptives project channel operational funds dttu. additional challenge dttu delays condom distribution due mcaz testing standards. usaidprovided condoms failed mcaz testing, part mcaz using outdated testing standards, part inconsistent testing procedures used mcaz. family health international fhi, usaids contraceptive quality assurance contractor, assessed mcaz testing procedures recommended training united states two mcaz staff. deliver funded training. condoms failed mcaz testing since training adoption recent testing standard. zimbabwe final country report 5 zimbabwe final country report 6 goals objectives country strategy evaluation plan writte\",\n          \"1 usaidea flexible family planning, reproductive health genderbased violence services transition situations burundi drc pathfinder international intrahealth international final report usaid east africa associate ca no. 623a00080005100 submitted june, 2013 contents acronyms abbreviations. 1 i. background . 2 ii. activities results. 3 a. plan early continue planning phase . 3 b. train core cadre. 4 c. establish mobile outreach teams . 5 d. communitybased distribution family planning services . 9 e. set 24hour dropin centers post rape care . 10 f. address gender issues . 13 g. implement community advocacyactivities including health promotion community outreach . 15 h. develop partnership coordination . 16 iii. challenges lessons learned . 18 challenges . 18 lessons learned . 19 iv. conclusion . 20 1 acronyms abbreviations abubef association burundaise pour le bien etre familial aids acquired immune deficiency syndrome anc antenatal care bdom bureau diocsain des uvres mdicales cbd community based distribution cdf centre de dveloppement familial chw community health workers cimci community integrated management child illness drc democratic republic congo ec emergency contraception erp emergency response plan fp family planning gbv gender based violence gp general practitioner healthy image manhood hiv human immunodeficiency virus htsp health timing spacing pregnancies idp internally displaced persons imt integrated mobile team ippf international planned parenthood federation iud intrauterine device mch maternal child health misp minimum initial package services moh ministry health mou memorandum understanding ngo nongovernmental organizations pep post exposure prophilaxis pnsr programme national de la sant de la reproduction ramp reflection action within risk population rh reproductive health sgbv sexual gender based violence srh sexual reproductive health sti sexual transmitted infection tot training trainers tps technician de promotion de sant health technician promotion un united nations unfpa united nations population fund usaid us agency international development. 2 i. background regional flexible family planning, reproductive health genderbased violence services transition situations project funded united states agency international development usaid implemented pathfinder international, collaboration intrahealth international. flexible fpgbv services transition situations piloted burundi walungu eastern drc. burundi, drc, political crisis generated internally displaced populations idps, refugees camps returned populations high risk death disease reproductive health disorders interpersonal violence. affected populations experienced forced displacement homes, exposure violence, poverty separation families communities, significantly disrupted access health services, including family planning reproductive health services. flexible fpgbv services transition situations project aimed produce flexible approaches matched packaged models deliver rhfpgbv services different phases crisis well pre post crisis. project targeted idps, refugees populations living transition situation mainly muyinga province walungu eastern drc. pathfinders proposed models deliver comprehensive rhfpgbv services populations affected crisis included following menu options early planning precrisis planning various phases crises training core cadre establishing mobile outreach teams providing communitybased distribution depo provera setting 24hour dropin centers offering post exposure prophylaxis emergency contraception ec addressing sexual genderbased violence including healthy images manhood approach implementing community advocacyactivities including health promotion community outreach government developing partnerships coordination organizations, including un humanitarian organizations, local ngos. report covers activities results produced 4 years projects life. 3 participants national contingency plan validation workshop burundi burundian national contingency plan. ii. activities results a. plan early continue planning phase one approaches piloted preparing response crisis happens. planning occurs advance crisis take place slower pace planning onset emergency. comprehensive rhfpgbv services need established soon possible stabilizedcomprehensive prevention response phase emergency phase. requires early planning, starting emergency preparedness phase, continuing midst emergency, includes implementation minimum initial service package misp reproductive health. activities implemented project burundi fouryear life, fp project supported updates national contingency plan collaboration unfpa. first time, misp rh component integrated national emergency preparedness plan. provincial level, workshops organized kayanza muyinga update two provincial contingency plans incorporate misp rh concept. drc 2011, project supported trained srh sexual reproductive health coordinators misp rh develop finalize misp rh provincial work plan integration south kivu province contingency plan. document updated october 2012 validated provincial level. south kivus misp rh work plan 4 participants 15 organizations becoming misp rh coordinators work plan developed presented pnsr validated provincial level future integration south kivus provincial contingency plan. b. train core cadre another program approach train core cadre program planners implementers. different types crises phases crisis require different skill sets appropriate training. pathfinder identified trained core cadre personnel composed health nonhealth providers comprising select key staff health workers. burundi project, trainings core cadre trainers conducted various topics misp, sgbv, him. trainings conducted national provincial levels. total 101 trainers trained burundi 5 trainers trained sgbv case management, 50 trainers trained misp 46 trainers trained him. training participants health sector nonhealth sector. drc 4 years implementation, close collaboration pnsr department provincial moh south kivu province, trainings core cadre trainers conducted various topics misp, sgbv, him. total 54 trainers trained south kivu province 5 trainers trained sgbv case management, 24 trainers trained misp 15 trainers trained him. training participants health sector nonhealth sector. srh task force bukavu, south kivu. october 2012. 5 clients seeking long acting permanent fp methods gasorwe. onsite testimony implant beneficiary public. returnees idps benefiting integrated mobile outreach activities c. establish mobile outreach teams approach, piloted burundi drc, aimed complement supplement services provided existing clinicsfacilities. planning integrated mobile team imt approach initiated precrisis teams established various phases crisis, including postcrisis recovery phase. accomplishments described burundi imt approach started 2011, implementation strategy requiring close collaboration official authorities health administration various implementing partners. project signed 2 mous one abubef another kayanza health district, defining roles, responsibilities mechanisms effective strategic co implementation integrated activities. range services offered imt outreach activities family planning services services offered imt include long acting fp methods implants iud, contraceptive side effect management, oral contraceptives, condoms male female, pills. genderbased violence prevention case management imt activities, gbv services offered. survivors genderbased violence received clinical psycho social services ec, pep, hivaids testing, etc.. also sensitization community mobilizationorientation events organized attendants. 6 children captivated longer singer screening process gasorwe hiv testing sti case management clients hiv testing benefit oneonone counseling testing. clients receiving sti treatment also benefit counseling medical consultation. anc post natal care imt sessions opportunity pregnant women benefit antenatal care post natal care recently delivered. services offered either nurses, midwives trained health workers. noted that, pregnant women presenting danger signs referred nearest health centerhospital andor specific appointments set delivery skilled birth attendants secure place health centers hospitals, depending identified signs. nutrition another new element imt services nutrition community level. done collaboration mch projecttrained mamans lumires illuminating mothers chws trained imci. approach proven effective entry point fp services. indeed, nutrition activities, mothers, taking care children, received key messages family planning also chance discuss health providers chw fp methods ultimately adopted preferred method. women waiting ancpnc. 7 trained chw offering malaria testing malaria homebased management malaria aiming reduce malaria related deaths timely screening treating children strategy piloted pathfinder internationalmch project provinces. imt sessions, trained chws provided malaria testing treatment children. mothers also provided adequate counseling malaria prevention appropriate use bed nets also connecting mothers services including reproductive health family planning, gender based violence, hivaidssti nutrition. result, 3 imt established 22 sessions conducted kayanza muyinga. imt sessions, achievements include indicator total achieved people reached 11003 implants inserted 54 dmpa offered 90 condoms distributed 795 hiv tests 1325 nutrition screening five 1588 sti treatment 173 malaria testing 195 drc project started piloting imt drc 2011 end project activities conducted walungu miti health zones. details integrated package offered south kivu region listed family planning fp service offered integrated mobile team south kivu region includes 1 fp counseling 2 service provision includes pregnancy testing, contraceptive administration side effect management. mentioned above, imt also integrate long acting fp addition already provided community level. genderbased violence prevention case management gbv prevention case management part integrated service package offered imt activities. cases sgbv existed, survivors received clinical psychosocial services including emergency contraception ec, post exposure prophylaxis pep, hivaids testing, 8 awareness session imt activity miti health zone south kivu, drc appropriate. often, community mobilization sensitization organized targeting gbv survivors. hiv testing sti case management clients requesting hiv testing received personalized counseling testing tested positive referred accordingly case management. receiving sti treatment also benefited counseling medical consultation. antenatal care post natal care imt activities, women received antenatal postnatal care teams technicians medical doctors, nurses, midwives. counseling given client couple fp methods educational materials made available site help htsp. nutrition service offered walungu mitimurhesa health zones hospital staff leader collaboration volunteer mothers community. using local resources crops, cooking demonstration showing different ways mix ingredients improve maintain good nutritional status session also accompanied nutritional screening targeting mainly children five. medical consultation gp referral general hospital made available imt outreach outpatients consultations well referred cases nearby health centers, especially clients living significant distance hospitals. gp also received clients need help beyond capacity health center technicians. 2 imt established, total 26 sessions imt conducted drc. imt sessions, achievements indicator total achieved people reached 7000 dmpa offered 35 condoms distributed 632 hiv tests 225 nutrition screening five 1652 sti treatment 159 onsite medical consultation 444 9 cbd agents equipped usaid donated bicycles walungu health zone authorities supervision view cbd agents training session burundi d. communitybased distribution family planning services trained community health workers safely provide fp methods including injectable contraceptives insure access full range fp methods populations transitional situations. community distribution fp methods takes service populations cut facilitybased services. axis, project realized activities burundi 4 years, sessions trainings cbd agents supervisors organized two provinces projects intervention zone. total 104 cbd agents 40 supervisors trained cover 10 project sites. trainers pnsr provincial level training manual used national guide chws. formative supervisions also conducted fp project health districts supervisors monthly workshops organized. one monthly workshops objectives develop provincial ownership. achievements burundi cbd activities shown table raising awareness activities conducted cbd agents burundi households visited 20408 people reached 110811 reached fpgbv messages fp commodities distributed raising awareness activities condoms 84550 pills 1701 cycle beads 1080 drc 4 years projects life, training sessions cbd agents supervisors organized. 10 joint formative supervision cbd activities drc total 189 cbd agents drc 97 walungu 92 miti trained, including 55 offering dmpa. trained cbd agents equipped cbd kit, accessories hand washing, raincoats, boots management tools register, client cards, calendar. walungu cdb agents received bicycles facilitate transportation within communities. total 91 bicycles distributed 91 chws walungu health zone fp project. distribution directly managed walungu health zone authorities future followup. joint formative supervisions cbd activities conducted walungu miti health zones rh provincial department monthly workshops organized objectives 1 refresh cbds communication technical skills well enhance experience exchange, 2 resupply cbds 3 compile data collected cbds. achievements drc cbd activities shown table raising awareness activities conducted cbd agents drc households visited 30546 people reached 60313 reached fpgbv messages fp commodities distributed raising awareness activities dmpa 5716 condoms 121078 pills 7390 cycle beads 4119 e. set 24hour dropin centers post rape care setting 24hour dropin services, preferably within existing clinics, important respond emergency rhfp needs women, including survivors sexual genderbased violence. considering high hiv prevalence incidence rape communities living transitional situations, pep ec critical services. gaps equipment need renovate health facilities made establishing 24hour dropin services even challenging. 11 fpgbv project accomplished varied range activities burundi piloting approaches 4 years, health facilities benefited medical nonmedical equipment supplies including limited solar panels, delivery kits, height measuring scales, stethoscopes, iud kits, hospital beds plain foam mattresses, infant incubators insure 24 hour services functional. project also supported people mugano rehabilitation mugano health center transformed district hospital. fp project supported fuel, kayanza muyinga twoway referral system, critical aspect managing emergencies, ensure fluid working reference mechanism communities health center chws, health centers referral hospitals. referred clients include emergency obstetrical cases clients remote communities need special care. fp project organized training workshops health providers gbv case management order offer emergency services 24 hours day. total 35 health providers kayanza muyinga trained sgbv clinical care, collaboration seruka. total 35 sgbv providers trained fp project continue assist survivors muyinga kayanza. formative supervisions carried fp project. project organized training trainers sgbv case management 5 selected providers previously trained sgbv case management. project proposed update sgbv manual addendum produced submitted pnsr use appropriation. project supported pnsr organize workshop integrate addendum sgbv training manual. currently sgbv training manual updated thanks projects support. trainings, renovation equipment benefited, 12 health centers hospital reported received 300 sgbv survivors received care including emergency contraception ec psychosocial care nurses trained sgbv case management project. twentyfour hour dropin services also functional 12 health facilities. 12 izirangabo health center rehabilitation izirangabo health center rehabilitation burhale health center rehabilitation one bloc burhale health center rehabilitation drc five health facilities renovated project enable offer 24hour dropin services. facilities walungu hospital, kidodobo, burhale, bideka. also, project equipped 26 health facilities medical nonmedical equipment supplies including limited solar panels, delivery kits, height measuring scales, stethoscopes, iud kits, hospital beds plain foam mattresses, insure availability services 24hours day. 13 follow sessions conducted fp project evaluate quality services health facilities renovated. burhale izirangabo health facilities visited drc noticed equipment distributed used meet needs population service provision fpgbv service uptake improving number clients seeking care increased. fp project supported kayanza muyinga fuel twoway referral system, critical aspect managing emergencies, ensuring fluid working referral mechanism communities health center chws, health centers referral hospitals. referred clients include emergency obstetrical cases clients remote communities need special care. fp project also organized training sgbv case management health providers offer 24 hours services. total 30 providers attended training. project also organized training trainers sgbv case management 5 selected providers previously trained sgbv case management. trainings, renovation equipment donations, enabled health centers hospitals report received around 80 sgbv survivors received care including ec psychosocial care nurses trained sgbv case management project. twentyfour hour dropin service also operational partner health facilities. f. address gender issues transitional situations, women dont access power structures material resources. also, breakdown social networks institutions, loss means livelihood, weakness social sexual norms increase vulnerability girls women sexual genderbased violence. order preventaddress issues, fp project implemented successful approach. burundi 4 years, activities mainly conducted gasorwe. training trainers session conducted gasorwe commune. total 13 participants present 5day training. participants included staffs administration department muyinga province, administration gasorwe commune moh. 14 view participants religious leaders muyinga training fp project conducted also 5day trainings 11 selected collines activities gasorwe, burundi. total 331 participants attended trainings. fp project organized training religious leaders muyinga kayanza provinces. total, 50 religious leaders various religious groups trained 5day period. end training, religious leaders equipped visual tools including fp posters support communicating fp messages peers community members. among 50 religious leaders trained, 8 kayanza province female. implementation, followup meetings conducted champions trained gasorwe refugee camp. purpose meetings assess progress outreach educational activities. end project, qualitative assessment conducted approach. feedbacks community gasorwe commune collected. health providers beneficiaries enthusiast describing great positive behavior changes communities. interviewed champions showed interest continuing raising awareness beyond projects life. provincial communal authorities champions promoting approach solution living together. drc piloting approaches, fp project conducted sgbv prevalence assessment walungu health zone. purpose assessment determine 1 estimated number survivorsvictims sgbv, 2 types sgbv perpetrators, 3 institutionsorganizations providing care treatment services offered. all, 99,6 reported survivors women victims sexual violence cases, 58,1 victimssurvivors sought services 90,1 perpetrators militaryrebels. participants training gasorwe 15 fp project conducted trainings trainers 20 participants. first step training aimed establish trainers core team. champion trainings also organized 87 champions. participants representatives public services, churches including choir members, local associations including womens associations, small business owners hairdressers retail sellers gasoline, nurses, teachers. workshop organized pnsr review approach module adapt bukavu context. workshop participants agreed change title implication des hommes dans la sant de la reproduction involvement men reproductive health include advocacy plan involves authorities, community leaders health care providers south kivu province. g. implement community advocacyactivities including health promotion community outreach goal community advocacy mobilization activities populations transition situations would recognize, analyze, prioritize resources needs take collective actions maintain improve health. burundi 4 years, awareness raising events conducted fp project reach community fpgbv messages. fp project partnered local theater groups developed several theater sessions widely disseminating fp sgbv messages scenarios. among theater groups umuco tubiyage theater groups. adaptation workshop, bukavu theater group member acting fp counselor kayanza. participants facilitators tot. family picture, bukavu 16 collaboration local health administrative authorities abubef, fp project conducted advocacy sessions, community mobilization awareness raising events muyinga kayanza province, preceding imt outreach activities. preimt session activity key imt success. opportunity inform community event educate variety services offered. 150,000 people reached sensitization messages fpgbv different channels used fp project theatre performance, imt cbd. project also organized threeday training trainers whose objective reflection action within risk population ramp. identifying list prioritizes barriers behavior change listing many community life issues possible. way creating prioritized list behavior issues community facing. thirtyfour health promotion technicians tps kayanza muyinga provinces attended training trainers. drc 4 years, fp project, collaboration walungu health zone authorities, organized several community awareness raising activities engaging community leaders local officials maximize sensitization impact family planning, reproductive health, gender based violence. findings show absence husbands, wives express interest choosing family planning method seeking rh services. fp project initiated maintained awareness campaigns, conducted every tuesday friday, targeting mothers seeking health services walungu general hospital maternity yard. information modern contraceptive methods shared using visual tools materials showing samples available methods including long acting permanent methods. 70,000 people reached sensitization messages fpgbv different channels used fp project theatre performance, imt cbd. h. develop partnership coordination order improve service access quality, fp project solicited collaboration moh levels national, provincial, districts, ngos, different associations involved ensuring health services populations transitional situations. burundi 4 years, coordination meetings involving fp project, civil protection department, unicef, unfpa red cross burundi organized prepare update national 17 contingency plan integration misp rh national emergency preparedness plan workshop. addition, fp project supported burundi participate regional fp gatherings. team members included moh partners. fp project staffs invited participate meetings organized partners review activities explore synergies. moreover, activities offered imt included fp project scope work, coordination mechanisms established pathfinder internationalburundi mch project. also 2 formal mous concluded one abubef another kayanza health district defining roles responsibilities mechanisms effective strategic coimplementation integrated activities. joint supervisions initiated fp project health districts supervisors conducted objective assess level collaboration cbds health centers, reinforce cbd agents capacity support health districts develop ownership activity monitoring cbd activities health centers activities. successful collaboration negotiation unfpa resulted provision 1000 fp charts distribute different health facilities. drc projects life drc, fp project supported walungu general hospital making available tools medical equipment improving quality care offered victims sgbv. delivery maternity ward benefited partograms, clean water electricity source via generator. fp project continued strengthening walungu referral system ambulance functioning providing support fuel. also 2 formal mous concluded one walungu health zone, one miti health zone another bdd defining roles responsibilities mechanisms effective strategic partnership. nairobi fp meeting, burundi gallery walks, july 2011 mou abubef mou walungu health zone 18 joint formative supervisions cbd activities conducted walungu miti health zones rh provincial department health zones supervisors strengthened partnership health authorities ownership cbd approach. successful collaboration negotiation unfpa resulted provision certain amount fp commodities support cbd activities. commodities provided unfpa drc fp commodities quantity expiration period emergency contraception noristerat 27.100 doses sept 2016 levonorgestrel 1.000 doses april 2016 implanon jadelle 1.100 pieces sept 2016 pills oral contraceptives coc 11.760 boxes x 3 tablets aug 2015 condoms male condoms 187.200 pieces feb 2016 accessories syringes 2 ml 26.400 pieces na iii. challenges lessons learned implementation fp project, pathfinder international faced following challenges also learned lessons challenges insufficient skilled personnel update contingency plans. big issue update contingency plans timely way mobility personnel fp project trained people transferred places intervention area national decision makers far intervention area drc big issue documents update took longer planned success imt required use mobile clinic car, available within fp project. solved using district ambulances kayanza drc mobile clinic car provided abubef muyinga health policies allow chws offer injectable contraceptives. burundi, solved referring clients need injectable methods nearest health facility. drc, unemployed nurses trained cbds offer dmpa within community chws trained\"\n        ],\n        \"semantic_type\": \"\",\n        \"description\": \"\"\n      }\n    }\n  ]\n}"
            }
          },
          "metadata": {},
          "execution_count": 15
        }
      ],
      "source": [
        "# we inspect the resulting feature\n",
        "df[['Text','Text_processed']].head()"
      ]
    },
    {
      "cell_type": "markdown",
      "metadata": {
        "id": "y9iraCLAhn4_"
      },
      "source": [
        "### 'USAID Thesaurus Term(s)' preprocessing"
      ]
    },
    {
      "cell_type": "markdown",
      "source": [
        "We want to use the `USAID Thesaurus Terms(s)` to compute the 'silver score' at the document level. For this reason we must preprocess it similarly to the reports."
      ],
      "metadata": {
        "id": "rU5NTvB9o_pw"
      }
    },
    {
      "cell_type": "code",
      "execution_count": null,
      "metadata": {
        "id": "dL5wpvPshqvr",
        "colab": {
          "base_uri": "https://localhost:8080/"
        },
        "outputId": "caec46a9-3a02-45af-d59c-5eac705d548d"
      },
      "outputs": [
        {
          "output_type": "execute_result",
          "data": {
            "text/plain": [
              "0    Curriculum; Female empowerment; Governance; He...\n",
              "1    HIV/AIDS; Children; Communities; Decentralizat...\n",
              "2    Communities; Crimes; Demographic surveys; Heal...\n",
              "3    People living with AIDS (PLWA); Community mobi...\n",
              "4    HIV/AIDS; Arts; Demographic surveys; Disease p...\n",
              "Name: USAID Thesaurus Term(s), dtype: object"
            ]
          },
          "metadata": {},
          "execution_count": 16
        }
      ],
      "source": [
        "df['USAID Thesaurus Term(s)'].head()"
      ]
    },
    {
      "cell_type": "markdown",
      "source": [
        "We replace the semicolon-separated string by a list of terms."
      ],
      "metadata": {
        "id": "js06X7xwpIgh"
      }
    },
    {
      "cell_type": "code",
      "execution_count": null,
      "metadata": {
        "id": "l2EPwETqhuWJ",
        "colab": {
          "base_uri": "https://localhost:8080/"
        },
        "outputId": "8dc22cb0-d037-4875-aea8-1cf5b6037c95"
      },
      "outputs": [
        {
          "output_type": "stream",
          "name": "stdout",
          "text": [
            "0    [Curriculum, Female empowerment, Governance, H...\n",
            "1    [HIV/AIDS, Children, Communities, Decentraliza...\n",
            "2    [Communities, Crimes, Demographic surveys, Hea...\n",
            "3    [People living with AIDS (PLWA), Community mob...\n",
            "4    [HIV/AIDS, Arts, Demographic surveys, Disease ...\n",
            "Name: USAID_Thesaurus_Term(s), dtype: object\n"
          ]
        },
        {
          "output_type": "stream",
          "name": "stderr",
          "text": [
            "<ipython-input-17-fd2bfea77dcb>:1: SettingWithCopyWarning: \n",
            "A value is trying to be set on a copy of a slice from a DataFrame.\n",
            "Try using .loc[row_indexer,col_indexer] = value instead\n",
            "\n",
            "See the caveats in the documentation: https://pandas.pydata.org/pandas-docs/stable/user_guide/indexing.html#returning-a-view-versus-a-copy\n",
            "  df['USAID_Thesaurus_Term(s)'] = df['USAID Thesaurus Term(s)'].str.split('; ')\n"
          ]
        }
      ],
      "source": [
        "df['USAID_Thesaurus_Term(s)'] = df['USAID Thesaurus Term(s)'].str.split('; ')\n",
        "print(df['USAID_Thesaurus_Term(s)'].head())"
      ]
    },
    {
      "cell_type": "markdown",
      "source": [
        "Again, we need to have the punctuation for Bert to understand how to handle sentences."
      ],
      "metadata": {
        "id": "uq-B6fv2pl_4"
      }
    },
    {
      "cell_type": "code",
      "source": [
        "def clean_terms(keywords:List[str]):\n",
        "  '''\n",
        "    Applies the clean_text function to each keywords (which can be ngrams).\n",
        "\n",
        "    Parameters:\n",
        "        terms: A list of keywords as string to preprocess.\n",
        "\n",
        "    Returns:\n",
        "        A list of lowercased keywords as string with special characters\n",
        "        and stopwords removed.\n",
        "  '''\n",
        "  return [clean_text(keyword) for keyword in keywords]"
      ],
      "metadata": {
        "id": "wo2KvtUTpTeQ"
      },
      "execution_count": null,
      "outputs": []
    },
    {
      "cell_type": "code",
      "execution_count": null,
      "metadata": {
        "id": "JujtJfNShxBQ",
        "colab": {
          "base_uri": "https://localhost:8080/"
        },
        "outputId": "c896a649-3a05-49d3-87be-ddbc5fc17a8b"
      },
      "outputs": [
        {
          "output_type": "stream",
          "name": "stdout",
          "text": [
            "0    [curriculum, female empowerment, governance, h...\n",
            "1    [hiv aids, children, communities, decentraliza...\n",
            "2    [communities, crimes, demographic surveys, hea...\n",
            "3    [people living aids plwa, community mobilizati...\n",
            "4    [hiv aids, arts, demographic surveys, disease ...\n",
            "Name: USAID_Thesaurus_Term(s)_Clean, dtype: object\n"
          ]
        },
        {
          "output_type": "stream",
          "name": "stderr",
          "text": [
            "<ipython-input-19-370a7ed068dc>:1: SettingWithCopyWarning: \n",
            "A value is trying to be set on a copy of a slice from a DataFrame.\n",
            "Try using .loc[row_indexer,col_indexer] = value instead\n",
            "\n",
            "See the caveats in the documentation: https://pandas.pydata.org/pandas-docs/stable/user_guide/indexing.html#returning-a-view-versus-a-copy\n",
            "  df['USAID_Thesaurus_Term(s)_Clean'] = df['USAID_Thesaurus_Term(s)'].apply(clean_terms)\n"
          ]
        }
      ],
      "source": [
        "df['USAID_Thesaurus_Term(s)_Clean'] = df['USAID_Thesaurus_Term(s)'].apply(clean_terms)\n",
        "print(df['USAID_Thesaurus_Term(s)_Clean'].head())"
      ]
    },
    {
      "cell_type": "markdown",
      "metadata": {
        "id": "oj4pnFsb-xoy"
      },
      "source": [
        "## Keywords dataframe"
      ]
    },
    {
      "cell_type": "markdown",
      "source": [
        "We load the data and inspect the shape and columns."
      ],
      "metadata": {
        "id": "AjQY0Q2zpq4V"
      }
    },
    {
      "cell_type": "code",
      "execution_count": null,
      "metadata": {
        "id": "eBMGE-31-15S",
        "colab": {
          "base_uri": "https://localhost:8080/"
        },
        "outputId": "43a3e882-aa2d-4080-9557-36bf3d0e2273"
      },
      "outputs": [
        {
          "output_type": "stream",
          "name": "stdout",
          "text": [
            "Shape of df_keywords: (779, 3)\n",
            "Columns of df_keywords: Index(['Keyword', 'POLITICISED', 'Keyword_clean'], dtype='object')\n"
          ]
        }
      ],
      "source": [
        "PATH_KEYWORDS = \"/content/drive/MyDrive/MyThesis/df_keywords.xlsx\"\n",
        "\n",
        "# we read and convert the df_keywords.xlsx into a DataFrame\n",
        "df_keywords = pd.read_excel(PATH_KEYWORDS)\n",
        "\n",
        "# Inspecting the shape\n",
        "print(f\"Shape of df_keywords: {df_keywords.shape}\")\n",
        "print(f\"Columns of df_keywords: {df_keywords.columns}\")"
      ]
    },
    {
      "cell_type": "markdown",
      "source": [
        "There are 779 keywords from Thesaurus.\n",
        "\n",
        "Regarding the columns:\n",
        "\n",
        "*   *POLITICISED*: the expert labelled politicization score of the keywords\n",
        "*  *Keyword_clean*: the preprocessed keywords from the EDA\n",
        "\n"
      ],
      "metadata": {
        "id": "gZWBx_pmpx7O"
      }
    },
    {
      "cell_type": "markdown",
      "metadata": {
        "id": "aYSfbFhWKZHP"
      },
      "source": [
        "## Divide the corpus in two based on a variable"
      ]
    },
    {
      "cell_type": "markdown",
      "metadata": {
        "id": "w2qhMk6jyi8d"
      },
      "source": [
        "We divide our corpus between the Democratic ('D') and Republican ('R') reports as strings.\n",
        "We then perform sentence splitting using the `sent_tokenize` function.\n",
        "The output is a list of sentences (strings). txt_D and txt_R correspond to the list of sentences of the reports for each party."
      ]
    },
    {
      "cell_type": "code",
      "execution_count": null,
      "metadata": {
        "id": "83OMteBrjb-i"
      },
      "outputs": [],
      "source": [
        "txt_D = sent_tokenize(\"\\n\".join(df[df[government]== 'D']['Text_processed']))\n",
        "txt_R = sent_tokenize(\"\\n\".join(df[df[government]== 'R']['Text_processed']))"
      ]
    },
    {
      "cell_type": "code",
      "execution_count": null,
      "metadata": {
        "id": "ZNqlLAEyh8NN"
      },
      "outputs": [],
      "source": [
        "def get_keyword_corpus(txt_D:List[str], txt_R:List[str], keyword:str):\n",
        "    '''\n",
        "    Returns a dictionnary containing two keys: keyword_corpus_0 and\n",
        "    keyword_corpus_1. Each key has as value a list of strings. Each element of\n",
        "    the lists corresponds to a sentence where the keyword appears.\n",
        "    The first corpus corresponds to txt_a, the second to txt_b.\n",
        "\n",
        "    Parameters:\n",
        "        txt_D: A list of strings containing the texts of the reports under\n",
        "        condition Democratic administration.\n",
        "        txt_R: A list of strings containing the texts of the reports under\n",
        "        condition Republican administration.\n",
        "        keyword: A string object corresponding to a keyword of interest.\n",
        "\n",
        "    Returns:\n",
        "        dict_keyword_corpora (dict): A dictionnary containing two keys, each\n",
        "        having a list of strings as values (e.g. {keyword_corpus_0: List[str],\n",
        "                                                  keyword_corpus_1: List[str]}).\n",
        "    '''\n",
        "    # we use word boundary (\\b) to only take the keyword as a whole\n",
        "    # it's an important aspect for correct contextualized embedding usage\n",
        "    keyword_pattern = re.compile(rf'\\b{re.escape(keyword)}\\b', re.IGNORECASE)\n",
        "    return {f'keyword_corpus_{i}': [sentence.strip() for sentence in txt if\\\n",
        "                                    keyword_pattern.search(sentence)]\n",
        "            for i, txt in enumerate([txt_D, txt_R])}"
      ]
    },
    {
      "cell_type": "markdown",
      "metadata": {
        "id": "z_sIc7y1FeNl"
      },
      "source": [
        "# Contextualized Embeddings of keywords"
      ]
    },
    {
      "cell_type": "markdown",
      "metadata": {
        "id": "fzlbZkQZFkzx"
      },
      "source": [
        "In this section we experiment with RoBERTa in order to obtain contextualized embeddings for the Thesaurus Keywords."
      ]
    },
    {
      "cell_type": "markdown",
      "metadata": {
        "id": "9WFFCDnEJqTE"
      },
      "source": [
        "The following code comes from this [post](https://medium.com/@r3d_robot/getting-contextualized-word-embeddings-with-bert-20798d8b43a4) and is addapted from BERT to RoBERTa.\n",
        "\n",
        "More about BERT and its implementation in this [post](https://towardsdatascience.com/nlp-extract-contextualized-word-embeddings-from-bert-keras-tf-67ef29f60a7b).\n",
        "\n",
        "\n",
        "\n"
      ]
    },
    {
      "cell_type": "markdown",
      "metadata": {
        "id": "EVBbkvn-MQZ6"
      },
      "source": [
        "## Roberta contextualized embeddings"
      ]
    },
    {
      "cell_type": "markdown",
      "source": [
        "* `roberta_text_preparation`: preprocesses text input so that RoBERTa can interpret it.\n",
        "* `get_roberta_embeddings`: obtains BERT embeddings for tokens in the context of a given sentence.\n",
        "* `get_keyword_embeddings_roberta`: for a certain keyword it gives the list of contextual embeddings of this keyword form a corpus.\n",
        "* `get_avg_cont_embedding_roberta`: computes the average embeddings of a keyword for the subcorpora text_D and text_R.\n",
        "\n",
        "All these functions are used to generate the politicization score of keywords using the wrapper function `get_keyword_politicization_score`."
      ],
      "metadata": {
        "id": "q6VpmGsjsWEP"
      }
    },
    {
      "cell_type": "code",
      "execution_count": null,
      "metadata": {
        "id": "cY6oIvBb4UMv"
      },
      "outputs": [],
      "source": [
        "def roberta_text_preparation(text:str, tokenizer:RobertaTokenizer):\n",
        "    '''\n",
        "    Preprocesses text input so that RoBERTa can interpret.\n",
        "\n",
        "    Parameters:\n",
        "        text: A string containing the text of a report to be processed.\n",
        "        tokenizer: The BERT tokenizer to tokenize the text.\n",
        "\n",
        "    Returns:\n",
        "        tokenized_text: A list of the tokenized words and subwords as strings.\n",
        "        tokens_tensor: A torch.Tensor object with the token IDs.\n",
        "    '''\n",
        "    marked_text = \"<s> \" + text + \" </s>\"\n",
        "    tokenized_text = tokenizer.tokenize(marked_text)\n",
        "    indexed_tokens = tokenizer.convert_tokens_to_ids(tokenized_text)\n",
        "\n",
        "    # we convert inputs to tensors\n",
        "    tokens_tensor = torch.tensor([indexed_tokens])\n",
        "\n",
        "    return tokenized_text, tokens_tensor"
      ]
    },
    {
      "cell_type": "code",
      "execution_count": null,
      "metadata": {
        "id": "VSSzRbk9tPsS"
      },
      "outputs": [],
      "source": [
        "def get_roberta_embeddings(tokens_tensor:List[str], model:RobertaModel):\n",
        "    '''\n",
        "    Obtains RoBERTa embeddings for tokens in the context of a given sentence.\n",
        "\n",
        "    Parameters:\n",
        "        tokens_tensor: A torch.Tensor object with the token IDs.\n",
        "        model: A pre-trained RobertaModel.\n",
        "\n",
        "    Returns:\n",
        "        token_vecs_sum: A torch.Tensor object object with the sum of the\n",
        "        embeddings for each token.\n",
        "    '''\n",
        "    with torch.no_grad():\n",
        "        # we obtain hidden states\n",
        "        outputs = model(tokens_tensor )\n",
        "        hidden_states = outputs.hidden_states\n",
        "\n",
        "        # stack: creates new dimension in tensor\n",
        "        token_embeddings = torch.stack(hidden_states, dim=0)\n",
        "        # squeeze: removes dimension 1, the \"batches\"\n",
        "        token_embeddings = torch.squeeze(token_embeddings, dim=1)\n",
        "        # permute: swaps dimensions 0 and 1 so we can loop over tokens\n",
        "        token_embeddings = token_embeddings.permute(1, 0, 2)\n",
        "        # \"token_embeddings\" is a [Y x 12 x 768] tensor\n",
        "        # where Y is the number of tokens in the sentence\n",
        "\n",
        "        # list to store embeddings\n",
        "        token_vecs_sum = []\n",
        "        for token in token_embeddings:\n",
        "          # token : a [12 x 768] tensor\n",
        "          # we sum the last four layers\n",
        "            sum_vec = torch.sum(token[-4:], dim=0)\n",
        "            token_vecs_sum.append(sum_vec)\n",
        "\n",
        "    return token_vecs_sum"
      ]
    },
    {
      "cell_type": "code",
      "execution_count": null,
      "metadata": {
        "id": "Jpe6Z_hP9ZUU"
      },
      "outputs": [],
      "source": [
        "def get_keyword_embeddings_roberta(corpus: List[str], keyword:str):\n",
        "    '''\n",
        "    Obtains the list of RoBERTa embeddings for a keyword in a corpus.\n",
        "\n",
        "    Parameters:\n",
        "        corpus: The corpus of texts from which we want to retrieve the embeddings\n",
        "        of a certain keyword.\n",
        "        keyword: The keyword for which we want to get the embeddings.\n",
        "\n",
        "    Returns:\n",
        "        keyword_embeddings: A list of RoBERTa embeddings (as torch.Tensor objects)\n",
        "        for each instance of the keyword in a sentence.\n",
        "    '''\n",
        "    keyword_embeddings = []\n",
        "\n",
        "    for i, sentence in enumerate(corpus):\n",
        "        tokenized_text, tokens_tensor= roberta_text_preparation(sentence, tokenizer)\n",
        "\n",
        "        if tokens_tensor.size(1) < 513:# RoBERTa limit on token nb\n",
        "            list_token_embeddings = get_roberta_embeddings(tokens_tensor, model)\n",
        "\n",
        "            # keyword_token_split: a list of tokens that the keyword is split into\n",
        "            keyword_token_split = tokenizer.tokenize(' ' + keyword) if \\\n",
        "            keyword[0] != ' ' else tokenizer.tokenize(keyword)\n",
        "\n",
        "            keyword_split_len = len(keyword_token_split)\n",
        "\n",
        "            for ind, token in enumerate(tokenized_text[1:-1]):\n",
        "              if token == keyword_token_split[0]:\n",
        "                end_ind = ind + keyword_split_len\n",
        "                if tokenized_text[1:-1][ind:end_ind] == keyword_token_split:\n",
        "                  # stack: a list of embeddings of x tokens of a keyword\n",
        "                  stack = list_token_embeddings[1:-1][ind: end_ind]\n",
        "                  # we compute the average embedding for each keyword\n",
        "                  embedding = sum(stack) / keyword_split_len\n",
        "                  keyword_embeddings.append(embedding)\n",
        "\n",
        "    if not keyword_embeddings:\n",
        "        print(f\"'{keyword}': not found in the corpus.\")\n",
        "\n",
        "    return keyword_embeddings"
      ]
    },
    {
      "cell_type": "code",
      "execution_count": null,
      "metadata": {
        "id": "wKRW8mx22Ip2"
      },
      "outputs": [],
      "source": [
        "def get_avg_cont_embedding_roberta(txt_D:List[str], txt_R:List[str], keyword:str):\n",
        "    '''\n",
        "    Computes the average embeddings of a keyword for the subcorpora text_D and\n",
        "    text_R.\n",
        "\n",
        "    Parameters:\n",
        "        txt_D: A list of strings containing the texts of the reports under\n",
        "        condition Democratic administration.\n",
        "        txt_R: A list of strings containing the texts of the reports under\n",
        "        condition Republican administration.\n",
        "        keyword: A string object corresponding to a keyword of interest.\n",
        "\n",
        "    Returns:\n",
        "        avg_keyword_embedding_D, avg_keyword_embedding_R: A tuple of average\n",
        "        embeddings (torch.Tensor) for txt_D and txt_R or\n",
        "        'missing keyword' if the keyword is not found in one of the corpus.\n",
        "    '''\n",
        "    # dict_keyword_corpora:{keyword_corpus_D: List[str],\n",
        "    #                       keyword_corpus_R: List[str]}\n",
        "    dict_keyword_corpora = get_keyword_corpus(txt_D, txt_R, keyword)\n",
        "    avg_k_embeddings = {}\n",
        "\n",
        "    for key, corpus_key in zip(['D', 'R'], ['keyword_corpus_0', 'keyword_corpus_1']):\n",
        "      keyword_embeddings = get_keyword_embeddings_roberta(dict_keyword_corpora[corpus_key], keyword)\n",
        "      avg_k_embeddings[key] = (\n",
        "        torch.mean(torch.stack(keyword_embeddings), dim=0)\n",
        "        if keyword_embeddings else 'missing keyword'\n",
        "      )\n",
        "\n",
        "    avg_k_embedding_D = avg_k_embeddings['D']\n",
        "    avg_k_embedding_R = avg_k_embeddings['R']\n",
        "\n",
        "    # we create the following dictionnary to later save the tensors\n",
        "    embeddings_dict[keyword] = {\n",
        "        'avg_keyword_embedding_D': avg_k_embedding_D,\n",
        "        'avg_keyword_embedding_R': avg_k_embedding_R\n",
        "    }\n",
        "\n",
        "    return avg_k_embedding_D, avg_k_embedding_R\n",
        "\n",
        "# we need to define the global variable embeddings_dict\n",
        "embeddings_dict = {}"
      ]
    },
    {
      "cell_type": "code",
      "execution_count": null,
      "metadata": {
        "id": "gvPjsZML75gf"
      },
      "outputs": [],
      "source": [
        "def get_keyword_politicization_score_roberta(row, txt_D:List[str], txt_R:List[str], \\\n",
        "                                     keyword_column:str = 'Keyword_clean'):\n",
        "    '''\n",
        "    Computes the politicization score of a keyword from the cosine_similarity.\n",
        "\n",
        "    Parameters:\n",
        "        row: the row of a pd.DataFrame\n",
        "        txt_D: A list of strings containing the texts of the reports under\n",
        "        condition Democratic administration.\n",
        "        txt_R: A list of strings containing the texts of the reports under\n",
        "        condition Republican administration.\n",
        "        keyword_column: A string object corresponding to the name of the column\n",
        "        containing the pre-processed keywords.\n",
        "\n",
        "    Returns:\n",
        "        pol_score: The politicization score of a keyword as a torch.Tensor object.\n",
        "    '''\n",
        "    keyword = row[keyword_column]\n",
        "    avg_k_embedding_D, avg_k_embedding_R = get_avg_cont_embedding_roberta(txt_D,\\\n",
        "                                                                          txt_R,\\\n",
        "                                                                          keyword)\n",
        "\n",
        "    if isinstance(avg_k_embedding_D, str) or isinstance(avg_k_embedding_R, str):\n",
        "        return 'missing keyword'\n",
        "    cosine_score = cosine_similarity(avg_k_embedding_D.unsqueeze(0)\\\n",
        "                                            , avg_k_embedding_R.unsqueeze(0))\n",
        "    if avg_k_embedding_D is None or avg_k_embedding_R is None:\n",
        "        return 'error'\n",
        "    pol_score = torch.tensor(1 - cosine_score.item())\n",
        "    return pol_score\n"
      ]
    },
    {
      "cell_type": "markdown",
      "source": [
        "We then apply the function `get_keyword_politicization_score_roberta` on the entire df_keywords.\n",
        "\n",
        "Computationnaly expensive cell:\n",
        "\n",
        "\n",
        "**!!! This cell is desabled to avoid running it since it takes a very long time to run !!! **"
      ],
      "metadata": {
        "id": "NtWjYG64Bo1L"
      }
    },
    {
      "cell_type": "code",
      "execution_count": null,
      "metadata": {
        "id": "zpW3Zfbr7J-1"
      },
      "outputs": [],
      "source": [
        " #%time df_keywords['score_embeddings_roberta'] = df_keywords.apply(get_keyword_politicization_score_roberta, args=(txt_D, txt_R), axis=1)"
      ]
    },
    {
      "cell_type": "markdown",
      "metadata": {
        "id": "Crxm8A3OUY7d"
      },
      "source": [
        "# Save artefacts"
      ]
    },
    {
      "cell_type": "markdown",
      "source": [
        "We save the artefacts:\n",
        "\n",
        "* df_keywords: contains the keywords, the computed politicization scores and the expert-labelled politicization scores\n",
        "* embeddings_dict: a dictionnary with each keyword as a key, and a dictionary as value containing the average embeddings of both Republican and Democratic parties."
      ],
      "metadata": {
        "id": "LfriFw8CtiR6"
      }
    },
    {
      "cell_type": "code",
      "execution_count": null,
      "metadata": {
        "id": "AKkPFCWXQZ1e"
      },
      "outputs": [],
      "source": [
        "# save the df because needs an hour to run\n",
        "PATH_TO_SAVE_KEYWORDS = \"/content/drive/MyDrive/MyThesis/df_keywords_institutional_split_roberta.xlsx\"\n",
        "\n",
        "# we save de df as an .xls file\n",
        "df_keywords.to_excel(PATH_TO_SAVE_KEYWORDS, index=False)"
      ]
    },
    {
      "cell_type": "code",
      "execution_count": null,
      "metadata": {
        "id": "0hRagsLw9Wk-"
      },
      "outputs": [],
      "source": [
        "PATH_TO_SAVE_TENSORS = \"/content/drive/MyDrive/MyThesis/dict_tensors_institutional_split_roberta.xlsx\"\n",
        "\n",
        "# we save de tensor dictionnary as an .xlsx file\n",
        "torch.save(embeddings_dict, PATH_TO_SAVE_TENSORS)"
      ]
    },
    {
      "cell_type": "markdown",
      "metadata": {
        "id": "SnWE22EZjct1"
      },
      "source": [
        "# Load artefacts"
      ]
    },
    {
      "cell_type": "markdown",
      "source": [
        "We load the data to make sure everything was well saved and we inspect the shape and columns."
      ],
      "metadata": {
        "id": "bnZGPHy3tuEA"
      }
    },
    {
      "cell_type": "code",
      "execution_count": null,
      "metadata": {
        "id": "PaGRTWLVjga3",
        "colab": {
          "base_uri": "https://localhost:8080/"
        },
        "outputId": "359c8c9f-d795-4349-ebcd-9c7e35465d00"
      },
      "outputs": [
        {
          "output_type": "stream",
          "name": "stdout",
          "text": [
            "Shape of df_keywords: (779, 4)\n"
          ]
        }
      ],
      "source": [
        "PATH_TO_LOAD_KEYWORDS = \"/content/drive/MyDrive/MyThesis/df_keywords_institutional_split_roberta.xlsx\"\n",
        "\n",
        "df_keywords = pd.read_excel(PATH_TO_LOAD_KEYWORDS)\n",
        "print(f\"Shape of df_keywords: {df_keywords.shape}\")"
      ]
    },
    {
      "cell_type": "markdown",
      "source": [
        "We see that among the 779 keywords, there are only 147 keywords that happen to be in both corpus, and thus have a politicization score."
      ],
      "metadata": {
        "id": "sJlEkI9F7TjH"
      }
    },
    {
      "cell_type": "code",
      "source": [
        "print(f\"Nb of missing keywords: {(df_keywords['score_embeddings_roberta']=='missing keyword').sum()}\")\n",
        "print(f\"Nb of keywords identified: {df_keywords.shape[0]-(df_keywords['score_embeddings_roberta']=='missing keyword').sum()}\")"
      ],
      "metadata": {
        "colab": {
          "base_uri": "https://localhost:8080/"
        },
        "id": "yJI8Rz1i6U2O",
        "outputId": "902fe2e3-eff4-41e3-8a5b-0a4425ac1d01"
      },
      "execution_count": null,
      "outputs": [
        {
          "output_type": "stream",
          "name": "stdout",
          "text": [
            "Nb of missing keywords: 632\n",
            "Nb of keywords identified: 147\n"
          ]
        }
      ]
    },
    {
      "cell_type": "markdown",
      "source": [
        "We need to have tensors to be able to proceed with the pipeline, we need to convert the strings from the `.xlsx` file."
      ],
      "metadata": {
        "id": "R-VrF-3q7eC5"
      }
    },
    {
      "cell_type": "code",
      "source": [
        "def string_to_tensor(tensor_string:str):\n",
        "  try:\n",
        "        if tensor_string.startswith(\"tensor(\"):\n",
        "            tensor_eval = literal_eval(tensor_string.strip(\"tensor()\"))\n",
        "            tensor = torch.tensor(tensor_eval)\n",
        "            return tensor\n",
        "        else:\n",
        "            # we return the original string if does not start with 'tensor('\n",
        "            return tensor_string\n",
        "  except (ValueError, SyntaxError):\n",
        "        #  we return the original string if there is an error\n",
        "        return tensor_string"
      ],
      "metadata": {
        "id": "PlubcR2N7s00"
      },
      "execution_count": null,
      "outputs": []
    },
    {
      "cell_type": "markdown",
      "source": [
        "The political score of the keywords are reverted to tensor to proceed with the original pipeline once we loaded the `.xlsx` file."
      ],
      "metadata": {
        "id": "FkvOovPQ7x_a"
      }
    },
    {
      "cell_type": "code",
      "execution_count": null,
      "metadata": {
        "id": "I696eOg7p-HG"
      },
      "outputs": [],
      "source": [
        "df_keywords['tensor'] = df_keywords['score_embeddings_roberta'].apply(string_to_tensor)"
      ]
    },
    {
      "cell_type": "markdown",
      "metadata": {
        "id": "gYC2mzHKILoJ"
      },
      "source": [
        "## Difference in keywords identified with Bert"
      ]
    },
    {
      "cell_type": "markdown",
      "source": [
        "In order to make sure that RoBERTa identifies the same keywords as BERT we load the BERT df_keywords and check if they have the same missing keywords."
      ],
      "metadata": {
        "id": "5VFir9V5-C1v"
      }
    },
    {
      "cell_type": "code",
      "execution_count": null,
      "metadata": {
        "id": "5v4AM-LyIQ8d",
        "colab": {
          "base_uri": "https://localhost:8080/"
        },
        "outputId": "de73b57f-b61b-4e58-82f8-a17681742eb1"
      },
      "outputs": [
        {
          "output_type": "stream",
          "name": "stdout",
          "text": [
            "Shape of df_keywords_BERT: (779, 4)\n"
          ]
        }
      ],
      "source": [
        "PATH_TO_LOAD_KEYWORDS_BERT = \"/content/drive/MyDrive/MyThesis/df_keywords_institutional_split_bert.xlsx\"\n",
        "\n",
        "df_keywords_BERT = pd.read_excel(PATH_TO_LOAD_KEYWORDS_BERT)\n",
        "print(f\"Shape of df_keywords_BERT: {df_keywords_BERT.shape}\")"
      ]
    },
    {
      "cell_type": "code",
      "execution_count": null,
      "metadata": {
        "id": "vA-kPz0bJJBT"
      },
      "outputs": [],
      "source": [
        "missing_keywords_BERT = df_keywords_BERT[df_keywords_BERT['score_embeddings'] == \\\n",
        "                                      'missing keyword']['Keyword_clean'].tolist()\n",
        "missing_keywords_RoBERTa = df_keywords[df_keywords['score_embeddings_roberta'] == \\\n",
        "                                       'missing keyword']['Keyword_clean'].tolist()"
      ]
    },
    {
      "cell_type": "markdown",
      "source": [
        "And in deed both models identify the same keywords, which validates our approach of retrieving only full words and not part of a word (see function `get_keyword_corpus`)."
      ],
      "metadata": {
        "id": "J_xy4SJT-acF"
      }
    },
    {
      "cell_type": "code",
      "execution_count": null,
      "metadata": {
        "colab": {
          "base_uri": "https://localhost:8080/"
        },
        "id": "tdMu553mJ7Fu",
        "outputId": "1178e25d-9ab0-4800-e22e-f03e5e8738bc"
      },
      "outputs": [
        {
          "output_type": "execute_result",
          "data": {
            "text/plain": [
              "set()"
            ]
          },
          "metadata": {},
          "execution_count": 31
        }
      ],
      "source": [
        "set(missing_keywords_BERT ).symmetric_difference(set(missing_keywords_RoBERTa))"
      ]
    },
    {
      "cell_type": "markdown",
      "source": [
        "# Average number of keywords"
      ],
      "metadata": {
        "id": "PgDMr_9rGPk3"
      }
    },
    {
      "cell_type": "markdown",
      "source": [
        "*Note: this section is the exact same as the one in document `BERT_Institutional_Split.ipynb` since the reports are split using the same variable and the models identify the same keywords.*"
      ],
      "metadata": {
        "id": "RCgjV-s7Gnmw"
      }
    },
    {
      "cell_type": "markdown",
      "source": [
        "# Relative frequency keywords"
      ],
      "metadata": {
        "id": "S9A0D8AGHJzi"
      }
    },
    {
      "cell_type": "markdown",
      "source": [
        "*Note: this section is the exact same as the one in document `BERT_Institutional_Split.ipynb` since the reports are split using the same variable and the models identify the same keywords.*"
      ],
      "metadata": {
        "id": "ENYy70drHNPt"
      }
    },
    {
      "cell_type": "markdown",
      "metadata": {
        "id": "HQBBSZ3KylQO"
      },
      "source": [
        "# Evaluation keywords: Wilcoxon rank-sum test"
      ]
    },
    {
      "cell_type": "markdown",
      "metadata": {
        "id": "ltoqYlVZkX1w"
      },
      "source": [
        "## Verifiy statistical test conditions: Normality and Variance"
      ]
    },
    {
      "cell_type": "markdown",
      "source": [
        "To compare the distributions of politicized (score 2 and 3) and non-politiczed (score 1) keywords, we need to assess the normailty (Shapiro test) and variance ( Levene test) of both samples."
      ],
      "metadata": {
        "id": "uJea-GBR_UwN"
      }
    },
    {
      "cell_type": "code",
      "execution_count": null,
      "metadata": {
        "id": "7FIO-E-Oqq-m"
      },
      "outputs": [],
      "source": [
        "def convert_tensor_to_float(value:float):\n",
        "  '''\n",
        "    Converts a the value of a tensor object to a float value.\n",
        "\n",
        "    Parameters:\n",
        "        value: A tensor object.\n",
        "\n",
        "    Returns:\n",
        "        value.item(): The value of the tensor object as a float.\n",
        "  '''\n",
        "  if isinstance(value, torch.Tensor):\n",
        "        # we extract the numerical value of the tensor\n",
        "        return value.item()\n",
        "  return None"
      ]
    },
    {
      "cell_type": "markdown",
      "source": [
        "We sample from the keywords to obtain the non-politicized keywords (`scores_cat_1`) and the politicized keywords (`scores_cat_2_and_3`)."
      ],
      "metadata": {
        "id": "iDCPcG4R_ejZ"
      }
    },
    {
      "cell_type": "code",
      "execution_count": null,
      "metadata": {
        "id": "klMhxBqEkoHx"
      },
      "outputs": [],
      "source": [
        "# we apply conversion and filter out strings and None values\n",
        "scores_cat_1 = [convert_tensor_to_float(score) for score in \\\n",
        "                df_keywords[df_keywords['POLITICISED'] == 1]['tensor'] if score]\n",
        "scores_cat_2_and_3 = [convert_tensor_to_float(score) for score in \\\n",
        "                      df_keywords[df_keywords['POLITICISED'].isin([2, 3])]['tensor'] if score]\n",
        "\n",
        "# we filter out None values which are the result of non-tensor data\n",
        "# (non-tensor data are missing keywords )\n",
        "scores_cat_1 = [score for score in scores_cat_1 if score is not None]\n",
        "scores_cat_2_and_3 = [score for score in scores_cat_2_and_3 if score is not None]\n"
      ]
    },
    {
      "cell_type": "code",
      "execution_count": null,
      "metadata": {
        "colab": {
          "base_uri": "https://localhost:8080/"
        },
        "id": "vCd3zMyckbEL",
        "outputId": "bd2926f2-fee4-48ad-ab74-223414467fb6"
      },
      "outputs": [
        {
          "output_type": "stream",
          "name": "stdout",
          "text": [
            "Normality test for non-politicized keywords (statistic, p-value): ShapiroResult(statistic=0.732194185256958, pvalue=5.210766280266954e-12)\n",
            "Normality test for politicized keywords(statistic, p-value): ShapiroResult(statistic=0.7535949349403381, pvalue=8.71083472020473e-08)\n",
            "Equal variance test for keywords (statistic, p-value): LeveneResult(statistic=2.8453588637773115, pvalue=0.09378838512086561)\n"
          ]
        }
      ],
      "source": [
        "# Normality: Shapiro-Wilk test\n",
        "print(\"Normality test for non-politicized keywords (statistic, p-value):\", \\\n",
        "      shapiro(scores_cat_1))\n",
        "print(\"Normality test for politicized keywords(statistic, p-value):\", \\\n",
        "      shapiro(scores_cat_2_and_3))\n",
        "\n",
        "# Wqual variances: Levene's test\n",
        "print(\"Equal variance test for keywords (statistic, p-value):\", \\\n",
        "      levene(scores_cat_1, scores_cat_2_and_3))\n"
      ]
    },
    {
      "cell_type": "markdown",
      "metadata": {
        "id": "GtpOMktWsPsA"
      },
      "source": [
        "**Normality**:\n",
        "The p-values for both non-politicized and politicized keywords are significantly less than 0.05, indicating that both groups significantly deviate from a normal distribution. The statistics being well below 1 also highlight this non-normality.\n",
        "\n",
        "**Equal variances**:\n",
        "The p-value for the Levene's test is greater than 0.05, suggesting that there is no significant evidence to reject the null hypothesis of equal variances between the two groups. This implies that the variances are statistically similar.\n",
        "\n",
        "Since the Normality assumption is not respected for both populations, we need to perform a non-parametric test."
      ]
    },
    {
      "cell_type": "markdown",
      "metadata": {
        "id": "AYZECjpCsc-n"
      },
      "source": [
        "## Compute non parametric test"
      ]
    },
    {
      "cell_type": "markdown",
      "source": [
        "We compute both the Mannwhitney and the Wilcoxon ranksum test, which are non-parametric tests. In our paper we only discuss the Wilcoxon test since it contians more information, notably the sign of the statistical value, which indicates which group ranks higher in comparison to the other."
      ],
      "metadata": {
        "id": "xZyWnroJBdS3"
      }
    },
    {
      "cell_type": "markdown",
      "source": [
        "#### Mann-Whitney U test"
      ],
      "metadata": {
        "id": "WpVIbFBiBgEQ"
      }
    },
    {
      "cell_type": "code",
      "source": [
        "u_statistic, u_pvalue = mannwhitneyu(scores_cat_1, scores_cat_2_and_3)\n",
        "print(\"Mann-Whitney U test (Statistic, P-value):\", (u_statistic, u_pvalue))"
      ],
      "metadata": {
        "colab": {
          "base_uri": "https://localhost:8080/"
        },
        "id": "tF9UBPuxBjw2",
        "outputId": "5374c6ea-16c9-4ec6-f78e-7b9dd1d15927"
      },
      "execution_count": null,
      "outputs": [
        {
          "output_type": "stream",
          "name": "stdout",
          "text": [
            "Mann-Whitney U test (Statistic, P-value): (1586.5, 0.0006114825936869093)\n"
          ]
        }
      ]
    },
    {
      "cell_type": "markdown",
      "metadata": {
        "id": "1lM8m-IMtZQ2"
      },
      "source": [
        "HO: There is no difference between the two distributions. The median (or mean rank) of the two distributions is equal."
      ]
    },
    {
      "cell_type": "markdown",
      "metadata": {
        "id": "4fTYFsp6s2xI"
      },
      "source": [
        "Since the p-value (0.0006115) < 0.05, we reject the null hypothesis. This suggests there is a statistically significant difference in the rank distribution between the two groups. One group typically ranks higher than the other, which indicates a statistically significant difference in their medians.\n",
        "\n",
        "*Problem*: we don't have a direction."
      ]
    },
    {
      "cell_type": "markdown",
      "source": [
        "#### Wilcoxon rank-sum test"
      ],
      "metadata": {
        "id": "em45cFuoB0_U"
      }
    },
    {
      "cell_type": "code",
      "source": [
        "print(\"Wilcoxon rank-sum test result:\", ranksums(scores_cat_1, scores_cat_2_and_3))"
      ],
      "metadata": {
        "colab": {
          "base_uri": "https://localhost:8080/"
        },
        "id": "O5A2F6nbB4E3",
        "outputId": "01bd970b-3ea1-4467-ef29-e773abca049c"
      },
      "execution_count": null,
      "outputs": [
        {
          "output_type": "stream",
          "name": "stdout",
          "text": [
            "Wilcoxon rank-sum test result: RanksumsResult(statistic=-3.4284037618717362, pvalue=0.0006071417527960858)\n"
          ]
        }
      ]
    },
    {
      "cell_type": "markdown",
      "metadata": {
        "id": "DLU1QDr-tayr"
      },
      "source": [
        "HO: There is no difference between the two distributions. The median (or mean rank) of the two distributions is equal."
      ]
    },
    {
      "cell_type": "markdown",
      "metadata": {
        "id": "2cHGuz0fDONO"
      },
      "source": [
        "The statistic of -3.428 is a measure of the difference between the ranks of the two groups being compared. The negative sign suggests that the ranks of the first group are generally lower than those of the second group. his coefficient means that non-politicized keywords are ranked 3.428 ranks lower on average than politicized keywords in their relative distributions. Since the p-value (0.000607) < 0.05, there is enough statistical significance to reject the null hypothesis. The observed differences between the distributions of politicized and non-politicized keywords indicate that our approach accurately identifies politicized topics by giving them higher scores.\n"
      ]
    },
    {
      "cell_type": "markdown",
      "metadata": {
        "id": "fJtm5FIiRBc2"
      },
      "source": [
        "# Evaluation reports: Spearman analysis"
      ]
    },
    {
      "cell_type": "markdown",
      "metadata": {
        "id": "HHWj4hJKU5xM"
      },
      "source": [
        "To determine the overall politicization score of a report, we average the score of all keywords it contains and we thereby extend our analysis from the politicization of individual words to the politicization of entire documents.\n",
        "\n",
        "We compute three different Spearman tests to determine if our metric are correlated with the 'silver standard' scores\n",
        "\n",
        "* Type-based score and Type-based silver score\n",
        "* Token-based score and Token-based silver score\n",
        "* Token-based score and Metadata-based silver score"
      ]
    },
    {
      "cell_type": "markdown",
      "source": [
        "## Type-based silver score"
      ],
      "metadata": {
        "id": "55giIMNwCq5D"
      }
    },
    {
      "cell_type": "markdown",
      "source": [
        "The type-based score is based on averaging the score of the keywords present in a text by their log-frequency.\n",
        "We create two functions to generate the score and silver score of the reports:\n",
        "\n",
        "* `get_politicization_score_type`\n",
        "* `get_politicization_silver_score_type`\n",
        "\n",
        "We then compute the correlation of our metric and the silver score."
      ],
      "metadata": {
        "id": "oZmjMPJACt7V"
      }
    },
    {
      "cell_type": "code",
      "execution_count": null,
      "metadata": {
        "id": "HfSHU8-nuy8k"
      },
      "outputs": [],
      "source": [
        "def get_politicization_score_type(text:str, df_keywords:pd.DataFrame):\n",
        "    '''\n",
        "    Returns a float as a politicization score for a certain string input.\n",
        "    This score is type-based, meaning we compute it by averaging the scores of\n",
        "    the keywords we identify in the text by their log-frequency. We use the\n",
        "    politicization scores generated from keywords' contextualized embeddings\n",
        "    to generate the score.\n",
        "\n",
        "    Parameters:\n",
        "        text: A string to compute politicization score from.\n",
        "\n",
        "    Returns:\n",
        "        A float between 1 and 0 representing the politicization silver score.\n",
        "    '''\n",
        "    cumulative_score = 0\n",
        "    cumulative_count = 0\n",
        "    for i, row in df_keywords.iterrows():\n",
        "        count = text.count(row['Keyword_clean'])\n",
        "        log_count = math.log1p(count)\n",
        "        # We make sure the tensor is not a string, meaning it is not missing\n",
        "        if count > 0 and not isinstance(row['tensor'], str):\n",
        "            cumulative_score += log_count*row['tensor'].item()\n",
        "            cumulative_count += log_count\n",
        "    return cumulative_score/cumulative_count if cumulative_count > 0 else None"
      ]
    },
    {
      "cell_type": "markdown",
      "source": [
        "First we create our type-based politicization metric."
      ],
      "metadata": {
        "id": "TP3eZ8LvDaV3"
      }
    },
    {
      "cell_type": "code",
      "source": [
        "df['score_type'] = df['Text_clean'].apply(lambda x: get_politicization_score_type(x, df_keywords))"
      ],
      "metadata": {
        "colab": {
          "base_uri": "https://localhost:8080/"
        },
        "id": "XI1bcWj6C4OB",
        "outputId": "7ad6e3e6-7d4b-425c-8f24-e7b30be8efc0"
      },
      "execution_count": null,
      "outputs": [
        {
          "output_type": "stream",
          "name": "stderr",
          "text": [
            "<ipython-input-38-f1c375e39c50>:1: SettingWithCopyWarning: \n",
            "A value is trying to be set on a copy of a slice from a DataFrame.\n",
            "Try using .loc[row_indexer,col_indexer] = value instead\n",
            "\n",
            "See the caveats in the documentation: https://pandas.pydata.org/pandas-docs/stable/user_guide/indexing.html#returning-a-view-versus-a-copy\n",
            "  df['score_type'] = df['Text_clean'].apply(lambda x: get_politicization_score_type(x, df_keywords))\n"
          ]
        }
      ]
    },
    {
      "cell_type": "code",
      "execution_count": null,
      "metadata": {
        "id": "cMpBaQ_L5rP8"
      },
      "outputs": [],
      "source": [
        "def get_politicization_silver_score_type(text:str, df_keywords:pd.DataFrame):\n",
        "    '''\n",
        "    Returns a float as a politicization silver score for a certain string input.\n",
        "    This score is type-based, meaning we compute it by averaging the scores of\n",
        "    the keywords we identify in the text by their log-frequency. We use the\n",
        "    expert-labelled politicization scores of the keywords to generate the silver\n",
        "    score.\n",
        "\n",
        "    Parameters:\n",
        "        text: A string to compute politicization score from.\n",
        "\n",
        "    Returns:\n",
        "        A float between 1 and 0 representing the politicization silver score.\n",
        "    '''\n",
        "    cumulative_score = 0\n",
        "    cumulative_count = 0\n",
        "    for i, row in df_keywords.iterrows():\n",
        "        count = text.count(row['Keyword_clean'])\n",
        "        log_count = math.log1p(count)\n",
        "        if count > 0 and not isinstance(row['POLITICISED'], str):\n",
        "            cumulative_score += log_count*row['POLITICISED']\n",
        "            cumulative_count += log_count\n",
        "    return cumulative_score/cumulative_count if cumulative_count > 0 else None"
      ]
    },
    {
      "cell_type": "markdown",
      "source": [
        "Then we compute our type-based silver score."
      ],
      "metadata": {
        "id": "fefyRlO2DidZ"
      }
    },
    {
      "cell_type": "code",
      "source": [
        "df['silver_score_type'] = df['Text_clean'].apply(lambda x: get_politicization_silver_score_type(x, df_keywords))"
      ],
      "metadata": {
        "colab": {
          "base_uri": "https://localhost:8080/"
        },
        "id": "JzKmQmNdC_rW",
        "outputId": "4291bd1e-1827-4de1-ee00-03cf6405c9cf"
      },
      "execution_count": null,
      "outputs": [
        {
          "output_type": "stream",
          "name": "stderr",
          "text": [
            "<ipython-input-40-283ecf97cc40>:1: SettingWithCopyWarning: \n",
            "A value is trying to be set on a copy of a slice from a DataFrame.\n",
            "Try using .loc[row_indexer,col_indexer] = value instead\n",
            "\n",
            "See the caveats in the documentation: https://pandas.pydata.org/pandas-docs/stable/user_guide/indexing.html#returning-a-view-versus-a-copy\n",
            "  df['silver_score_type'] = df['Text_clean'].apply(lambda x: get_politicization_silver_score_type(x, df_keywords))\n"
          ]
        }
      ]
    },
    {
      "cell_type": "markdown",
      "source": [
        "We then compute the Spearman correlation (non-parametric test) to test if there is a correlation between our metric and the 'silver standard' score."
      ],
      "metadata": {
        "id": "cVlaMD1wDDCU"
      }
    },
    {
      "cell_type": "code",
      "source": [
        "correlation, p_value = spearmanr(df['score_type'], df['silver_score_type'])\n",
        "\n",
        "print(\"Spearman correlation coefficient:\", correlation)\n",
        "print(\"P-value:\", p_value)"
      ],
      "metadata": {
        "colab": {
          "base_uri": "https://localhost:8080/"
        },
        "id": "U10pIcRYDFuQ",
        "outputId": "ca0e6c70-1bea-4a2c-c184-7c5356a27caa"
      },
      "execution_count": null,
      "outputs": [
        {
          "output_type": "stream",
          "name": "stdout",
          "text": [
            "Spearman correlation coefficient: 0.42427952999381574\n",
            "P-value: 1.2058725442885609e-05\n"
          ]
        }
      ]
    },
    {
      "cell_type": "markdown",
      "source": [
        "## Token-based silver score"
      ],
      "metadata": {
        "id": "5HYRM92CEJPR"
      }
    },
    {
      "cell_type": "markdown",
      "source": [
        "The token-based score is based on averaging the score of unique keywords present in a text.\n",
        "We create two functions to generate the score and silver score of the reports:\n",
        "\n",
        "* `get_politicization_score_token`\n",
        "* `get_politicization_silver_score_token`\n",
        "\n",
        "We then compute the correlation of our metric and the silver score."
      ],
      "metadata": {
        "id": "QtiL4klrEXlR"
      }
    },
    {
      "cell_type": "code",
      "source": [
        "def get_politicization_score_reports_token(text:str, df_keywords: pd.DataFrame):\n",
        "    '''\n",
        "    Returns a float as a politicization score for a certain string input.\n",
        "    This score is token-based, meaning we compute it by averaging the scores of\n",
        "    the unique keywords we identify in the text. We use the\n",
        "    politicization scores generated from keywords' contextualized embeddings\n",
        "    to generate the score.\n",
        "\n",
        "    Parameters:\n",
        "        text: A string to compute politicization score from.\n",
        "\n",
        "    Returns:\n",
        "        A float between 1 and 0 representing the politicization silver score.\n",
        "    '''\n",
        "    cumulative_score = 0\n",
        "    keyword_count = 0\n",
        "    for index, row in df_keywords.iterrows():\n",
        "        if text.count(row['Keyword_clean']) > 0:\n",
        "            if not isinstance(row['tensor'], str):\n",
        "                cumulative_score += row['tensor'].item()\n",
        "                keyword_count += 1\n",
        "    #print(keyword_count)\n",
        "    return cumulative_score/keyword_count if keyword_count > 0 else None"
      ],
      "metadata": {
        "id": "Oh6YzQZ_Ee7s"
      },
      "execution_count": null,
      "outputs": []
    },
    {
      "cell_type": "markdown",
      "source": [
        "First we create our token-based politicization metric."
      ],
      "metadata": {
        "id": "L_E5vuiMEjZh"
      }
    },
    {
      "cell_type": "code",
      "source": [
        "df['score_token'] = df['Text_clean'].apply(lambda x: get_politicization_score_reports_token(x, df_keywords))"
      ],
      "metadata": {
        "colab": {
          "base_uri": "https://localhost:8080/"
        },
        "id": "oouCG59BE1p3",
        "outputId": "03648b35-cd05-4c27-b9dd-d0e2f1582baa"
      },
      "execution_count": null,
      "outputs": [
        {
          "output_type": "stream",
          "name": "stderr",
          "text": [
            "<ipython-input-43-e0f34be0fde5>:1: SettingWithCopyWarning: \n",
            "A value is trying to be set on a copy of a slice from a DataFrame.\n",
            "Try using .loc[row_indexer,col_indexer] = value instead\n",
            "\n",
            "See the caveats in the documentation: https://pandas.pydata.org/pandas-docs/stable/user_guide/indexing.html#returning-a-view-versus-a-copy\n",
            "  df['score_token'] = df['Text_clean'].apply(lambda x: get_politicization_score_reports_token(x, df_keywords))\n"
          ]
        }
      ]
    },
    {
      "cell_type": "code",
      "source": [
        "def get_politicization_silver_score_reports_token(text:str, df_keywords: pd.DataFrame):\n",
        "    '''\n",
        "    Returns a float as a politicization silver score for a certain string input.\n",
        "    This score is token-based, meaning we compute it by averaging the scores of\n",
        "    the unique keywords we identify in the text. We use the expert-labelled\n",
        "    politicization scores of the keywords to generate the silver score.\n",
        "\n",
        "    Parameters:\n",
        "        text: A string to compute politicization score from.\n",
        "\n",
        "    Returns:\n",
        "        A float between 1 and 0 representing the politicization silver score.\n",
        "    '''\n",
        "    cumulative_score = 0\n",
        "    keyword_count = 0\n",
        "    for index, row in df_keywords.iterrows():\n",
        "        if text.count(row['Keyword_clean']) > 0:\n",
        "            if not isinstance(row['POLITICISED'], str):\n",
        "                cumulative_score += row['POLITICISED']\n",
        "                keyword_count += 1\n",
        "    return cumulative_score/keyword_count if keyword_count > 0 else None"
      ],
      "metadata": {
        "id": "cZh890KNEl-c"
      },
      "execution_count": null,
      "outputs": []
    },
    {
      "cell_type": "markdown",
      "source": [
        "Then we compute our type-based silver score."
      ],
      "metadata": {
        "id": "Qoa7I51fEp0g"
      }
    },
    {
      "cell_type": "code",
      "source": [
        "df['silver_score_token'] = df['Text_clean'].apply(lambda x: get_politicization_silver_score_reports_token(x, df_keywords))"
      ],
      "metadata": {
        "colab": {
          "base_uri": "https://localhost:8080/"
        },
        "id": "y8ztbyJUExCZ",
        "outputId": "a1476f7a-b80e-4636-dbe9-982663e7fc8e"
      },
      "execution_count": null,
      "outputs": [
        {
          "output_type": "stream",
          "name": "stderr",
          "text": [
            "<ipython-input-45-4663311c3e19>:1: SettingWithCopyWarning: \n",
            "A value is trying to be set on a copy of a slice from a DataFrame.\n",
            "Try using .loc[row_indexer,col_indexer] = value instead\n",
            "\n",
            "See the caveats in the documentation: https://pandas.pydata.org/pandas-docs/stable/user_guide/indexing.html#returning-a-view-versus-a-copy\n",
            "  df['silver_score_token'] = df['Text_clean'].apply(lambda x: get_politicization_silver_score_reports_token(x, df_keywords))\n"
          ]
        }
      ]
    },
    {
      "cell_type": "markdown",
      "source": [
        "We then compute the Spearman correlation (non-parametric test) to test if there is a correlation between our metric and the 'silver standard' score."
      ],
      "metadata": {
        "id": "6dgt3weCEtTA"
      }
    },
    {
      "cell_type": "code",
      "source": [
        "correlation, p_value = spearmanr(df['score_token'], df['silver_score_token'])\n",
        "\n",
        "print(\"Spearman correlation coefficient:\", correlation)\n",
        "print(\"P-value:\", p_value)"
      ],
      "metadata": {
        "colab": {
          "base_uri": "https://localhost:8080/"
        },
        "id": "kDF3dkjEE0Pw",
        "outputId": "3be64c78-9baa-4edd-dc12-76a4964cffa3"
      },
      "execution_count": null,
      "outputs": [
        {
          "output_type": "stream",
          "name": "stdout",
          "text": [
            "Spearman correlation coefficient: 0.33291586722391625\n",
            "P-value: 0.000759943522877899\n"
          ]
        }
      ]
    },
    {
      "cell_type": "markdown",
      "source": [
        "Small but statisticall significant correlation. Analysis developped in the paper."
      ],
      "metadata": {
        "id": "Vdm5EIXBFB4J"
      }
    },
    {
      "cell_type": "markdown",
      "source": [
        "## Metadata-based silver score"
      ],
      "metadata": {
        "id": "x6IFFYvfFDIC"
      }
    },
    {
      "cell_type": "markdown",
      "source": [
        "The metadata-based score is based on averaging the score of keywords present in the human-labelled list of terms related to each report (feature `USAID Thesaurus Term(s)`)\n",
        "We create only one function to generate silver score of the reports (the score is the type-based):\n",
        "\n",
        "* `get_politicization_silver_score_token`\n",
        "\n",
        "We then compute the correlation of our metric and the silver score."
      ],
      "metadata": {
        "id": "eN2aNac4FF8m"
      }
    },
    {
      "cell_type": "code",
      "source": [
        "def get_politicization_silver_score_reports_metadata(keywords:str, df_keywords:pd.DataFrame):\n",
        "    '''\n",
        "    Returns a float as a politicization silver score for a certain string input.\n",
        "    This score is metadata-based, meaning we compute it by averaging the scores\n",
        "    of the human-labelled keywords present in the feature `USAID Thesaurus Term(s)`.\n",
        "    We use the expert-labelled  politicization scores of the keywords to\n",
        "    generate the silver score.\n",
        "\n",
        "    Parameters:\n",
        "        text: A string to compute politicization score from.\n",
        "\n",
        "    Returns:\n",
        "        A float between 1 and 0 representing the politicization silver score.\n",
        "    '''\n",
        "    scores = [\n",
        "        float(score)\n",
        "        for keyword in keywords\n",
        "        for score in df_keywords.loc[df_keywords['Keyword_clean'] == keyword, 'POLITICISED']\n",
        "        if pd.notna(score) and score!='missing keywords'\n",
        "    ]\n",
        "    return np.mean(scores) if scores else np.nan"
      ],
      "metadata": {
        "id": "NIKWP8umFMdH"
      },
      "execution_count": null,
      "outputs": []
    },
    {
      "cell_type": "markdown",
      "source": [
        "Here we compute the metadata-based silver score."
      ],
      "metadata": {
        "id": "6omDs5ZHFPFc"
      }
    },
    {
      "cell_type": "code",
      "source": [
        "df['silver_score_metadata'] = df['USAID_Thesaurus_Term(s)_Clean'].apply(lambda x: get_politicization_silver_score_reports_metadata(x, df_keywords))"
      ],
      "metadata": {
        "colab": {
          "base_uri": "https://localhost:8080/"
        },
        "id": "EeBWWDKPFUzr",
        "outputId": "5ea1ab8c-89d4-45e9-d30c-c1b2b38b6fa4"
      },
      "execution_count": null,
      "outputs": [
        {
          "output_type": "stream",
          "name": "stderr",
          "text": [
            "<ipython-input-48-6523dd4ddb12>:1: SettingWithCopyWarning: \n",
            "A value is trying to be set on a copy of a slice from a DataFrame.\n",
            "Try using .loc[row_indexer,col_indexer] = value instead\n",
            "\n",
            "See the caveats in the documentation: https://pandas.pydata.org/pandas-docs/stable/user_guide/indexing.html#returning-a-view-versus-a-copy\n",
            "  df['silver_score_metadata'] = df['USAID_Thesaurus_Term(s)_Clean'].apply(lambda x: get_politicization_silver_score_reports_metadata(x, df_keywords))\n"
          ]
        }
      ]
    },
    {
      "cell_type": "markdown",
      "source": [
        "We then compute the Spearman correlation (non-parametric test) to test if there is a correlation between our metric and the 'silver standard' score."
      ],
      "metadata": {
        "id": "UAEZPVk7Fz03"
      }
    },
    {
      "cell_type": "code",
      "source": [
        "correlation, p_value = spearmanr(df['score_token'], df['silver_score_metadata'])\n",
        "\n",
        "print(\"Spearman Correlation Coefficient:\", correlation)\n",
        "print(\"P-value:\", p_value)"
      ],
      "metadata": {
        "colab": {
          "base_uri": "https://localhost:8080/"
        },
        "id": "Zw5OMkbVF53T",
        "outputId": "5adec97a-45fc-444d-c19c-54212091a073"
      },
      "execution_count": null,
      "outputs": [
        {
          "output_type": "stream",
          "name": "stdout",
          "text": [
            "Spearman Correlation Coefficient: 0.33580726242715053\n",
            "P-value: 0.0006786972859919378\n"
          ]
        }
      ]
    },
    {
      "cell_type": "markdown",
      "source": [
        "Small but statisticall significant correlation. Analysis developped in the paper."
      ],
      "metadata": {
        "id": "t3LWx32tF3pL"
      }
    }
  ],
  "metadata": {
    "colab": {
      "toc_visible": true,
      "provenance": [],
      "collapsed_sections": [
        "HQBBSZ3KylQO"
      ]
    },
    "kernelspec": {
      "display_name": "Python 3",
      "name": "python3"
    },
    "language_info": {
      "name": "python"
    },
    "widgets": {
      "application/vnd.jupyter.widget-state+json": {
        "a104746c4f6543b9a111333508c11364": {
          "model_module": "@jupyter-widgets/controls",
          "model_name": "HBoxModel",
          "model_module_version": "1.5.0",
          "state": {
            "_dom_classes": [],
            "_model_module": "@jupyter-widgets/controls",
            "_model_module_version": "1.5.0",
            "_model_name": "HBoxModel",
            "_view_count": null,
            "_view_module": "@jupyter-widgets/controls",
            "_view_module_version": "1.5.0",
            "_view_name": "HBoxView",
            "box_style": "",
            "children": [
              "IPY_MODEL_6569a87159ec4347bcd96e5602a4527d",
              "IPY_MODEL_69c3882098f4419c8ab689cc9947d6a5",
              "IPY_MODEL_2052c0b955de40e08ca83579807348dc"
            ],
            "layout": "IPY_MODEL_c2388df61f2e43beb54dbb9bbd1aa850"
          }
        },
        "6569a87159ec4347bcd96e5602a4527d": {
          "model_module": "@jupyter-widgets/controls",
          "model_name": "HTMLModel",
          "model_module_version": "1.5.0",
          "state": {
            "_dom_classes": [],
            "_model_module": "@jupyter-widgets/controls",
            "_model_module_version": "1.5.0",
            "_model_name": "HTMLModel",
            "_view_count": null,
            "_view_module": "@jupyter-widgets/controls",
            "_view_module_version": "1.5.0",
            "_view_name": "HTMLView",
            "description": "",
            "description_tooltip": null,
            "layout": "IPY_MODEL_52b8f63404cb4da9918a1b7d3a0da99c",
            "placeholder": "​",
            "style": "IPY_MODEL_d2deffe859b0430eb95d2b65caf73264",
            "value": "config.json: 100%"
          }
        },
        "69c3882098f4419c8ab689cc9947d6a5": {
          "model_module": "@jupyter-widgets/controls",
          "model_name": "FloatProgressModel",
          "model_module_version": "1.5.0",
          "state": {
            "_dom_classes": [],
            "_model_module": "@jupyter-widgets/controls",
            "_model_module_version": "1.5.0",
            "_model_name": "FloatProgressModel",
            "_view_count": null,
            "_view_module": "@jupyter-widgets/controls",
            "_view_module_version": "1.5.0",
            "_view_name": "ProgressView",
            "bar_style": "success",
            "description": "",
            "description_tooltip": null,
            "layout": "IPY_MODEL_82ac42c355c645ec825cc1e3f727925a",
            "max": 481,
            "min": 0,
            "orientation": "horizontal",
            "style": "IPY_MODEL_1b172e478ef54346aeeefc5c08413116",
            "value": 481
          }
        },
        "2052c0b955de40e08ca83579807348dc": {
          "model_module": "@jupyter-widgets/controls",
          "model_name": "HTMLModel",
          "model_module_version": "1.5.0",
          "state": {
            "_dom_classes": [],
            "_model_module": "@jupyter-widgets/controls",
            "_model_module_version": "1.5.0",
            "_model_name": "HTMLModel",
            "_view_count": null,
            "_view_module": "@jupyter-widgets/controls",
            "_view_module_version": "1.5.0",
            "_view_name": "HTMLView",
            "description": "",
            "description_tooltip": null,
            "layout": "IPY_MODEL_10ac9993e6684a318984262c1a6fe4e3",
            "placeholder": "​",
            "style": "IPY_MODEL_7efbf864960149e58460298188d3687e",
            "value": " 481/481 [00:00&lt;00:00, 4.12kB/s]"
          }
        },
        "c2388df61f2e43beb54dbb9bbd1aa850": {
          "model_module": "@jupyter-widgets/base",
          "model_name": "LayoutModel",
          "model_module_version": "1.2.0",
          "state": {
            "_model_module": "@jupyter-widgets/base",
            "_model_module_version": "1.2.0",
            "_model_name": "LayoutModel",
            "_view_count": null,
            "_view_module": "@jupyter-widgets/base",
            "_view_module_version": "1.2.0",
            "_view_name": "LayoutView",
            "align_content": null,
            "align_items": null,
            "align_self": null,
            "border": null,
            "bottom": null,
            "display": null,
            "flex": null,
            "flex_flow": null,
            "grid_area": null,
            "grid_auto_columns": null,
            "grid_auto_flow": null,
            "grid_auto_rows": null,
            "grid_column": null,
            "grid_gap": null,
            "grid_row": null,
            "grid_template_areas": null,
            "grid_template_columns": null,
            "grid_template_rows": null,
            "height": null,
            "justify_content": null,
            "justify_items": null,
            "left": null,
            "margin": null,
            "max_height": null,
            "max_width": null,
            "min_height": null,
            "min_width": null,
            "object_fit": null,
            "object_position": null,
            "order": null,
            "overflow": null,
            "overflow_x": null,
            "overflow_y": null,
            "padding": null,
            "right": null,
            "top": null,
            "visibility": null,
            "width": null
          }
        },
        "52b8f63404cb4da9918a1b7d3a0da99c": {
          "model_module": "@jupyter-widgets/base",
          "model_name": "LayoutModel",
          "model_module_version": "1.2.0",
          "state": {
            "_model_module": "@jupyter-widgets/base",
            "_model_module_version": "1.2.0",
            "_model_name": "LayoutModel",
            "_view_count": null,
            "_view_module": "@jupyter-widgets/base",
            "_view_module_version": "1.2.0",
            "_view_name": "LayoutView",
            "align_content": null,
            "align_items": null,
            "align_self": null,
            "border": null,
            "bottom": null,
            "display": null,
            "flex": null,
            "flex_flow": null,
            "grid_area": null,
            "grid_auto_columns": null,
            "grid_auto_flow": null,
            "grid_auto_rows": null,
            "grid_column": null,
            "grid_gap": null,
            "grid_row": null,
            "grid_template_areas": null,
            "grid_template_columns": null,
            "grid_template_rows": null,
            "height": null,
            "justify_content": null,
            "justify_items": null,
            "left": null,
            "margin": null,
            "max_height": null,
            "max_width": null,
            "min_height": null,
            "min_width": null,
            "object_fit": null,
            "object_position": null,
            "order": null,
            "overflow": null,
            "overflow_x": null,
            "overflow_y": null,
            "padding": null,
            "right": null,
            "top": null,
            "visibility": null,
            "width": null
          }
        },
        "d2deffe859b0430eb95d2b65caf73264": {
          "model_module": "@jupyter-widgets/controls",
          "model_name": "DescriptionStyleModel",
          "model_module_version": "1.5.0",
          "state": {
            "_model_module": "@jupyter-widgets/controls",
            "_model_module_version": "1.5.0",
            "_model_name": "DescriptionStyleModel",
            "_view_count": null,
            "_view_module": "@jupyter-widgets/base",
            "_view_module_version": "1.2.0",
            "_view_name": "StyleView",
            "description_width": ""
          }
        },
        "82ac42c355c645ec825cc1e3f727925a": {
          "model_module": "@jupyter-widgets/base",
          "model_name": "LayoutModel",
          "model_module_version": "1.2.0",
          "state": {
            "_model_module": "@jupyter-widgets/base",
            "_model_module_version": "1.2.0",
            "_model_name": "LayoutModel",
            "_view_count": null,
            "_view_module": "@jupyter-widgets/base",
            "_view_module_version": "1.2.0",
            "_view_name": "LayoutView",
            "align_content": null,
            "align_items": null,
            "align_self": null,
            "border": null,
            "bottom": null,
            "display": null,
            "flex": null,
            "flex_flow": null,
            "grid_area": null,
            "grid_auto_columns": null,
            "grid_auto_flow": null,
            "grid_auto_rows": null,
            "grid_column": null,
            "grid_gap": null,
            "grid_row": null,
            "grid_template_areas": null,
            "grid_template_columns": null,
            "grid_template_rows": null,
            "height": null,
            "justify_content": null,
            "justify_items": null,
            "left": null,
            "margin": null,
            "max_height": null,
            "max_width": null,
            "min_height": null,
            "min_width": null,
            "object_fit": null,
            "object_position": null,
            "order": null,
            "overflow": null,
            "overflow_x": null,
            "overflow_y": null,
            "padding": null,
            "right": null,
            "top": null,
            "visibility": null,
            "width": null
          }
        },
        "1b172e478ef54346aeeefc5c08413116": {
          "model_module": "@jupyter-widgets/controls",
          "model_name": "ProgressStyleModel",
          "model_module_version": "1.5.0",
          "state": {
            "_model_module": "@jupyter-widgets/controls",
            "_model_module_version": "1.5.0",
            "_model_name": "ProgressStyleModel",
            "_view_count": null,
            "_view_module": "@jupyter-widgets/base",
            "_view_module_version": "1.2.0",
            "_view_name": "StyleView",
            "bar_color": null,
            "description_width": ""
          }
        },
        "10ac9993e6684a318984262c1a6fe4e3": {
          "model_module": "@jupyter-widgets/base",
          "model_name": "LayoutModel",
          "model_module_version": "1.2.0",
          "state": {
            "_model_module": "@jupyter-widgets/base",
            "_model_module_version": "1.2.0",
            "_model_name": "LayoutModel",
            "_view_count": null,
            "_view_module": "@jupyter-widgets/base",
            "_view_module_version": "1.2.0",
            "_view_name": "LayoutView",
            "align_content": null,
            "align_items": null,
            "align_self": null,
            "border": null,
            "bottom": null,
            "display": null,
            "flex": null,
            "flex_flow": null,
            "grid_area": null,
            "grid_auto_columns": null,
            "grid_auto_flow": null,
            "grid_auto_rows": null,
            "grid_column": null,
            "grid_gap": null,
            "grid_row": null,
            "grid_template_areas": null,
            "grid_template_columns": null,
            "grid_template_rows": null,
            "height": null,
            "justify_content": null,
            "justify_items": null,
            "left": null,
            "margin": null,
            "max_height": null,
            "max_width": null,
            "min_height": null,
            "min_width": null,
            "object_fit": null,
            "object_position": null,
            "order": null,
            "overflow": null,
            "overflow_x": null,
            "overflow_y": null,
            "padding": null,
            "right": null,
            "top": null,
            "visibility": null,
            "width": null
          }
        },
        "7efbf864960149e58460298188d3687e": {
          "model_module": "@jupyter-widgets/controls",
          "model_name": "DescriptionStyleModel",
          "model_module_version": "1.5.0",
          "state": {
            "_model_module": "@jupyter-widgets/controls",
            "_model_module_version": "1.5.0",
            "_model_name": "DescriptionStyleModel",
            "_view_count": null,
            "_view_module": "@jupyter-widgets/base",
            "_view_module_version": "1.2.0",
            "_view_name": "StyleView",
            "description_width": ""
          }
        },
        "1175eee55d09488aa4358539a3dd37ec": {
          "model_module": "@jupyter-widgets/controls",
          "model_name": "HBoxModel",
          "model_module_version": "1.5.0",
          "state": {
            "_dom_classes": [],
            "_model_module": "@jupyter-widgets/controls",
            "_model_module_version": "1.5.0",
            "_model_name": "HBoxModel",
            "_view_count": null,
            "_view_module": "@jupyter-widgets/controls",
            "_view_module_version": "1.5.0",
            "_view_name": "HBoxView",
            "box_style": "",
            "children": [
              "IPY_MODEL_eac4d5e90050432bb9c1a0ef2b34dc1a",
              "IPY_MODEL_8fb5bc83b4924143be377350920939dd",
              "IPY_MODEL_9ad5e91b84ec4d7fb7b8aa0bde325aa2"
            ],
            "layout": "IPY_MODEL_0c686dc2fd334dc296f5509b7291519b"
          }
        },
        "eac4d5e90050432bb9c1a0ef2b34dc1a": {
          "model_module": "@jupyter-widgets/controls",
          "model_name": "HTMLModel",
          "model_module_version": "1.5.0",
          "state": {
            "_dom_classes": [],
            "_model_module": "@jupyter-widgets/controls",
            "_model_module_version": "1.5.0",
            "_model_name": "HTMLModel",
            "_view_count": null,
            "_view_module": "@jupyter-widgets/controls",
            "_view_module_version": "1.5.0",
            "_view_name": "HTMLView",
            "description": "",
            "description_tooltip": null,
            "layout": "IPY_MODEL_cf7509552dd9408084a624b4ec43ced9",
            "placeholder": "​",
            "style": "IPY_MODEL_1cf64cf57d5641bb9abcaf8aafce148e",
            "value": "model.safetensors: 100%"
          }
        },
        "8fb5bc83b4924143be377350920939dd": {
          "model_module": "@jupyter-widgets/controls",
          "model_name": "FloatProgressModel",
          "model_module_version": "1.5.0",
          "state": {
            "_dom_classes": [],
            "_model_module": "@jupyter-widgets/controls",
            "_model_module_version": "1.5.0",
            "_model_name": "FloatProgressModel",
            "_view_count": null,
            "_view_module": "@jupyter-widgets/controls",
            "_view_module_version": "1.5.0",
            "_view_name": "ProgressView",
            "bar_style": "success",
            "description": "",
            "description_tooltip": null,
            "layout": "IPY_MODEL_40bc8d0cb3e644238b70431739d5252b",
            "max": 498818054,
            "min": 0,
            "orientation": "horizontal",
            "style": "IPY_MODEL_002ddc74adc14bc8a56ebdf43bef5ebd",
            "value": 498818054
          }
        },
        "9ad5e91b84ec4d7fb7b8aa0bde325aa2": {
          "model_module": "@jupyter-widgets/controls",
          "model_name": "HTMLModel",
          "model_module_version": "1.5.0",
          "state": {
            "_dom_classes": [],
            "_model_module": "@jupyter-widgets/controls",
            "_model_module_version": "1.5.0",
            "_model_name": "HTMLModel",
            "_view_count": null,
            "_view_module": "@jupyter-widgets/controls",
            "_view_module_version": "1.5.0",
            "_view_name": "HTMLView",
            "description": "",
            "description_tooltip": null,
            "layout": "IPY_MODEL_9c978004f41d4fe99e2efa930f1c3c52",
            "placeholder": "​",
            "style": "IPY_MODEL_668edee5f52c406282aa0252804d48a3",
            "value": " 499M/499M [00:05&lt;00:00, 96.2MB/s]"
          }
        },
        "0c686dc2fd334dc296f5509b7291519b": {
          "model_module": "@jupyter-widgets/base",
          "model_name": "LayoutModel",
          "model_module_version": "1.2.0",
          "state": {
            "_model_module": "@jupyter-widgets/base",
            "_model_module_version": "1.2.0",
            "_model_name": "LayoutModel",
            "_view_count": null,
            "_view_module": "@jupyter-widgets/base",
            "_view_module_version": "1.2.0",
            "_view_name": "LayoutView",
            "align_content": null,
            "align_items": null,
            "align_self": null,
            "border": null,
            "bottom": null,
            "display": null,
            "flex": null,
            "flex_flow": null,
            "grid_area": null,
            "grid_auto_columns": null,
            "grid_auto_flow": null,
            "grid_auto_rows": null,
            "grid_column": null,
            "grid_gap": null,
            "grid_row": null,
            "grid_template_areas": null,
            "grid_template_columns": null,
            "grid_template_rows": null,
            "height": null,
            "justify_content": null,
            "justify_items": null,
            "left": null,
            "margin": null,
            "max_height": null,
            "max_width": null,
            "min_height": null,
            "min_width": null,
            "object_fit": null,
            "object_position": null,
            "order": null,
            "overflow": null,
            "overflow_x": null,
            "overflow_y": null,
            "padding": null,
            "right": null,
            "top": null,
            "visibility": null,
            "width": null
          }
        },
        "cf7509552dd9408084a624b4ec43ced9": {
          "model_module": "@jupyter-widgets/base",
          "model_name": "LayoutModel",
          "model_module_version": "1.2.0",
          "state": {
            "_model_module": "@jupyter-widgets/base",
            "_model_module_version": "1.2.0",
            "_model_name": "LayoutModel",
            "_view_count": null,
            "_view_module": "@jupyter-widgets/base",
            "_view_module_version": "1.2.0",
            "_view_name": "LayoutView",
            "align_content": null,
            "align_items": null,
            "align_self": null,
            "border": null,
            "bottom": null,
            "display": null,
            "flex": null,
            "flex_flow": null,
            "grid_area": null,
            "grid_auto_columns": null,
            "grid_auto_flow": null,
            "grid_auto_rows": null,
            "grid_column": null,
            "grid_gap": null,
            "grid_row": null,
            "grid_template_areas": null,
            "grid_template_columns": null,
            "grid_template_rows": null,
            "height": null,
            "justify_content": null,
            "justify_items": null,
            "left": null,
            "margin": null,
            "max_height": null,
            "max_width": null,
            "min_height": null,
            "min_width": null,
            "object_fit": null,
            "object_position": null,
            "order": null,
            "overflow": null,
            "overflow_x": null,
            "overflow_y": null,
            "padding": null,
            "right": null,
            "top": null,
            "visibility": null,
            "width": null
          }
        },
        "1cf64cf57d5641bb9abcaf8aafce148e": {
          "model_module": "@jupyter-widgets/controls",
          "model_name": "DescriptionStyleModel",
          "model_module_version": "1.5.0",
          "state": {
            "_model_module": "@jupyter-widgets/controls",
            "_model_module_version": "1.5.0",
            "_model_name": "DescriptionStyleModel",
            "_view_count": null,
            "_view_module": "@jupyter-widgets/base",
            "_view_module_version": "1.2.0",
            "_view_name": "StyleView",
            "description_width": ""
          }
        },
        "40bc8d0cb3e644238b70431739d5252b": {
          "model_module": "@jupyter-widgets/base",
          "model_name": "LayoutModel",
          "model_module_version": "1.2.0",
          "state": {
            "_model_module": "@jupyter-widgets/base",
            "_model_module_version": "1.2.0",
            "_model_name": "LayoutModel",
            "_view_count": null,
            "_view_module": "@jupyter-widgets/base",
            "_view_module_version": "1.2.0",
            "_view_name": "LayoutView",
            "align_content": null,
            "align_items": null,
            "align_self": null,
            "border": null,
            "bottom": null,
            "display": null,
            "flex": null,
            "flex_flow": null,
            "grid_area": null,
            "grid_auto_columns": null,
            "grid_auto_flow": null,
            "grid_auto_rows": null,
            "grid_column": null,
            "grid_gap": null,
            "grid_row": null,
            "grid_template_areas": null,
            "grid_template_columns": null,
            "grid_template_rows": null,
            "height": null,
            "justify_content": null,
            "justify_items": null,
            "left": null,
            "margin": null,
            "max_height": null,
            "max_width": null,
            "min_height": null,
            "min_width": null,
            "object_fit": null,
            "object_position": null,
            "order": null,
            "overflow": null,
            "overflow_x": null,
            "overflow_y": null,
            "padding": null,
            "right": null,
            "top": null,
            "visibility": null,
            "width": null
          }
        },
        "002ddc74adc14bc8a56ebdf43bef5ebd": {
          "model_module": "@jupyter-widgets/controls",
          "model_name": "ProgressStyleModel",
          "model_module_version": "1.5.0",
          "state": {
            "_model_module": "@jupyter-widgets/controls",
            "_model_module_version": "1.5.0",
            "_model_name": "ProgressStyleModel",
            "_view_count": null,
            "_view_module": "@jupyter-widgets/base",
            "_view_module_version": "1.2.0",
            "_view_name": "StyleView",
            "bar_color": null,
            "description_width": ""
          }
        },
        "9c978004f41d4fe99e2efa930f1c3c52": {
          "model_module": "@jupyter-widgets/base",
          "model_name": "LayoutModel",
          "model_module_version": "1.2.0",
          "state": {
            "_model_module": "@jupyter-widgets/base",
            "_model_module_version": "1.2.0",
            "_model_name": "LayoutModel",
            "_view_count": null,
            "_view_module": "@jupyter-widgets/base",
            "_view_module_version": "1.2.0",
            "_view_name": "LayoutView",
            "align_content": null,
            "align_items": null,
            "align_self": null,
            "border": null,
            "bottom": null,
            "display": null,
            "flex": null,
            "flex_flow": null,
            "grid_area": null,
            "grid_auto_columns": null,
            "grid_auto_flow": null,
            "grid_auto_rows": null,
            "grid_column": null,
            "grid_gap": null,
            "grid_row": null,
            "grid_template_areas": null,
            "grid_template_columns": null,
            "grid_template_rows": null,
            "height": null,
            "justify_content": null,
            "justify_items": null,
            "left": null,
            "margin": null,
            "max_height": null,
            "max_width": null,
            "min_height": null,
            "min_width": null,
            "object_fit": null,
            "object_position": null,
            "order": null,
            "overflow": null,
            "overflow_x": null,
            "overflow_y": null,
            "padding": null,
            "right": null,
            "top": null,
            "visibility": null,
            "width": null
          }
        },
        "668edee5f52c406282aa0252804d48a3": {
          "model_module": "@jupyter-widgets/controls",
          "model_name": "DescriptionStyleModel",
          "model_module_version": "1.5.0",
          "state": {
            "_model_module": "@jupyter-widgets/controls",
            "_model_module_version": "1.5.0",
            "_model_name": "DescriptionStyleModel",
            "_view_count": null,
            "_view_module": "@jupyter-widgets/base",
            "_view_module_version": "1.2.0",
            "_view_name": "StyleView",
            "description_width": ""
          }
        },
        "7935bfd59dd348f5b71e0511dcf179ec": {
          "model_module": "@jupyter-widgets/controls",
          "model_name": "HBoxModel",
          "model_module_version": "1.5.0",
          "state": {
            "_dom_classes": [],
            "_model_module": "@jupyter-widgets/controls",
            "_model_module_version": "1.5.0",
            "_model_name": "HBoxModel",
            "_view_count": null,
            "_view_module": "@jupyter-widgets/controls",
            "_view_module_version": "1.5.0",
            "_view_name": "HBoxView",
            "box_style": "",
            "children": [
              "IPY_MODEL_10af0dbd7e164965aeb7cb261bc3989a",
              "IPY_MODEL_55130941beb4436ba53f00ca2c248596",
              "IPY_MODEL_5e84c452fec1405792a6247e188435b8"
            ],
            "layout": "IPY_MODEL_d72522833d544c2e8790532a4fd51c84"
          }
        },
        "10af0dbd7e164965aeb7cb261bc3989a": {
          "model_module": "@jupyter-widgets/controls",
          "model_name": "HTMLModel",
          "model_module_version": "1.5.0",
          "state": {
            "_dom_classes": [],
            "_model_module": "@jupyter-widgets/controls",
            "_model_module_version": "1.5.0",
            "_model_name": "HTMLModel",
            "_view_count": null,
            "_view_module": "@jupyter-widgets/controls",
            "_view_module_version": "1.5.0",
            "_view_name": "HTMLView",
            "description": "",
            "description_tooltip": null,
            "layout": "IPY_MODEL_82cb23aac05144e596e88f27b85b326d",
            "placeholder": "​",
            "style": "IPY_MODEL_9afa062eee564267a76a281ddbcfc80f",
            "value": "tokenizer_config.json: 100%"
          }
        },
        "55130941beb4436ba53f00ca2c248596": {
          "model_module": "@jupyter-widgets/controls",
          "model_name": "FloatProgressModel",
          "model_module_version": "1.5.0",
          "state": {
            "_dom_classes": [],
            "_model_module": "@jupyter-widgets/controls",
            "_model_module_version": "1.5.0",
            "_model_name": "FloatProgressModel",
            "_view_count": null,
            "_view_module": "@jupyter-widgets/controls",
            "_view_module_version": "1.5.0",
            "_view_name": "ProgressView",
            "bar_style": "success",
            "description": "",
            "description_tooltip": null,
            "layout": "IPY_MODEL_a71ce3992df142f89a6c88f88d685a09",
            "max": 25,
            "min": 0,
            "orientation": "horizontal",
            "style": "IPY_MODEL_40fedce09f944c1bb48d01449bdf4d2b",
            "value": 25
          }
        },
        "5e84c452fec1405792a6247e188435b8": {
          "model_module": "@jupyter-widgets/controls",
          "model_name": "HTMLModel",
          "model_module_version": "1.5.0",
          "state": {
            "_dom_classes": [],
            "_model_module": "@jupyter-widgets/controls",
            "_model_module_version": "1.5.0",
            "_model_name": "HTMLModel",
            "_view_count": null,
            "_view_module": "@jupyter-widgets/controls",
            "_view_module_version": "1.5.0",
            "_view_name": "HTMLView",
            "description": "",
            "description_tooltip": null,
            "layout": "IPY_MODEL_1828875f6e6f40dda8c43f815ca4e268",
            "placeholder": "​",
            "style": "IPY_MODEL_c746b8fb16e14599a2a128c14e73fdf7",
            "value": " 25.0/25.0 [00:00&lt;00:00, 496B/s]"
          }
        },
        "d72522833d544c2e8790532a4fd51c84": {
          "model_module": "@jupyter-widgets/base",
          "model_name": "LayoutModel",
          "model_module_version": "1.2.0",
          "state": {
            "_model_module": "@jupyter-widgets/base",
            "_model_module_version": "1.2.0",
            "_model_name": "LayoutModel",
            "_view_count": null,
            "_view_module": "@jupyter-widgets/base",
            "_view_module_version": "1.2.0",
            "_view_name": "LayoutView",
            "align_content": null,
            "align_items": null,
            "align_self": null,
            "border": null,
            "bottom": null,
            "display": null,
            "flex": null,
            "flex_flow": null,
            "grid_area": null,
            "grid_auto_columns": null,
            "grid_auto_flow": null,
            "grid_auto_rows": null,
            "grid_column": null,
            "grid_gap": null,
            "grid_row": null,
            "grid_template_areas": null,
            "grid_template_columns": null,
            "grid_template_rows": null,
            "height": null,
            "justify_content": null,
            "justify_items": null,
            "left": null,
            "margin": null,
            "max_height": null,
            "max_width": null,
            "min_height": null,
            "min_width": null,
            "object_fit": null,
            "object_position": null,
            "order": null,
            "overflow": null,
            "overflow_x": null,
            "overflow_y": null,
            "padding": null,
            "right": null,
            "top": null,
            "visibility": null,
            "width": null
          }
        },
        "82cb23aac05144e596e88f27b85b326d": {
          "model_module": "@jupyter-widgets/base",
          "model_name": "LayoutModel",
          "model_module_version": "1.2.0",
          "state": {
            "_model_module": "@jupyter-widgets/base",
            "_model_module_version": "1.2.0",
            "_model_name": "LayoutModel",
            "_view_count": null,
            "_view_module": "@jupyter-widgets/base",
            "_view_module_version": "1.2.0",
            "_view_name": "LayoutView",
            "align_content": null,
            "align_items": null,
            "align_self": null,
            "border": null,
            "bottom": null,
            "display": null,
            "flex": null,
            "flex_flow": null,
            "grid_area": null,
            "grid_auto_columns": null,
            "grid_auto_flow": null,
            "grid_auto_rows": null,
            "grid_column": null,
            "grid_gap": null,
            "grid_row": null,
            "grid_template_areas": null,
            "grid_template_columns": null,
            "grid_template_rows": null,
            "height": null,
            "justify_content": null,
            "justify_items": null,
            "left": null,
            "margin": null,
            "max_height": null,
            "max_width": null,
            "min_height": null,
            "min_width": null,
            "object_fit": null,
            "object_position": null,
            "order": null,
            "overflow": null,
            "overflow_x": null,
            "overflow_y": null,
            "padding": null,
            "right": null,
            "top": null,
            "visibility": null,
            "width": null
          }
        },
        "9afa062eee564267a76a281ddbcfc80f": {
          "model_module": "@jupyter-widgets/controls",
          "model_name": "DescriptionStyleModel",
          "model_module_version": "1.5.0",
          "state": {
            "_model_module": "@jupyter-widgets/controls",
            "_model_module_version": "1.5.0",
            "_model_name": "DescriptionStyleModel",
            "_view_count": null,
            "_view_module": "@jupyter-widgets/base",
            "_view_module_version": "1.2.0",
            "_view_name": "StyleView",
            "description_width": ""
          }
        },
        "a71ce3992df142f89a6c88f88d685a09": {
          "model_module": "@jupyter-widgets/base",
          "model_name": "LayoutModel",
          "model_module_version": "1.2.0",
          "state": {
            "_model_module": "@jupyter-widgets/base",
            "_model_module_version": "1.2.0",
            "_model_name": "LayoutModel",
            "_view_count": null,
            "_view_module": "@jupyter-widgets/base",
            "_view_module_version": "1.2.0",
            "_view_name": "LayoutView",
            "align_content": null,
            "align_items": null,
            "align_self": null,
            "border": null,
            "bottom": null,
            "display": null,
            "flex": null,
            "flex_flow": null,
            "grid_area": null,
            "grid_auto_columns": null,
            "grid_auto_flow": null,
            "grid_auto_rows": null,
            "grid_column": null,
            "grid_gap": null,
            "grid_row": null,
            "grid_template_areas": null,
            "grid_template_columns": null,
            "grid_template_rows": null,
            "height": null,
            "justify_content": null,
            "justify_items": null,
            "left": null,
            "margin": null,
            "max_height": null,
            "max_width": null,
            "min_height": null,
            "min_width": null,
            "object_fit": null,
            "object_position": null,
            "order": null,
            "overflow": null,
            "overflow_x": null,
            "overflow_y": null,
            "padding": null,
            "right": null,
            "top": null,
            "visibility": null,
            "width": null
          }
        },
        "40fedce09f944c1bb48d01449bdf4d2b": {
          "model_module": "@jupyter-widgets/controls",
          "model_name": "ProgressStyleModel",
          "model_module_version": "1.5.0",
          "state": {
            "_model_module": "@jupyter-widgets/controls",
            "_model_module_version": "1.5.0",
            "_model_name": "ProgressStyleModel",
            "_view_count": null,
            "_view_module": "@jupyter-widgets/base",
            "_view_module_version": "1.2.0",
            "_view_name": "StyleView",
            "bar_color": null,
            "description_width": ""
          }
        },
        "1828875f6e6f40dda8c43f815ca4e268": {
          "model_module": "@jupyter-widgets/base",
          "model_name": "LayoutModel",
          "model_module_version": "1.2.0",
          "state": {
            "_model_module": "@jupyter-widgets/base",
            "_model_module_version": "1.2.0",
            "_model_name": "LayoutModel",
            "_view_count": null,
            "_view_module": "@jupyter-widgets/base",
            "_view_module_version": "1.2.0",
            "_view_name": "LayoutView",
            "align_content": null,
            "align_items": null,
            "align_self": null,
            "border": null,
            "bottom": null,
            "display": null,
            "flex": null,
            "flex_flow": null,
            "grid_area": null,
            "grid_auto_columns": null,
            "grid_auto_flow": null,
            "grid_auto_rows": null,
            "grid_column": null,
            "grid_gap": null,
            "grid_row": null,
            "grid_template_areas": null,
            "grid_template_columns": null,
            "grid_template_rows": null,
            "height": null,
            "justify_content": null,
            "justify_items": null,
            "left": null,
            "margin": null,
            "max_height": null,
            "max_width": null,
            "min_height": null,
            "min_width": null,
            "object_fit": null,
            "object_position": null,
            "order": null,
            "overflow": null,
            "overflow_x": null,
            "overflow_y": null,
            "padding": null,
            "right": null,
            "top": null,
            "visibility": null,
            "width": null
          }
        },
        "c746b8fb16e14599a2a128c14e73fdf7": {
          "model_module": "@jupyter-widgets/controls",
          "model_name": "DescriptionStyleModel",
          "model_module_version": "1.5.0",
          "state": {
            "_model_module": "@jupyter-widgets/controls",
            "_model_module_version": "1.5.0",
            "_model_name": "DescriptionStyleModel",
            "_view_count": null,
            "_view_module": "@jupyter-widgets/base",
            "_view_module_version": "1.2.0",
            "_view_name": "StyleView",
            "description_width": ""
          }
        },
        "64153121b4f0403f80c12b5282fc59d4": {
          "model_module": "@jupyter-widgets/controls",
          "model_name": "HBoxModel",
          "model_module_version": "1.5.0",
          "state": {
            "_dom_classes": [],
            "_model_module": "@jupyter-widgets/controls",
            "_model_module_version": "1.5.0",
            "_model_name": "HBoxModel",
            "_view_count": null,
            "_view_module": "@jupyter-widgets/controls",
            "_view_module_version": "1.5.0",
            "_view_name": "HBoxView",
            "box_style": "",
            "children": [
              "IPY_MODEL_b5ba2d6b38f845cd90668f754e7d6c9c",
              "IPY_MODEL_ef0bdd6afbad425b93d602a145c8c956",
              "IPY_MODEL_08a725eb9d1842c4b6c510c9f78489d2"
            ],
            "layout": "IPY_MODEL_ae5e11ce9a8a4d738a6b4b0e8c75b589"
          }
        },
        "b5ba2d6b38f845cd90668f754e7d6c9c": {
          "model_module": "@jupyter-widgets/controls",
          "model_name": "HTMLModel",
          "model_module_version": "1.5.0",
          "state": {
            "_dom_classes": [],
            "_model_module": "@jupyter-widgets/controls",
            "_model_module_version": "1.5.0",
            "_model_name": "HTMLModel",
            "_view_count": null,
            "_view_module": "@jupyter-widgets/controls",
            "_view_module_version": "1.5.0",
            "_view_name": "HTMLView",
            "description": "",
            "description_tooltip": null,
            "layout": "IPY_MODEL_942e33066d184c568fed770289f78bb3",
            "placeholder": "​",
            "style": "IPY_MODEL_e329b76b4e334bb093bd50ba69df684f",
            "value": "vocab.json: 100%"
          }
        },
        "ef0bdd6afbad425b93d602a145c8c956": {
          "model_module": "@jupyter-widgets/controls",
          "model_name": "FloatProgressModel",
          "model_module_version": "1.5.0",
          "state": {
            "_dom_classes": [],
            "_model_module": "@jupyter-widgets/controls",
            "_model_module_version": "1.5.0",
            "_model_name": "FloatProgressModel",
            "_view_count": null,
            "_view_module": "@jupyter-widgets/controls",
            "_view_module_version": "1.5.0",
            "_view_name": "ProgressView",
            "bar_style": "success",
            "description": "",
            "description_tooltip": null,
            "layout": "IPY_MODEL_fbbc96b024a347b7bde618b425a478fd",
            "max": 898823,
            "min": 0,
            "orientation": "horizontal",
            "style": "IPY_MODEL_609481668e74486a9fc81989b71784ed",
            "value": 898823
          }
        },
        "08a725eb9d1842c4b6c510c9f78489d2": {
          "model_module": "@jupyter-widgets/controls",
          "model_name": "HTMLModel",
          "model_module_version": "1.5.0",
          "state": {
            "_dom_classes": [],
            "_model_module": "@jupyter-widgets/controls",
            "_model_module_version": "1.5.0",
            "_model_name": "HTMLModel",
            "_view_count": null,
            "_view_module": "@jupyter-widgets/controls",
            "_view_module_version": "1.5.0",
            "_view_name": "HTMLView",
            "description": "",
            "description_tooltip": null,
            "layout": "IPY_MODEL_c7a5a0fb0caf4d5ca643108218897d10",
            "placeholder": "​",
            "style": "IPY_MODEL_5c749331e65f4d568434df64c132d355",
            "value": " 899k/899k [00:00&lt;00:00, 3.52MB/s]"
          }
        },
        "ae5e11ce9a8a4d738a6b4b0e8c75b589": {
          "model_module": "@jupyter-widgets/base",
          "model_name": "LayoutModel",
          "model_module_version": "1.2.0",
          "state": {
            "_model_module": "@jupyter-widgets/base",
            "_model_module_version": "1.2.0",
            "_model_name": "LayoutModel",
            "_view_count": null,
            "_view_module": "@jupyter-widgets/base",
            "_view_module_version": "1.2.0",
            "_view_name": "LayoutView",
            "align_content": null,
            "align_items": null,
            "align_self": null,
            "border": null,
            "bottom": null,
            "display": null,
            "flex": null,
            "flex_flow": null,
            "grid_area": null,
            "grid_auto_columns": null,
            "grid_auto_flow": null,
            "grid_auto_rows": null,
            "grid_column": null,
            "grid_gap": null,
            "grid_row": null,
            "grid_template_areas": null,
            "grid_template_columns": null,
            "grid_template_rows": null,
            "height": null,
            "justify_content": null,
            "justify_items": null,
            "left": null,
            "margin": null,
            "max_height": null,
            "max_width": null,
            "min_height": null,
            "min_width": null,
            "object_fit": null,
            "object_position": null,
            "order": null,
            "overflow": null,
            "overflow_x": null,
            "overflow_y": null,
            "padding": null,
            "right": null,
            "top": null,
            "visibility": null,
            "width": null
          }
        },
        "942e33066d184c568fed770289f78bb3": {
          "model_module": "@jupyter-widgets/base",
          "model_name": "LayoutModel",
          "model_module_version": "1.2.0",
          "state": {
            "_model_module": "@jupyter-widgets/base",
            "_model_module_version": "1.2.0",
            "_model_name": "LayoutModel",
            "_view_count": null,
            "_view_module": "@jupyter-widgets/base",
            "_view_module_version": "1.2.0",
            "_view_name": "LayoutView",
            "align_content": null,
            "align_items": null,
            "align_self": null,
            "border": null,
            "bottom": null,
            "display": null,
            "flex": null,
            "flex_flow": null,
            "grid_area": null,
            "grid_auto_columns": null,
            "grid_auto_flow": null,
            "grid_auto_rows": null,
            "grid_column": null,
            "grid_gap": null,
            "grid_row": null,
            "grid_template_areas": null,
            "grid_template_columns": null,
            "grid_template_rows": null,
            "height": null,
            "justify_content": null,
            "justify_items": null,
            "left": null,
            "margin": null,
            "max_height": null,
            "max_width": null,
            "min_height": null,
            "min_width": null,
            "object_fit": null,
            "object_position": null,
            "order": null,
            "overflow": null,
            "overflow_x": null,
            "overflow_y": null,
            "padding": null,
            "right": null,
            "top": null,
            "visibility": null,
            "width": null
          }
        },
        "e329b76b4e334bb093bd50ba69df684f": {
          "model_module": "@jupyter-widgets/controls",
          "model_name": "DescriptionStyleModel",
          "model_module_version": "1.5.0",
          "state": {
            "_model_module": "@jupyter-widgets/controls",
            "_model_module_version": "1.5.0",
            "_model_name": "DescriptionStyleModel",
            "_view_count": null,
            "_view_module": "@jupyter-widgets/base",
            "_view_module_version": "1.2.0",
            "_view_name": "StyleView",
            "description_width": ""
          }
        },
        "fbbc96b024a347b7bde618b425a478fd": {
          "model_module": "@jupyter-widgets/base",
          "model_name": "LayoutModel",
          "model_module_version": "1.2.0",
          "state": {
            "_model_module": "@jupyter-widgets/base",
            "_model_module_version": "1.2.0",
            "_model_name": "LayoutModel",
            "_view_count": null,
            "_view_module": "@jupyter-widgets/base",
            "_view_module_version": "1.2.0",
            "_view_name": "LayoutView",
            "align_content": null,
            "align_items": null,
            "align_self": null,
            "border": null,
            "bottom": null,
            "display": null,
            "flex": null,
            "flex_flow": null,
            "grid_area": null,
            "grid_auto_columns": null,
            "grid_auto_flow": null,
            "grid_auto_rows": null,
            "grid_column": null,
            "grid_gap": null,
            "grid_row": null,
            "grid_template_areas": null,
            "grid_template_columns": null,
            "grid_template_rows": null,
            "height": null,
            "justify_content": null,
            "justify_items": null,
            "left": null,
            "margin": null,
            "max_height": null,
            "max_width": null,
            "min_height": null,
            "min_width": null,
            "object_fit": null,
            "object_position": null,
            "order": null,
            "overflow": null,
            "overflow_x": null,
            "overflow_y": null,
            "padding": null,
            "right": null,
            "top": null,
            "visibility": null,
            "width": null
          }
        },
        "609481668e74486a9fc81989b71784ed": {
          "model_module": "@jupyter-widgets/controls",
          "model_name": "ProgressStyleModel",
          "model_module_version": "1.5.0",
          "state": {
            "_model_module": "@jupyter-widgets/controls",
            "_model_module_version": "1.5.0",
            "_model_name": "ProgressStyleModel",
            "_view_count": null,
            "_view_module": "@jupyter-widgets/base",
            "_view_module_version": "1.2.0",
            "_view_name": "StyleView",
            "bar_color": null,
            "description_width": ""
          }
        },
        "c7a5a0fb0caf4d5ca643108218897d10": {
          "model_module": "@jupyter-widgets/base",
          "model_name": "LayoutModel",
          "model_module_version": "1.2.0",
          "state": {
            "_model_module": "@jupyter-widgets/base",
            "_model_module_version": "1.2.0",
            "_model_name": "LayoutModel",
            "_view_count": null,
            "_view_module": "@jupyter-widgets/base",
            "_view_module_version": "1.2.0",
            "_view_name": "LayoutView",
            "align_content": null,
            "align_items": null,
            "align_self": null,
            "border": null,
            "bottom": null,
            "display": null,
            "flex": null,
            "flex_flow": null,
            "grid_area": null,
            "grid_auto_columns": null,
            "grid_auto_flow": null,
            "grid_auto_rows": null,
            "grid_column": null,
            "grid_gap": null,
            "grid_row": null,
            "grid_template_areas": null,
            "grid_template_columns": null,
            "grid_template_rows": null,
            "height": null,
            "justify_content": null,
            "justify_items": null,
            "left": null,
            "margin": null,
            "max_height": null,
            "max_width": null,
            "min_height": null,
            "min_width": null,
            "object_fit": null,
            "object_position": null,
            "order": null,
            "overflow": null,
            "overflow_x": null,
            "overflow_y": null,
            "padding": null,
            "right": null,
            "top": null,
            "visibility": null,
            "width": null
          }
        },
        "5c749331e65f4d568434df64c132d355": {
          "model_module": "@jupyter-widgets/controls",
          "model_name": "DescriptionStyleModel",
          "model_module_version": "1.5.0",
          "state": {
            "_model_module": "@jupyter-widgets/controls",
            "_model_module_version": "1.5.0",
            "_model_name": "DescriptionStyleModel",
            "_view_count": null,
            "_view_module": "@jupyter-widgets/base",
            "_view_module_version": "1.2.0",
            "_view_name": "StyleView",
            "description_width": ""
          }
        },
        "ce1277af2dce46568588e7937a2be8df": {
          "model_module": "@jupyter-widgets/controls",
          "model_name": "HBoxModel",
          "model_module_version": "1.5.0",
          "state": {
            "_dom_classes": [],
            "_model_module": "@jupyter-widgets/controls",
            "_model_module_version": "1.5.0",
            "_model_name": "HBoxModel",
            "_view_count": null,
            "_view_module": "@jupyter-widgets/controls",
            "_view_module_version": "1.5.0",
            "_view_name": "HBoxView",
            "box_style": "",
            "children": [
              "IPY_MODEL_3a89a7aa62a74498b2db19ad27d280e0",
              "IPY_MODEL_bb0b8001fbe84ca7bebcd99ab715e499",
              "IPY_MODEL_f3a6908abea6494e836b363a0ec7323a"
            ],
            "layout": "IPY_MODEL_0e5771d4020741318d1c833f469ac3d3"
          }
        },
        "3a89a7aa62a74498b2db19ad27d280e0": {
          "model_module": "@jupyter-widgets/controls",
          "model_name": "HTMLModel",
          "model_module_version": "1.5.0",
          "state": {
            "_dom_classes": [],
            "_model_module": "@jupyter-widgets/controls",
            "_model_module_version": "1.5.0",
            "_model_name": "HTMLModel",
            "_view_count": null,
            "_view_module": "@jupyter-widgets/controls",
            "_view_module_version": "1.5.0",
            "_view_name": "HTMLView",
            "description": "",
            "description_tooltip": null,
            "layout": "IPY_MODEL_d77d9ebd7d9241c2b3dddcfde16833a0",
            "placeholder": "​",
            "style": "IPY_MODEL_13a0cb09a6ca44a9bddfcf05967c1b27",
            "value": "merges.txt: 100%"
          }
        },
        "bb0b8001fbe84ca7bebcd99ab715e499": {
          "model_module": "@jupyter-widgets/controls",
          "model_name": "FloatProgressModel",
          "model_module_version": "1.5.0",
          "state": {
            "_dom_classes": [],
            "_model_module": "@jupyter-widgets/controls",
            "_model_module_version": "1.5.0",
            "_model_name": "FloatProgressModel",
            "_view_count": null,
            "_view_module": "@jupyter-widgets/controls",
            "_view_module_version": "1.5.0",
            "_view_name": "ProgressView",
            "bar_style": "success",
            "description": "",
            "description_tooltip": null,
            "layout": "IPY_MODEL_d2f1a78c34db48478a0dfc3d940b4661",
            "max": 456318,
            "min": 0,
            "orientation": "horizontal",
            "style": "IPY_MODEL_170e49a652c44913bad23e41f165c77f",
            "value": 456318
          }
        },
        "f3a6908abea6494e836b363a0ec7323a": {
          "model_module": "@jupyter-widgets/controls",
          "model_name": "HTMLModel",
          "model_module_version": "1.5.0",
          "state": {
            "_dom_classes": [],
            "_model_module": "@jupyter-widgets/controls",
            "_model_module_version": "1.5.0",
            "_model_name": "HTMLModel",
            "_view_count": null,
            "_view_module": "@jupyter-widgets/controls",
            "_view_module_version": "1.5.0",
            "_view_name": "HTMLView",
            "description": "",
            "description_tooltip": null,
            "layout": "IPY_MODEL_b5b9651eb66644e8985c695285158021",
            "placeholder": "​",
            "style": "IPY_MODEL_70bf49f8174740cd9814963ffa51d038",
            "value": " 456k/456k [00:00&lt;00:00, 7.04MB/s]"
          }
        },
        "0e5771d4020741318d1c833f469ac3d3": {
          "model_module": "@jupyter-widgets/base",
          "model_name": "LayoutModel",
          "model_module_version": "1.2.0",
          "state": {
            "_model_module": "@jupyter-widgets/base",
            "_model_module_version": "1.2.0",
            "_model_name": "LayoutModel",
            "_view_count": null,
            "_view_module": "@jupyter-widgets/base",
            "_view_module_version": "1.2.0",
            "_view_name": "LayoutView",
            "align_content": null,
            "align_items": null,
            "align_self": null,
            "border": null,
            "bottom": null,
            "display": null,
            "flex": null,
            "flex_flow": null,
            "grid_area": null,
            "grid_auto_columns": null,
            "grid_auto_flow": null,
            "grid_auto_rows": null,
            "grid_column": null,
            "grid_gap": null,
            "grid_row": null,
            "grid_template_areas": null,
            "grid_template_columns": null,
            "grid_template_rows": null,
            "height": null,
            "justify_content": null,
            "justify_items": null,
            "left": null,
            "margin": null,
            "max_height": null,
            "max_width": null,
            "min_height": null,
            "min_width": null,
            "object_fit": null,
            "object_position": null,
            "order": null,
            "overflow": null,
            "overflow_x": null,
            "overflow_y": null,
            "padding": null,
            "right": null,
            "top": null,
            "visibility": null,
            "width": null
          }
        },
        "d77d9ebd7d9241c2b3dddcfde16833a0": {
          "model_module": "@jupyter-widgets/base",
          "model_name": "LayoutModel",
          "model_module_version": "1.2.0",
          "state": {
            "_model_module": "@jupyter-widgets/base",
            "_model_module_version": "1.2.0",
            "_model_name": "LayoutModel",
            "_view_count": null,
            "_view_module": "@jupyter-widgets/base",
            "_view_module_version": "1.2.0",
            "_view_name": "LayoutView",
            "align_content": null,
            "align_items": null,
            "align_self": null,
            "border": null,
            "bottom": null,
            "display": null,
            "flex": null,
            "flex_flow": null,
            "grid_area": null,
            "grid_auto_columns": null,
            "grid_auto_flow": null,
            "grid_auto_rows": null,
            "grid_column": null,
            "grid_gap": null,
            "grid_row": null,
            "grid_template_areas": null,
            "grid_template_columns": null,
            "grid_template_rows": null,
            "height": null,
            "justify_content": null,
            "justify_items": null,
            "left": null,
            "margin": null,
            "max_height": null,
            "max_width": null,
            "min_height": null,
            "min_width": null,
            "object_fit": null,
            "object_position": null,
            "order": null,
            "overflow": null,
            "overflow_x": null,
            "overflow_y": null,
            "padding": null,
            "right": null,
            "top": null,
            "visibility": null,
            "width": null
          }
        },
        "13a0cb09a6ca44a9bddfcf05967c1b27": {
          "model_module": "@jupyter-widgets/controls",
          "model_name": "DescriptionStyleModel",
          "model_module_version": "1.5.0",
          "state": {
            "_model_module": "@jupyter-widgets/controls",
            "_model_module_version": "1.5.0",
            "_model_name": "DescriptionStyleModel",
            "_view_count": null,
            "_view_module": "@jupyter-widgets/base",
            "_view_module_version": "1.2.0",
            "_view_name": "StyleView",
            "description_width": ""
          }
        },
        "d2f1a78c34db48478a0dfc3d940b4661": {
          "model_module": "@jupyter-widgets/base",
          "model_name": "LayoutModel",
          "model_module_version": "1.2.0",
          "state": {
            "_model_module": "@jupyter-widgets/base",
            "_model_module_version": "1.2.0",
            "_model_name": "LayoutModel",
            "_view_count": null,
            "_view_module": "@jupyter-widgets/base",
            "_view_module_version": "1.2.0",
            "_view_name": "LayoutView",
            "align_content": null,
            "align_items": null,
            "align_self": null,
            "border": null,
            "bottom": null,
            "display": null,
            "flex": null,
            "flex_flow": null,
            "grid_area": null,
            "grid_auto_columns": null,
            "grid_auto_flow": null,
            "grid_auto_rows": null,
            "grid_column": null,
            "grid_gap": null,
            "grid_row": null,
            "grid_template_areas": null,
            "grid_template_columns": null,
            "grid_template_rows": null,
            "height": null,
            "justify_content": null,
            "justify_items": null,
            "left": null,
            "margin": null,
            "max_height": null,
            "max_width": null,
            "min_height": null,
            "min_width": null,
            "object_fit": null,
            "object_position": null,
            "order": null,
            "overflow": null,
            "overflow_x": null,
            "overflow_y": null,
            "padding": null,
            "right": null,
            "top": null,
            "visibility": null,
            "width": null
          }
        },
        "170e49a652c44913bad23e41f165c77f": {
          "model_module": "@jupyter-widgets/controls",
          "model_name": "ProgressStyleModel",
          "model_module_version": "1.5.0",
          "state": {
            "_model_module": "@jupyter-widgets/controls",
            "_model_module_version": "1.5.0",
            "_model_name": "ProgressStyleModel",
            "_view_count": null,
            "_view_module": "@jupyter-widgets/base",
            "_view_module_version": "1.2.0",
            "_view_name": "StyleView",
            "bar_color": null,
            "description_width": ""
          }
        },
        "b5b9651eb66644e8985c695285158021": {
          "model_module": "@jupyter-widgets/base",
          "model_name": "LayoutModel",
          "model_module_version": "1.2.0",
          "state": {
            "_model_module": "@jupyter-widgets/base",
            "_model_module_version": "1.2.0",
            "_model_name": "LayoutModel",
            "_view_count": null,
            "_view_module": "@jupyter-widgets/base",
            "_view_module_version": "1.2.0",
            "_view_name": "LayoutView",
            "align_content": null,
            "align_items": null,
            "align_self": null,
            "border": null,
            "bottom": null,
            "display": null,
            "flex": null,
            "flex_flow": null,
            "grid_area": null,
            "grid_auto_columns": null,
            "grid_auto_flow": null,
            "grid_auto_rows": null,
            "grid_column": null,
            "grid_gap": null,
            "grid_row": null,
            "grid_template_areas": null,
            "grid_template_columns": null,
            "grid_template_rows": null,
            "height": null,
            "justify_content": null,
            "justify_items": null,
            "left": null,
            "margin": null,
            "max_height": null,
            "max_width": null,
            "min_height": null,
            "min_width": null,
            "object_fit": null,
            "object_position": null,
            "order": null,
            "overflow": null,
            "overflow_x": null,
            "overflow_y": null,
            "padding": null,
            "right": null,
            "top": null,
            "visibility": null,
            "width": null
          }
        },
        "70bf49f8174740cd9814963ffa51d038": {
          "model_module": "@jupyter-widgets/controls",
          "model_name": "DescriptionStyleModel",
          "model_module_version": "1.5.0",
          "state": {
            "_model_module": "@jupyter-widgets/controls",
            "_model_module_version": "1.5.0",
            "_model_name": "DescriptionStyleModel",
            "_view_count": null,
            "_view_module": "@jupyter-widgets/base",
            "_view_module_version": "1.2.0",
            "_view_name": "StyleView",
            "description_width": ""
          }
        },
        "69163c7f3c6a422982e4f7ecbcc4e489": {
          "model_module": "@jupyter-widgets/controls",
          "model_name": "HBoxModel",
          "model_module_version": "1.5.0",
          "state": {
            "_dom_classes": [],
            "_model_module": "@jupyter-widgets/controls",
            "_model_module_version": "1.5.0",
            "_model_name": "HBoxModel",
            "_view_count": null,
            "_view_module": "@jupyter-widgets/controls",
            "_view_module_version": "1.5.0",
            "_view_name": "HBoxView",
            "box_style": "",
            "children": [
              "IPY_MODEL_d9c08537fccd475fb7e04f099707ef60",
              "IPY_MODEL_4458b7b4d0b24aadb3bf657fa4e6f2d2",
              "IPY_MODEL_85e88bc3cc3346e2943b4a6cec16140e"
            ],
            "layout": "IPY_MODEL_c78a3810017b4b07a73a068d20f8a14d"
          }
        },
        "d9c08537fccd475fb7e04f099707ef60": {
          "model_module": "@jupyter-widgets/controls",
          "model_name": "HTMLModel",
          "model_module_version": "1.5.0",
          "state": {
            "_dom_classes": [],
            "_model_module": "@jupyter-widgets/controls",
            "_model_module_version": "1.5.0",
            "_model_name": "HTMLModel",
            "_view_count": null,
            "_view_module": "@jupyter-widgets/controls",
            "_view_module_version": "1.5.0",
            "_view_name": "HTMLView",
            "description": "",
            "description_tooltip": null,
            "layout": "IPY_MODEL_620d3037e0894be7ae3bc625c10745b7",
            "placeholder": "​",
            "style": "IPY_MODEL_6ceefe7174f54676a1504b1154620008",
            "value": "tokenizer.json: 100%"
          }
        },
        "4458b7b4d0b24aadb3bf657fa4e6f2d2": {
          "model_module": "@jupyter-widgets/controls",
          "model_name": "FloatProgressModel",
          "model_module_version": "1.5.0",
          "state": {
            "_dom_classes": [],
            "_model_module": "@jupyter-widgets/controls",
            "_model_module_version": "1.5.0",
            "_model_name": "FloatProgressModel",
            "_view_count": null,
            "_view_module": "@jupyter-widgets/controls",
            "_view_module_version": "1.5.0",
            "_view_name": "ProgressView",
            "bar_style": "success",
            "description": "",
            "description_tooltip": null,
            "layout": "IPY_MODEL_4f834fb47097411e9fece1805dd2e492",
            "max": 1355863,
            "min": 0,
            "orientation": "horizontal",
            "style": "IPY_MODEL_b384d44144d245dba40edf045d3b30b7",
            "value": 1355863
          }
        },
        "85e88bc3cc3346e2943b4a6cec16140e": {
          "model_module": "@jupyter-widgets/controls",
          "model_name": "HTMLModel",
          "model_module_version": "1.5.0",
          "state": {
            "_dom_classes": [],
            "_model_module": "@jupyter-widgets/controls",
            "_model_module_version": "1.5.0",
            "_model_name": "HTMLModel",
            "_view_count": null,
            "_view_module": "@jupyter-widgets/controls",
            "_view_module_version": "1.5.0",
            "_view_name": "HTMLView",
            "description": "",
            "description_tooltip": null,
            "layout": "IPY_MODEL_ec57e3b3695a4bd9888713ab6bf872b4",
            "placeholder": "​",
            "style": "IPY_MODEL_8eb000c814c74dea83a1b7047055def3",
            "value": " 1.36M/1.36M [00:00&lt;00:00, 5.84MB/s]"
          }
        },
        "c78a3810017b4b07a73a068d20f8a14d": {
          "model_module": "@jupyter-widgets/base",
          "model_name": "LayoutModel",
          "model_module_version": "1.2.0",
          "state": {
            "_model_module": "@jupyter-widgets/base",
            "_model_module_version": "1.2.0",
            "_model_name": "LayoutModel",
            "_view_count": null,
            "_view_module": "@jupyter-widgets/base",
            "_view_module_version": "1.2.0",
            "_view_name": "LayoutView",
            "align_content": null,
            "align_items": null,
            "align_self": null,
            "border": null,
            "bottom": null,
            "display": null,
            "flex": null,
            "flex_flow": null,
            "grid_area": null,
            "grid_auto_columns": null,
            "grid_auto_flow": null,
            "grid_auto_rows": null,
            "grid_column": null,
            "grid_gap": null,
            "grid_row": null,
            "grid_template_areas": null,
            "grid_template_columns": null,
            "grid_template_rows": null,
            "height": null,
            "justify_content": null,
            "justify_items": null,
            "left": null,
            "margin": null,
            "max_height": null,
            "max_width": null,
            "min_height": null,
            "min_width": null,
            "object_fit": null,
            "object_position": null,
            "order": null,
            "overflow": null,
            "overflow_x": null,
            "overflow_y": null,
            "padding": null,
            "right": null,
            "top": null,
            "visibility": null,
            "width": null
          }
        },
        "620d3037e0894be7ae3bc625c10745b7": {
          "model_module": "@jupyter-widgets/base",
          "model_name": "LayoutModel",
          "model_module_version": "1.2.0",
          "state": {
            "_model_module": "@jupyter-widgets/base",
            "_model_module_version": "1.2.0",
            "_model_name": "LayoutModel",
            "_view_count": null,
            "_view_module": "@jupyter-widgets/base",
            "_view_module_version": "1.2.0",
            "_view_name": "LayoutView",
            "align_content": null,
            "align_items": null,
            "align_self": null,
            "border": null,
            "bottom": null,
            "display": null,
            "flex": null,
            "flex_flow": null,
            "grid_area": null,
            "grid_auto_columns": null,
            "grid_auto_flow": null,
            "grid_auto_rows": null,
            "grid_column": null,
            "grid_gap": null,
            "grid_row": null,
            "grid_template_areas": null,
            "grid_template_columns": null,
            "grid_template_rows": null,
            "height": null,
            "justify_content": null,
            "justify_items": null,
            "left": null,
            "margin": null,
            "max_height": null,
            "max_width": null,
            "min_height": null,
            "min_width": null,
            "object_fit": null,
            "object_position": null,
            "order": null,
            "overflow": null,
            "overflow_x": null,
            "overflow_y": null,
            "padding": null,
            "right": null,
            "top": null,
            "visibility": null,
            "width": null
          }
        },
        "6ceefe7174f54676a1504b1154620008": {
          "model_module": "@jupyter-widgets/controls",
          "model_name": "DescriptionStyleModel",
          "model_module_version": "1.5.0",
          "state": {
            "_model_module": "@jupyter-widgets/controls",
            "_model_module_version": "1.5.0",
            "_model_name": "DescriptionStyleModel",
            "_view_count": null,
            "_view_module": "@jupyter-widgets/base",
            "_view_module_version": "1.2.0",
            "_view_name": "StyleView",
            "description_width": ""
          }
        },
        "4f834fb47097411e9fece1805dd2e492": {
          "model_module": "@jupyter-widgets/base",
          "model_name": "LayoutModel",
          "model_module_version": "1.2.0",
          "state": {
            "_model_module": "@jupyter-widgets/base",
            "_model_module_version": "1.2.0",
            "_model_name": "LayoutModel",
            "_view_count": null,
            "_view_module": "@jupyter-widgets/base",
            "_view_module_version": "1.2.0",
            "_view_name": "LayoutView",
            "align_content": null,
            "align_items": null,
            "align_self": null,
            "border": null,
            "bottom": null,
            "display": null,
            "flex": null,
            "flex_flow": null,
            "grid_area": null,
            "grid_auto_columns": null,
            "grid_auto_flow": null,
            "grid_auto_rows": null,
            "grid_column": null,
            "grid_gap": null,
            "grid_row": null,
            "grid_template_areas": null,
            "grid_template_columns": null,
            "grid_template_rows": null,
            "height": null,
            "justify_content": null,
            "justify_items": null,
            "left": null,
            "margin": null,
            "max_height": null,
            "max_width": null,
            "min_height": null,
            "min_width": null,
            "object_fit": null,
            "object_position": null,
            "order": null,
            "overflow": null,
            "overflow_x": null,
            "overflow_y": null,
            "padding": null,
            "right": null,
            "top": null,
            "visibility": null,
            "width": null
          }
        },
        "b384d44144d245dba40edf045d3b30b7": {
          "model_module": "@jupyter-widgets/controls",
          "model_name": "ProgressStyleModel",
          "model_module_version": "1.5.0",
          "state": {
            "_model_module": "@jupyter-widgets/controls",
            "_model_module_version": "1.5.0",
            "_model_name": "ProgressStyleModel",
            "_view_count": null,
            "_view_module": "@jupyter-widgets/base",
            "_view_module_version": "1.2.0",
            "_view_name": "StyleView",
            "bar_color": null,
            "description_width": ""
          }
        },
        "ec57e3b3695a4bd9888713ab6bf872b4": {
          "model_module": "@jupyter-widgets/base",
          "model_name": "LayoutModel",
          "model_module_version": "1.2.0",
          "state": {
            "_model_module": "@jupyter-widgets/base",
            "_model_module_version": "1.2.0",
            "_model_name": "LayoutModel",
            "_view_count": null,
            "_view_module": "@jupyter-widgets/base",
            "_view_module_version": "1.2.0",
            "_view_name": "LayoutView",
            "align_content": null,
            "align_items": null,
            "align_self": null,
            "border": null,
            "bottom": null,
            "display": null,
            "flex": null,
            "flex_flow": null,
            "grid_area": null,
            "grid_auto_columns": null,
            "grid_auto_flow": null,
            "grid_auto_rows": null,
            "grid_column": null,
            "grid_gap": null,
            "grid_row": null,
            "grid_template_areas": null,
            "grid_template_columns": null,
            "grid_template_rows": null,
            "height": null,
            "justify_content": null,
            "justify_items": null,
            "left": null,
            "margin": null,
            "max_height": null,
            "max_width": null,
            "min_height": null,
            "min_width": null,
            "object_fit": null,
            "object_position": null,
            "order": null,
            "overflow": null,
            "overflow_x": null,
            "overflow_y": null,
            "padding": null,
            "right": null,
            "top": null,
            "visibility": null,
            "width": null
          }
        },
        "8eb000c814c74dea83a1b7047055def3": {
          "model_module": "@jupyter-widgets/controls",
          "model_name": "DescriptionStyleModel",
          "model_module_version": "1.5.0",
          "state": {
            "_model_module": "@jupyter-widgets/controls",
            "_model_module_version": "1.5.0",
            "_model_name": "DescriptionStyleModel",
            "_view_count": null,
            "_view_module": "@jupyter-widgets/base",
            "_view_module_version": "1.2.0",
            "_view_name": "StyleView",
            "description_width": ""
          }
        }
      }
    }
  },
  "nbformat": 4,
  "nbformat_minor": 0
}